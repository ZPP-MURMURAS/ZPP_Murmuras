{
 "cells": [
  {
   "cell_type": "markdown",
   "id": "11b12207-d875-4b76-86ba-b3e55e4b42a4",
   "metadata": {},
   "source": [
    "# Overview\n",
    "The main focus of this notebook is to test the usage of ChatGPT in labeling data. Labeled data will be used to train a smaller model, such as BERT, that will then be deployed on mobile devices."
   ]
  },
  {
   "cell_type": "code",
   "execution_count": 32,
   "id": "ebb2d8b9-8648-4326-acc0-7800a3e8d11d",
   "metadata": {},
   "outputs": [],
   "source": [
    "import os\n",
    "import pandas as pd\n",
    "from openai import OpenAI\n",
    "from dotenv import load_dotenv"
   ]
  },
  {
   "cell_type": "markdown",
   "id": "9dd8ad6f-5c7f-435b-8c49-ed8d72f3c352",
   "metadata": {},
   "source": [
    "# API key"
   ]
  },
  {
   "cell_type": "code",
   "execution_count": 17,
   "id": "036c622e-7382-46a0-98ca-f5b681e8d6de",
   "metadata": {},
   "outputs": [],
   "source": [
    "load_dotenv()\n",
    "\n",
    "client = OpenAI(\n",
    "    api_key=os.environ.get(\"OPENAI_API_KEY\"),\n",
    ")"
   ]
  },
  {
   "cell_type": "markdown",
   "id": "c392d58c-7c12-4a6f-9f1e-fe8b9ae470d6",
   "metadata": {},
   "source": [
    "# Simple test"
   ]
  },
  {
   "cell_type": "code",
   "execution_count": 18,
   "id": "dc10790d-6e17-4841-8d51-28b8b591e4b4",
   "metadata": {},
   "outputs": [
    {
     "name": "stdout",
     "output_type": "stream",
     "text": [
      "The capital of Uruguay is Montevideo.\n"
     ]
    }
   ],
   "source": [
    "response = client.chat.completions.create(\n",
    "    messages=[\n",
    "        {\"role\": \"system\", \"content\": \"You are a geography expert.\"},\n",
    "        {\"role\": \"user\", \"content\": \"What is the capital of Uruguay?\"}\n",
    "    ],\n",
    "    model=\"gpt-4\",\n",
    ")\n",
    "\n",
    "response_content = response.choices[0].message.content\n",
    "\n",
    "print(response_content)"
   ]
  },
  {
   "cell_type": "markdown",
   "id": "ab0d4d3c-f364-456f-9686-feb23243d564",
   "metadata": {},
   "source": [
    "# Dataset\n",
    "To generate the training data I will use phone screen views in a csv format, that are flattened XML trees obtained using Android Accessibility API."
   ]
  },
  {
   "cell_type": "code",
   "execution_count": 34,
   "id": "33abc857-ec73-4792-9c2d-fd8df3118576",
   "metadata": {},
   "outputs": [
    {
     "data": {
      "text/html": [
       "<div>\n",
       "<style scoped>\n",
       "    .dataframe tbody tr th:only-of-type {\n",
       "        vertical-align: middle;\n",
       "    }\n",
       "\n",
       "    .dataframe tbody tr th {\n",
       "        vertical-align: top;\n",
       "    }\n",
       "\n",
       "    .dataframe thead th {\n",
       "        text-align: right;\n",
       "    }\n",
       "</style>\n",
       "<table border=\"1\" class=\"dataframe\">\n",
       "  <thead>\n",
       "    <tr style=\"text-align: right;\">\n",
       "      <th></th>\n",
       "      <th>ID</th>\n",
       "      <th>User ID</th>\n",
       "      <th>Time</th>\n",
       "      <th>I</th>\n",
       "      <th>Language</th>\n",
       "      <th>Application Name</th>\n",
       "      <th>Package Name</th>\n",
       "      <th>Class Name</th>\n",
       "      <th>Context</th>\n",
       "      <th>View ID</th>\n",
       "      <th>View Depth</th>\n",
       "      <th>View Class Name</th>\n",
       "      <th>Text</th>\n",
       "      <th>Description</th>\n",
       "      <th>Seen Timestamp</th>\n",
       "      <th>Is Visible</th>\n",
       "      <th>X 1</th>\n",
       "      <th>Y 1</th>\n",
       "      <th>X 2</th>\n",
       "      <th>Y 2</th>\n",
       "    </tr>\n",
       "  </thead>\n",
       "  <tbody>\n",
       "    <tr>\n",
       "      <th>0</th>\n",
       "      <td>18929485529</td>\n",
       "      <td>165559</td>\n",
       "      <td>2024-09-04T10:55:25.287</td>\n",
       "      <td>1</td>\n",
       "      <td>de</td>\n",
       "      <td>PENNY</td>\n",
       "      <td>de.penny.app</td>\n",
       "      <td>de.penny.app.main.view.MainActivity</td>\n",
       "      <td>NaN</td>\n",
       "      <td>NaN</td>\n",
       "      <td>0</td>\n",
       "      <td>de.penny.app.main.view.MainActivity</td>\n",
       "      <td>NaN</td>\n",
       "      <td>NaN</td>\n",
       "      <td>0</td>\n",
       "      <td>False</td>\n",
       "      <td>0</td>\n",
       "      <td>0</td>\n",
       "      <td>0</td>\n",
       "      <td>0</td>\n",
       "    </tr>\n",
       "    <tr>\n",
       "      <th>1</th>\n",
       "      <td>18929485529</td>\n",
       "      <td>165559</td>\n",
       "      <td>2024-09-04T10:55:25.287</td>\n",
       "      <td>2</td>\n",
       "      <td>de</td>\n",
       "      <td>PENNY</td>\n",
       "      <td>de.penny.app</td>\n",
       "      <td>de.penny.app.main.view.MainActivity</td>\n",
       "      <td>NaN</td>\n",
       "      <td>android:id/content</td>\n",
       "      <td>2</td>\n",
       "      <td>android.widget.FrameLayout</td>\n",
       "      <td>NaN</td>\n",
       "      <td>NaN</td>\n",
       "      <td>1725440082464</td>\n",
       "      <td>True</td>\n",
       "      <td>0</td>\n",
       "      <td>0</td>\n",
       "      <td>1080</td>\n",
       "      <td>2400</td>\n",
       "    </tr>\n",
       "    <tr>\n",
       "      <th>2</th>\n",
       "      <td>18929485529</td>\n",
       "      <td>165559</td>\n",
       "      <td>2024-09-04T10:55:25.287</td>\n",
       "      <td>3</td>\n",
       "      <td>de</td>\n",
       "      <td>PENNY</td>\n",
       "      <td>de.penny.app</td>\n",
       "      <td>de.penny.app.main.view.MainActivity</td>\n",
       "      <td>NaN</td>\n",
       "      <td>NaN</td>\n",
       "      <td>11</td>\n",
       "      <td>android.widget.TextView</td>\n",
       "      <td>UVP 14.99</td>\n",
       "      <td>NaN</td>\n",
       "      <td>1725440082464</td>\n",
       "      <td>True</td>\n",
       "      <td>339</td>\n",
       "      <td>833</td>\n",
       "      <td>498</td>\n",
       "      <td>874</td>\n",
       "    </tr>\n",
       "    <tr>\n",
       "      <th>3</th>\n",
       "      <td>18929485529</td>\n",
       "      <td>165559</td>\n",
       "      <td>2024-09-04T10:55:25.287</td>\n",
       "      <td>4</td>\n",
       "      <td>de</td>\n",
       "      <td>PENNY</td>\n",
       "      <td>de.penny.app</td>\n",
       "      <td>de.penny.app.main.view.MainActivity</td>\n",
       "      <td>NaN</td>\n",
       "      <td>NaN</td>\n",
       "      <td>11</td>\n",
       "      <td>android.widget.TextView</td>\n",
       "      <td>9.99</td>\n",
       "      <td>NaN</td>\n",
       "      <td>1725440082464</td>\n",
       "      <td>True</td>\n",
       "      <td>356</td>\n",
       "      <td>884</td>\n",
       "      <td>482</td>\n",
       "      <td>960</td>\n",
       "    </tr>\n",
       "    <tr>\n",
       "      <th>4</th>\n",
       "      <td>18929485529</td>\n",
       "      <td>165559</td>\n",
       "      <td>2024-09-04T10:55:25.287</td>\n",
       "      <td>5</td>\n",
       "      <td>de</td>\n",
       "      <td>PENNY</td>\n",
       "      <td>de.penny.app</td>\n",
       "      <td>de.penny.app.main.view.MainActivity</td>\n",
       "      <td>NaN</td>\n",
       "      <td>NaN</td>\n",
       "      <td>10</td>\n",
       "      <td>android.widget.TextView</td>\n",
       "      <td>UVP</td>\n",
       "      <td>NaN</td>\n",
       "      <td>1725440082464</td>\n",
       "      <td>True</td>\n",
       "      <td>63</td>\n",
       "      <td>986</td>\n",
       "      <td>125</td>\n",
       "      <td>1027</td>\n",
       "    </tr>\n",
       "  </tbody>\n",
       "</table>\n",
       "</div>"
      ],
      "text/plain": [
       "            ID  User ID                     Time  I Language Application Name  \\\n",
       "0  18929485529   165559  2024-09-04T10:55:25.287  1       de            PENNY   \n",
       "1  18929485529   165559  2024-09-04T10:55:25.287  2       de            PENNY   \n",
       "2  18929485529   165559  2024-09-04T10:55:25.287  3       de            PENNY   \n",
       "3  18929485529   165559  2024-09-04T10:55:25.287  4       de            PENNY   \n",
       "4  18929485529   165559  2024-09-04T10:55:25.287  5       de            PENNY   \n",
       "\n",
       "   Package Name                           Class Name  Context  \\\n",
       "0  de.penny.app  de.penny.app.main.view.MainActivity      NaN   \n",
       "1  de.penny.app  de.penny.app.main.view.MainActivity      NaN   \n",
       "2  de.penny.app  de.penny.app.main.view.MainActivity      NaN   \n",
       "3  de.penny.app  de.penny.app.main.view.MainActivity      NaN   \n",
       "4  de.penny.app  de.penny.app.main.view.MainActivity      NaN   \n",
       "\n",
       "              View ID  View Depth                      View Class Name  \\\n",
       "0                 NaN           0  de.penny.app.main.view.MainActivity   \n",
       "1  android:id/content           2           android.widget.FrameLayout   \n",
       "2                 NaN          11              android.widget.TextView   \n",
       "3                 NaN          11              android.widget.TextView   \n",
       "4                 NaN          10              android.widget.TextView   \n",
       "\n",
       "        Text  Description  Seen Timestamp  Is Visible  X 1  Y 1   X 2   Y 2  \n",
       "0        NaN          NaN               0       False    0    0     0     0  \n",
       "1        NaN          NaN   1725440082464        True    0    0  1080  2400  \n",
       "2  UVP 14.99          NaN   1725440082464        True  339  833   498   874  \n",
       "3       9.99          NaN   1725440082464        True  356  884   482   960  \n",
       "4        UVP          NaN   1725440082464        True   63  986   125  1027  "
      ]
     },
     "execution_count": 34,
     "metadata": {},
     "output_type": "execute_result"
    }
   ],
   "source": [
    "coupon_df = pd.read_csv(\"data/18929485529.csv\")\n",
    "coupon_df.head()"
   ]
  },
  {
   "cell_type": "markdown",
   "id": "955bef7d-845c-43ac-8a37-f102bf6307e3",
   "metadata": {},
   "source": [
    "# Labels"
   ]
  },
  {
   "cell_type": "code",
   "execution_count": 50,
   "id": "b56116f0-e5a6-4fba-b292-a52d3e86c5a4",
   "metadata": {},
   "outputs": [],
   "source": [
    "ner_tags = [\"N/A\", \"PRODUCT\", \"PRICE\"]"
   ]
  },
  {
   "cell_type": "markdown",
   "id": "c4eec828-822e-49db-bf39-bd61db02d3bc",
   "metadata": {},
   "source": [
    "# First approach (text only)\n",
    "The first approach will consist of coalescing all of the text fields from one application and point in time into a single string. It should be noted that in one text filed there could be multiple entities that need to be labeled, so, in the general case, we shouldn't label csv rows."
   ]
  },
  {
   "cell_type": "code",
   "execution_count": 36,
   "id": "f16b250a-18bd-45d5-91d3-fa8332ea5f24",
   "metadata": {},
   "outputs": [
    {
     "name": "stdout",
     "output_type": "stream",
     "text": [
      "['', 'UVP 14.99 9.99 UVP JOHNNIE WALKER Red Label Blended Scotch je 0,7 I UVP 0.99 0.75 UVP SAN MIGUEL Especial je 0,5 I UVP 2.99 2.79 UVP FELIX Knabber Mix je 200 g 3.89 Preisknaller FELIX So gut wie es aussieht in Gelee je 12 x 85 g Sparen auf Top-Marken ab 05.09. bis 07.09. Angebote Vorteile Einkaufsliste Vorteilscode Mein PENNY', 'UVP 14.99 9.99 UVP JOHNNIE WALKER Red Label Blended Scotch je 0,7 I UVP 0.99 0.75 UVP SAN MIGUEL Especial je 0,5 I', 'UVP 14.99 9.99 UVP JOHNNIE WALKER Red Label Blended Scotch je 0,7 I UVP 0.99 0.75 UVP SAN MIGUEL Especial je 0,5 I UVP 2.99 2.79 UVP FELIX Knabber Mix je 200 g 3.89 Preisknaller FELIX So gut wie es aussieht in Gelee je 12 x 85 g Framstag ab 06.09. bis 07.09.', 'UVP 2.99 2.79 UVP FELIX Knabber Mix je 200 g 3.89 Preisknaller FELIX So gut wie es aussieht in Gelee je 12 x 85 g Framstag ab 06.09. bis 07.09. UVP 8.99 5.85 UVP CHANTRÉ Weinbrand je 0,7 I', 'Framstag ab 06.09. bis 07.09. UVP 8.99 5.85 UVP CHANTRÉ Weinbrand je 0,7 I 2.79 2.49 1.09 0.69', 'UVP 8.99 5.85 UVP CHANTRÉ Weinbrand je 0,7 I 2.79 2.49 10% gespart PENNY Gouda-Scheiben je 400 g 1.09 0.69 36% gespart KINDER Überraschungs-Ei je 20 g Framstag ab 06.09. bis 07.09.']\n"
     ]
    }
   ],
   "source": [
    "grouping_columns = ['Application Name', 'Seen Timestamp']\n",
    "grouped_dfs = [group for _, group in coupon_df.groupby(grouping_columns)]\n",
    "view_texts_coalesced = [\" \".join(df['Text'].dropna()) for df in grouped_dfs]\n",
    "\n",
    "print(view_texts_coalesced)"
   ]
  },
  {
   "cell_type": "markdown",
   "id": "63ba4674-3442-4035-a75a-363e3bb12f64",
   "metadata": {},
   "source": [
    "# Inference"
   ]
  },
  {
   "cell_type": "code",
   "execution_count": 51,
   "id": "cf190c63-f6bc-435c-ad1d-da0da2a471f0",
   "metadata": {},
   "outputs": [
    {
     "name": "stdout",
     "output_type": "stream",
     "text": [
      "[\n",
      "    { \"entity\": \"UVP 14.99 9.99 UVP\", \"tag\": \"PRICE\" },\n",
      "    { \"entity\": \"JOHNNIE WALKER Red Label Blended Scotch\", \"tag\": \"PRODUCT\" },\n",
      "    { \"entity\": \"0,7 I UVP 0.99 0.75 UVP\", \"tag\": \"PRICE\" },\n",
      "    { \"entity\": \"SAN MIGUEL Especial\", \"tag\": \"PRODUCT\" },\n",
      "    { \"entity\": \"0,5 I UVP 2.99 2.79 UVP\", \"tag\": \"PRICE\" },\n",
      "    { \"entity\": \"FELIX Knabber Mix\", \"tag\": \"PRODUCT\" },\n",
      "    { \"entity\": \"je 200 g 3.89\", \"tag\": \"PRICE\" },\n",
      "    { \"entity\": \"Preisknaller FELIX So gut wie es aussieht in Gelee\", \"tag\": \"PRODUCT\" },\n",
      "    { \"entity\": \"je 12 x 85 g\", \"tag\": \"PRICE\" },\n",
      "    { \"entity\": \"Sparen auf Top-Marken ab 05.09. bis 07.09.\", \"tag\": \"N/A\" },\n",
      "    { \"entity\": \"Angebote Vorteile Einkaufsliste Vorteilscode Mein PENNY\", \"tag\": \"N/A\" }\n",
      "]\n"
     ]
    }
   ],
   "source": [
    "def text_only_labeling(text, tags, temperature=0):\n",
    "    prompt = f\"\"\"\n",
    "    You are an NER tagging assistant. Your task is to label all entities in the text based on the tags provided.\n",
    "    Here are the tags: {', '.join(tags)}\n",
    "\n",
    "    For each entity, return the entity and its tag.\n",
    "\n",
    "    Input text: \"{text}\"\n",
    "\n",
    "    Respond with the entities in this JSON format:\n",
    "    [\n",
    "        {{ \"entity\": str, \"tag\": str }},\n",
    "        ...\n",
    "    ]\n",
    "    \"\"\"\n",
    "    \n",
    "    response = client.chat.completions.create(\n",
    "        messages=[{\"role\": \"user\", \"content\": prompt}],\n",
    "        model=\"gpt-4\",\n",
    "        temperature=temperature\n",
    "    )\n",
    "\n",
    "    return response.choices[0].message.content\n",
    "\n",
    "print(text_only_labeling(view_texts_coalesced[1], ner_tags))"
   ]
  },
  {
   "cell_type": "markdown",
   "id": "f0df489b-faf2-4f91-b2bf-cede804ec095",
   "metadata": {},
   "source": [
    "There are some issues. The weight is being labeled as a price, so let's try adding more labels."
   ]
  },
  {
   "cell_type": "code",
   "execution_count": 53,
   "id": "99554a40-74e5-4cb1-bae2-9cd3860d71e0",
   "metadata": {},
   "outputs": [
    {
     "name": "stdout",
     "output_type": "stream",
     "text": [
      "[\n",
      "    { \"entity\": \"UVP 14.99 9.99 UVP\", \"tag\": \"PRICE\" },\n",
      "    { \"entity\": \"JOHNNIE WALKER Red Label Blended Scotch\", \"tag\": \"PRODUCT\" },\n",
      "    { \"entity\": \"0,7 I\", \"tag\": \"WEIGHT\" },\n",
      "    { \"entity\": \"UVP 0.99 0.75 UVP\", \"tag\": \"PRICE\" },\n",
      "    { \"entity\": \"SAN MIGUEL Especial\", \"tag\": \"PRODUCT\" },\n",
      "    { \"entity\": \"0,5 I\", \"tag\": \"WEIGHT\" },\n",
      "    { \"entity\": \"UVP 2.99 2.79 UVP\", \"tag\": \"PRICE\" },\n",
      "    { \"entity\": \"FELIX Knabber Mix\", \"tag\": \"PRODUCT\" },\n",
      "    { \"entity\": \"200 g\", \"tag\": \"WEIGHT\" },\n",
      "    { \"entity\": \"3.89\", \"tag\": \"PRICE\" },\n",
      "    { \"entity\": \"FELIX So gut wie es aussieht in Gelee\", \"tag\": \"PRODUCT\" },\n",
      "    { \"entity\": \"12 x 85 g\", \"tag\": \"WEIGHT\" },\n",
      "    { \"entity\": \"05.09. bis 07.09.\", \"tag\": \"N/A\" },\n",
      "    { \"entity\": \"Angebote Vorteile Einkaufsliste Vorteilscode Mein PENNY\", \"tag\": \"N/A\" }\n",
      "]\n"
     ]
    }
   ],
   "source": [
    "ner_tags_extended = ner_tags + [\"WEIGHT\"]\n",
    "\n",
    "print(text_only_labeling(view_texts_coalesced[1], ner_tags_extended))"
   ]
  },
  {
   "cell_type": "markdown",
   "id": "d1262641-01b1-4f51-b45f-f63a51663071",
   "metadata": {},
   "source": [
    "That seems to have solved the issue. As can be seen, two prices are being extracted as one entity, but that could be easily fixed in postprocessing. Let's try a different part of the dataset."
   ]
  },
  {
   "cell_type": "code",
   "execution_count": 55,
   "id": "7d6cd6fa-2205-4398-a658-cd6925fec385",
   "metadata": {},
   "outputs": [
    {
     "name": "stdout",
     "output_type": "stream",
     "text": [
      "[\n",
      "    { \"entity\": \"UVP 8.99 5.85 UVP\", \"tag\": \"PRICE\" },\n",
      "    { \"entity\": \"CHANTRÉ Weinbrand\", \"tag\": \"PRODUCT\" },\n",
      "    { \"entity\": \"0,7 I\", \"tag\": \"WEIGHT\" },\n",
      "    { \"entity\": \"2.79 2.49\", \"tag\": \"PRICE\" },\n",
      "    { \"entity\": \"10% gespart\", \"tag\": \"N/A\" },\n",
      "    { \"entity\": \"PENNY Gouda-Scheiben\", \"tag\": \"PRODUCT\" },\n",
      "    { \"entity\": \"je 400 g\", \"tag\": \"WEIGHT\" },\n",
      "    { \"entity\": \"1.09 0.69\", \"tag\": \"PRICE\" },\n",
      "    { \"entity\": \"36% gespart\", \"tag\": \"N/A\" },\n",
      "    { \"entity\": \"KINDER Überraschungs-Ei\", \"tag\": \"PRODUCT\" },\n",
      "    { \"entity\": \"je 20 g\", \"tag\": \"WEIGHT\" },\n",
      "    { \"entity\": \"Framstag ab 06.09. bis 07.09.\", \"tag\": \"N/A\" }\n",
      "]\n"
     ]
    }
   ],
   "source": [
    "print(text_only_labeling(view_texts_coalesced[6], ner_tags_extended))"
   ]
  }
 ],
 "metadata": {
  "kernelspec": {
   "display_name": "Python 3 (ipykernel)",
   "language": "python",
   "name": "python3"
  },
  "language_info": {
   "codemirror_mode": {
    "name": "ipython",
    "version": 3
   },
   "file_extension": ".py",
   "mimetype": "text/x-python",
   "name": "python",
   "nbconvert_exporter": "python",
   "pygments_lexer": "ipython3",
   "version": "3.12.7"
  }
 },
 "nbformat": 4,
 "nbformat_minor": 5
}
