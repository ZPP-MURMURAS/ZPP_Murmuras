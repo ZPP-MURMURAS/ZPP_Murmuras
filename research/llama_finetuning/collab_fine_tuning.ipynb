{
 "cells": [
  {
   "metadata": {
    "ExecuteTime": {
     "end_time": "2025-01-06T21:37:30.645235Z",
     "start_time": "2025-01-06T21:37:30.639942Z"
    }
   },
   "cell_type": "code",
   "source": [
    "!pip install trl\n",
    "!pip install transformers\n",
    "!pip install accelerate\n",
    "!pip install datasets\n",
    "!pip install unsloth\n",
    "!pip install -U bitsandbytes\n",
    "!pip install triton --index-url https://pypi.org/simple"
   ],
   "id": "4bf4d0f8264baafa",
   "outputs": [],
   "execution_count": null
  },
  {
   "metadata": {},
   "cell_type": "markdown",
   "source": "# 1. Data exploration and cleaning",
   "id": "b47e530ac16b4332"
  },
  {
   "metadata": {},
   "cell_type": "code",
   "outputs": [],
   "execution_count": null,
   "source": [
    "import torch\n",
    "import torch\n",
    "print(torch.__version__)\n",
    "print(torch.version.cuda)\n",
    "from trl import SFTTrainer\n",
    "from transformers import TrainingArguments, TextStreamer\n",
    "from unsloth.chat_templates import get_chat_template\n",
    "from unsloth import FastLanguageModel\n",
    "from datasets import Dataset\n",
    "from unsloth import is_bfloat16_supported\n",
    "\n",
    "# Saving model\n",
    "from transformers import AutoTokenizer, AutoModelForSequenceClassification\n",
    "\n",
    "import os\n",
    "import numpy as np\n",
    "import pandas as pd\n",
    "import seaborn as sns\n",
    "import matplotlib.pyplot as plt\n",
    "plt.style.use('ggplot')\n",
    "\n",
    "data = pd.read_json(\"hf://datasets/Amod/mental_health_counseling_conversations/combined_dataset.json\", lines=True)\n",
    "\n",
    "data['Context_length'] = data['Context'].apply(len)\n",
    "plt.figure(figsize=(10, 3))\n",
    "sns.histplot(data['Context_length'], bins=50, kde=True)\n",
    "plt.title('Distribution of Context Lengths')\n",
    "plt.xlabel('Length of Context')\n",
    "plt.ylabel('Frequency')\n",
    "plt.show()\n",
    "\n",
    "filtered_data = data[data['Context_length'] <= 1500]\n",
    "\n",
    "ln_Context = filtered_data['Context'].apply(len)\n",
    "plt.figure(figsize=(10, 3))\n",
    "sns.histplot(ln_Context, bins=50, kde=True)\n",
    "plt.title('Distribution of Context Lengths')\n",
    "plt.xlabel('Length of Context')\n",
    "plt.ylabel('Frequency')\n",
    "plt.show()\n",
    "\n",
    "ln_Response = filtered_data['Response'].apply(len)\n",
    "plt.figure(figsize=(10, 3))\n",
    "sns.histplot(ln_Response, bins=50, kde=True, color='teal')\n",
    "plt.title('Distribution of Response Lengths')\n",
    "plt.xlabel('Length of Response')\n",
    "plt.ylabel('Frequency')\n",
    "plt.show()\n",
    "\n",
    "filtered_data = filtered_data[ln_Response <= 4000]\n",
    "\n",
    "ln_Response = filtered_data['Response'].apply(len)\n",
    "plt.figure(figsize=(10, 3))\n",
    "sns.histplot(ln_Response, bins=50, kde=True, color='teal')\n",
    "plt.title('Distribution of Response Lengths')\n",
    "plt.xlabel('Length of Response')\n",
    "plt.ylabel('Frequency')\n",
    "plt.show()\n"
   ],
   "id": "256cf17a6a7c8559"
  },
  {
   "metadata": {},
   "cell_type": "markdown",
   "source": [
    "# 2. Loading model\n",
    "Here we use FastLanguageModel from unsloth to load the model instead of the traditional way of loading the model directly from transformers."
   ],
   "id": "5855651e122de77f"
  },
  {
   "metadata": {},
   "cell_type": "code",
   "outputs": [],
   "execution_count": null,
   "source": [
    "max_seq_length = 4096\n",
    "model, tokenizer = FastLanguageModel.from_pretrained(\n",
    "    model_name=\"meta-llama/Llama-3.2-1B\",\n",
    "    max_seq_length=max_seq_length,\n",
    "    load_in_4bit=False,\n",
    "    dtype=None,\n",
    ")\n",
    "\n",
    "model = FastLanguageModel.get_peft_model(\n",
    "    model,\n",
    "    r=16,\n",
    "    lora_alpha=16,\n",
    "    lora_dropout=0,\n",
    "    target_modules=[\"q_proj\", \"k_proj\", \"v_proj\", \"up_proj\", \"down_proj\", \"o_proj\", \"gate_proj\"],\n",
    "    use_rslora=True,\n",
    "    use_gradient_checkpointing=\"unsloth\",\n",
    "    random_state = 32,\n",
    "    loftq_config = None,\n",
    ")\n",
    "print(model.print_trainable_parameters())"
   ],
   "id": "ce2a170748d69c0d"
  },
  {
   "metadata": {},
   "cell_type": "markdown",
   "source": [
    " # 3. Formatting the data\n",
    " Here we format the data so that each entry will be represented by:\n",
    " - Data prompt: it describes what needs to be done with the input data\n",
    "  - Input: In this case, a question regarding someone's mental health\n",
    "  - Response: The response to the question, which will be the target for the model to predict\n"
   ],
   "id": "b5e1920118ef8a80"
  },
  {
   "metadata": {},
   "cell_type": "code",
   "outputs": [],
   "execution_count": null,
   "source": [
    "data_prompt = \"\"\"Analyze the provided text from a mental health perspective. Identify any indicators of emotional distress, coping mechanisms, or psychological well-being. Highlight any potential concerns or positive aspects related to mental health, and provide a brief explanation for each observation.\n",
    "\n",
    "### Input:\n",
    "{}\n",
    "\n",
    "### Response:\n",
    "{}\"\"\"\n",
    "\n",
    "EOS_TOKEN = tokenizer.eos_token\n",
    "def formatting_prompt(examples):\n",
    "    inputs       = examples[\"Context\"]\n",
    "    outputs      = examples[\"Response\"]\n",
    "    texts = []\n",
    "    for input_, output in zip(inputs, outputs):\n",
    "        text = data_prompt.format(input_, output) + EOS_TOKEN\n",
    "        texts.append(text)\n",
    "    return { \"text\" : texts, }\n"
   ],
   "id": "9a7567adeb7319a6"
  },
  {
   "metadata": {},
   "cell_type": "code",
   "outputs": [],
   "execution_count": null,
   "source": [
    "training_data = Dataset.from_pandas(filtered_data)\n",
    "training_data = training_data.map(formatting_prompt, batched=True)\n",
    "training_data"
   ],
   "id": "dc09c27f58e82058"
  },
  {
   "metadata": {},
   "cell_type": "markdown",
   "source": [
    "# 4. Training the model\n",
    "Here we define various training params for the SFTTrainer from the trl library (instead of the Hugging Face Trainer like in the BERT's fine-tuning) and train the model."
   ],
   "id": "4875b19bc70381ab"
  },
  {
   "metadata": {},
   "cell_type": "code",
   "outputs": [],
   "execution_count": null,
   "source": [
    "import os\n",
    "# WANDB is a service that works similar to the ClearML; it is used to log remotely the training process.\n",
    "# I disabled it here, as you need an account for it to work, but we can decide whether we want it or not later.\n",
    "os.environ[\"WANDB_DISABLED\"] = \"true\"\n",
    "\n",
    "\n",
    "trainer=SFTTrainer(\n",
    "    model=model,\n",
    "    tokenizer=tokenizer,\n",
    "    train_dataset=training_data,\n",
    "    dataset_text_field=\"text\",\n",
    "    max_seq_length=max_seq_length,\n",
    "    dataset_num_proc=2,\n",
    "    packing=True,\n",
    "    args=TrainingArguments(\n",
    "        learning_rate=3e-4,\n",
    "        lr_scheduler_type=\"linear\",\n",
    "        per_device_train_batch_size=16,\n",
    "        gradient_accumulation_steps=8,\n",
    "        num_train_epochs=4,\n",
    "        fp16=not is_bfloat16_supported(),\n",
    "        bf16=is_bfloat16_supported(),\n",
    "        logging_steps=1,\n",
    "        optim=\"adamw_8bit\",\n",
    "        weight_decay=0.01,\n",
    "        warmup_steps=10,\n",
    "        output_dir=\"output\",\n",
    "        seed=0,\n",
    "    ),\n",
    ")\n",
    "\n",
    "trainer.train()\n"
   ],
   "id": "fdaa05e68671691f"
  }
 ],
 "metadata": {
  "kernelspec": {
   "name": "python3",
   "language": "python",
   "display_name": "Python 3 (ipykernel)"
  }
 },
 "nbformat": 5,
 "nbformat_minor": 9
}
