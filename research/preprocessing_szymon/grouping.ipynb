{
 "cells": [
  {
   "cell_type": "code",
   "execution_count": 1,
   "metadata": {},
   "outputs": [],
   "source": [
    "from typing import List\n",
    "import pandas as pd"
   ]
  },
  {
   "cell_type": "code",
   "execution_count": 2,
   "metadata": {},
   "outputs": [],
   "source": [
    "df = pd.read_csv(\"./data/18789327023.csv\")"
   ]
  },
  {
   "cell_type": "code",
   "execution_count": 3,
   "metadata": {},
   "outputs": [],
   "source": [
    "EPSILON = 100 # at this moment random value"
   ]
  },
  {
   "cell_type": "code",
   "execution_count": 4,
   "metadata": {},
   "outputs": [],
   "source": [
    "per_timestamp = df.groupby([\"Seen Timestamp\"])"
   ]
  },
  {
   "cell_type": "code",
   "execution_count": 5,
   "metadata": {},
   "outputs": [],
   "source": [
    "new_frames = {}\n",
    "for ts, subframe in per_timestamp:\n",
    "    new_frames[ts] = subframe\n",
    "    new_frames[ts][\"dx\"] = subframe[\"X 1\"][:-1] - subframe[\"X 2\"][1:]\n",
    "    new_frames[ts][\"dy\"] = subframe[\"Y 1\"][:-1] - subframe[\"Y 2\"][1:]\n",
    "    new_frames[ts][\"w\"] = subframe[\"X 2\"] - subframe[\"X 1\"]\n",
    "    new_frames[ts][\"h\"] = subframe[\"Y 2\"] - subframe[\"Y 1\"]"
   ]
  },
  {
   "cell_type": "markdown",
   "metadata": {},
   "source": [
    "The simplest approach, no epsilon, vectors have to match exactly"
   ]
  },
  {
   "cell_type": "code",
   "execution_count": 6,
   "metadata": {},
   "outputs": [],
   "source": [
    "from docarray import DocList, BaseDoc\n",
    "from docarray.typing import NdArray\n",
    "\n",
    "from vectordb import InMemoryExactNNVectorDB\n",
    "\n",
    "import numpy as np"
   ]
  },
  {
   "cell_type": "code",
   "execution_count": 7,
   "metadata": {},
   "outputs": [
    {
     "name": "stderr",
     "output_type": "stream",
     "text": [
      "WARNING - docarray - Index file does not exist: /home/szymon/.cache/jina/InMemoryExactNNIndexer[MyDoc][MyDocWithMatchesAndScores]/index.bin. Initializing empty InMemoryExactNNIndex.\n"
     ]
    }
   ],
   "source": [
    "class MyDoc(BaseDoc):\n",
    "    vec_id: int = 0\n",
    "    embedding: NdArray[6]\n",
    "\n",
    "db = InMemoryExactNNVectorDB[MyDoc]()\n"
   ]
  },
  {
   "cell_type": "code",
   "execution_count": 8,
   "metadata": {},
   "outputs": [],
   "source": [
    "def euclidean_dist(v1: np.ndarray, v2: np.ndarray) -> float:\n",
    "    return np.sqrt(((v1 - v2) ** 2).sum())\n",
    "\n",
    "def get_vectors(frame: pd.DataFrame) -> List[np.ndarray]:\n",
    "    cpy = frame.copy(deep=True)\n",
    "    cpy['prev_w'] = cpy['w'].shift(1)\n",
    "    cpy['prev_h'] = cpy['h'].shift(1)\n",
    "    return cpy[['dx', 'dy', 'w', 'h', 'prev_w', 'prev_h']].values.tolist()[1:]"
   ]
  },
  {
   "cell_type": "code",
   "execution_count": 9,
   "metadata": {},
   "outputs": [],
   "source": [
    "frames_train = [sdf for i, sdf in enumerate(new_frames.values()) if i < len(new_frames) // 2]\n",
    "frames_test = [sdf for i, sdf in enumerate(new_frames.values()) if i >= len(new_frames) // 2]"
   ]
  },
  {
   "cell_type": "code",
   "execution_count": 10,
   "metadata": {},
   "outputs": [
    {
     "name": "stdout",
     "output_type": "stream",
     "text": [
      "fraction of vectors added: 0.16923076923076924\n"
     ]
    }
   ],
   "source": [
    "vectors = []\n",
    "frequency = {}\n",
    "for sdf in frames_train:\n",
    "    vectors += get_vectors(sdf)\n",
    "\n",
    "added_ctr = 0\n",
    "db.index(inputs=DocList[MyDoc]([MyDoc(vec_id=added_ctr, embedding=vectors[0])]))\n",
    "frequency[added_ctr] = 1\n",
    "for v in vectors[1:]:\n",
    "    results = db.search(inputs=DocList[MyDoc]([MyDoc(vec_id=-1, embedding=v)]), limit=10)\n",
    "    d = euclidean_dist(results[0].matches[0].embedding, v)\n",
    "    if d > EPSILON:\n",
    "        added_ctr += 1\n",
    "        db.index(inputs=DocList[MyDoc]([MyDoc(vec_id=added_ctr, embedding=v)]))\n",
    "        frequency[added_ctr] = 1\n",
    "    else:\n",
    "        frequency[results[0].matches[0].vec_id] += 1\n",
    "\n",
    "print(\"fraction of vectors added:\", added_ctr / len(vectors))"
   ]
  },
  {
   "cell_type": "markdown",
   "metadata": {},
   "source": [
    "## Grouping"
   ]
  },
  {
   "cell_type": "code",
   "execution_count": 13,
   "metadata": {},
   "outputs": [
    {
     "name": "stdout",
     "output_type": "stream",
     "text": [
      "nan\n",
      "nan\n",
      "==============================\n",
      "nan\n",
      "UVP 1.79\n",
      "1.29\n",
      "UVP\n",
      "RAUCH Eistee\n",
      "je 1,5 I\n",
      "UVP 0.99\n",
      "0.69\n",
      "UVP\n",
      "LIPTON Ice Tea\n",
      "je 0,33 I\n",
      "UVP 1.49\n",
      "1.19\n",
      "UVP\n",
      "HOHES C Water\n",
      "je 0,75 I\n",
      "UVP 0.99\n",
      "0.79\n",
      "==============================\n",
      "UVP\n",
      "GEROLSTEINER Mineralwasser\n",
      "==============================\n",
      "je 1,5 I\n",
      "==============================\n",
      "Sparen auf Top-Marken\n",
      "==============================\n",
      "ab 05.09. bis 07.09.\n",
      "Angebote\n",
      "==============================\n",
      "Vorteile\n",
      "Einkaufsliste\n",
      "Vorteilscode\n",
      "UVP 1.79\n",
      "UVP 1.79\n",
      "1.29\n",
      "UVP\n",
      "RAUCH Eistee\n",
      "je 1,5 I\n",
      "UVP 0.99\n",
      "0.69\n",
      "UVP\n",
      "LIPTON Ice Tea\n",
      "je 0,33 I\n",
      "UVP 1.49\n",
      "1.19\n",
      "UVP\n",
      "HOHES C Water\n",
      "je 0,75 I\n",
      "UVP 0.99\n",
      "0.79\n",
      "==============================\n",
      "UVP\n",
      "GEROLSTEINER Mineralwasser\n",
      "UVP 1.79\n",
      "UVP 1.79\n",
      "1.29\n",
      "UVP\n",
      "RAUCH Eistee\n",
      "je 1,5 I\n",
      "UVP 0.99\n",
      "0.69\n",
      "UVP\n",
      "LIPTON Ice Tea\n",
      "je 0,33 I\n",
      "UVP 1.49\n",
      "1.19\n",
      "UVP\n",
      "HOHES C Water\n",
      "je 0,75 I\n",
      "UVP 0.99\n",
      "0.79\n",
      "==============================\n",
      "UVP\n",
      "GEROLSTEINER Mineralwasser\n"
     ]
    }
   ],
   "source": [
    "for sdf in frames_train:\n",
    "    vs = get_vectors(sdf)\n",
    "    print(sdf[\"Text\"].iloc[0])\n",
    "    for v, row in zip(vs, sdf[\"Text\"]):\n",
    "        res = db.search(inputs=DocList[MyDoc]([MyDoc(vec_id=-1, embedding=v)]))[0]\n",
    "        ix = 0\n",
    "        while ix < 9 and frequency[res.matches[ix].vec_id] == 3:\n",
    "            ix += 1\n",
    "        d = euclidean_dist(v, res.matches[ix].embedding)\n",
    "        if euclidean_dist(v, res.matches[ix].embedding) > EPSILON or frequency[res.matches[ix].vec_id] <= 1:\n",
    "            print(\"=\"*30)\n",
    "        print(row)"
   ]
  },
  {
   "cell_type": "code",
   "execution_count": null,
   "metadata": {},
   "outputs": [],
   "source": []
  }
 ],
 "metadata": {
  "kernelspec": {
   "display_name": ".venv",
   "language": "python",
   "name": "python3"
  },
  "language_info": {
   "codemirror_mode": {
    "name": "ipython",
    "version": 3
   },
   "file_extension": ".py",
   "mimetype": "text/x-python",
   "name": "python",
   "nbconvert_exporter": "python",
   "pygments_lexer": "ipython3",
   "version": "3.9.12"
  }
 },
 "nbformat": 4,
 "nbformat_minor": 2
}
