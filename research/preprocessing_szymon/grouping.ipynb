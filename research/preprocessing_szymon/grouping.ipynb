{
 "cells": [
  {
   "cell_type": "markdown",
   "metadata": {},
   "source": [
    "# Grouping by layout templates\n",
    "##### The purpouse of this notebook was to test different approach to grouping labels\n",
    "Firtly we compute distances between neighbour labels. Then we aggregate them and count duplicated vectors. To handle vector storing and querying I used vectorDB. Finally, I created groups by connecting labels if distance between them is common."
   ]
  },
  {
   "cell_type": "markdown",
   "metadata": {},
   "source": [
    "##### Dependencies import"
   ]
  },
  {
   "cell_type": "code",
   "execution_count": 103,
   "metadata": {},
   "outputs": [],
   "source": [
    "from typing import List\n",
    "import pandas as pd\n",
    "from docarray import DocList, BaseDoc\n",
    "from docarray.typing import NdArray\n",
    "\n",
    "from vectordb import InMemoryExactNNVectorDB\n",
    "\n",
    "import numpy as np"
   ]
  },
  {
   "cell_type": "markdown",
   "metadata": {},
   "source": [
    "##### Algorithm hyperparameters"
   ]
  },
  {
   "cell_type": "code",
   "execution_count": 109,
   "metadata": {},
   "outputs": [],
   "source": [
    "EPSILON = 100 # max distance between vectors counted as one\n",
    "COMMON_THOLD = 0.2 # thold for vector count to be treated as common. Expressed as fraction of totally processed vectors up to date"
   ]
  },
  {
   "cell_type": "markdown",
   "metadata": {},
   "source": [
    "##### Dataset preparation"
   ]
  },
  {
   "cell_type": "code",
   "execution_count": 110,
   "metadata": {},
   "outputs": [],
   "source": [
    "df = pd.read_csv(\"./data/18789327023.csv\")\n",
    "per_timestamp = df.groupby([\"Seen Timestamp\"])\n",
    "processed_frames = {}\n",
    "for ts, subframe in per_timestamp:\n",
    "    processed_frames[ts] = subframe\n",
    "    processed_frames[ts][\"dx\"] = subframe[\"X 1\"][:-1] - subframe[\"X 1\"][1:]\n",
    "    processed_frames[ts][\"dy\"] = subframe[\"Y 1\"][:-1] - subframe[\"Y 1\"][1:]\n",
    "    processed_frames[ts][\"w\"] = subframe[\"X 2\"] - subframe[\"X 1\"]\n",
    "    processed_frames[ts][\"h\"] = subframe[\"Y 2\"] - subframe[\"Y 1\"]"
   ]
  },
  {
   "cell_type": "markdown",
   "metadata": {},
   "source": [
    "##### VectorDB setup"
   ]
  },
  {
   "cell_type": "code",
   "execution_count": 111,
   "metadata": {},
   "outputs": [
    {
     "name": "stderr",
     "output_type": "stream",
     "text": [
      "WARNING - docarray - Index file does not exist: /home/szymon/.cache/jina/InMemoryExactNNIndexer[MyDoc][MyDocWithMatchesAndScores]/index.bin. Initializing empty InMemoryExactNNIndex.\n"
     ]
    }
   ],
   "source": [
    "class MyDoc(BaseDoc):\n",
    "    vec_id: int = 0\n",
    "    embedding: NdArray[4]\n",
    "\n",
    "db = InMemoryExactNNVectorDB[MyDoc]()\n"
   ]
  },
  {
   "cell_type": "code",
   "execution_count": 112,
   "metadata": {},
   "outputs": [],
   "source": [
    "def euclidean_dist(v1: np.ndarray, v2: np.ndarray) -> float:\n",
    "    return np.sqrt(((v1 - v2) ** 2).sum())\n",
    "\n",
    "def get_vectors(frame: pd.DataFrame) -> List[np.ndarray]:\n",
    "    cpy = frame.copy(deep=True)\n",
    "    cpy['prev_w'] = cpy['w'].shift(1)\n",
    "    cpy['prev_h'] = cpy['h'].shift(1)\n",
    "    return cpy[['dx', 'dy', 'w', 'h']].values.tolist()[1:]"
   ]
  },
  {
   "cell_type": "code",
   "execution_count": 113,
   "metadata": {},
   "outputs": [
    {
     "name": "stdout",
     "output_type": "stream",
     "text": [
      "nan\n",
      "nan\n",
      "====================\n",
      "nan\n",
      "UVP 1.79\n",
      "1.29\n",
      "====================\n",
      "UVP\n",
      "RAUCH Eistee\n",
      "je 1,5 I\n",
      "UVP 0.99\n",
      "0.69\n",
      "UVP\n",
      "LIPTON Ice Tea\n",
      "je 0,33 I\n",
      "UVP 1.49\n",
      "1.19\n",
      "UVP\n",
      "HOHES C Water\n",
      "je 0,75 I\n",
      "UVP 0.99\n",
      "0.79\n",
      "====================\n",
      "UVP\n",
      "GEROLSTEINER Mineralwasser\n",
      "====================\n",
      "je 1,5 I\n",
      "====================\n",
      "Sparen auf Top-Marken\n",
      "ab 05.09. bis 07.09.\n",
      "Angebote\n",
      "Vorteile\n",
      "Einkaufsliste\n",
      "====================\n",
      "Vorteilscode\n",
      "UVP 1.79\n",
      "UVP 1.79\n",
      "1.29\n",
      "UVP\n",
      "RAUCH Eistee\n",
      "je 1,5 I\n",
      "UVP 0.99\n",
      "0.69\n",
      "====================\n",
      "UVP\n",
      "LIPTON Ice Tea\n",
      "je 0,33 I\n",
      "UVP 1.49\n",
      "1.19\n",
      "====================\n",
      "UVP\n",
      "HOHES C Water\n",
      "je 0,75 I\n",
      "UVP 0.99\n",
      "0.79\n",
      "====================\n",
      "UVP\n",
      "====================\n",
      "GEROLSTEINER Mineralwasser\n",
      "UVP 1.79\n",
      "UVP 1.79\n",
      "1.29\n",
      "====================\n",
      "UVP\n",
      "RAUCH Eistee\n",
      "je 1,5 I\n",
      "UVP 0.99\n",
      "0.69\n",
      "====================\n",
      "UVP\n",
      "LIPTON Ice Tea\n",
      "je 0,33 I\n",
      "UVP 1.49\n",
      "1.19\n",
      "====================\n",
      "UVP\n",
      "HOHES C Water\n",
      "je 0,75 I\n",
      "UVP 0.99\n",
      "0.79\n",
      "====================\n",
      "UVP\n",
      "====================\n",
      "GEROLSTEINER Mineralwasser\n",
      "je 1,5 I\n",
      "====================\n",
      "je 1,5 I\n",
      "je 0,33 I\n",
      "UVP 1.49\n",
      "1.19\n",
      "====================\n",
      "UVP\n",
      "HOHES C Water\n",
      "je 0,75 I\n",
      "UVP 0.99\n",
      "0.79\n",
      "====================\n",
      "UVP\n",
      "GEROLSTEINER Mineralwasser\n",
      "je 1,5 I\n",
      "UVP 4.49\n",
      "2.99\n",
      "====================\n",
      "UVP 4.49\n",
      "UVP 1.49\n",
      "UVP 1.49\n",
      "1.19\n",
      "====================\n",
      "UVP\n",
      "HOHES C Water\n",
      "je 0,75 I\n",
      "UVP 0.99\n",
      "0.79\n",
      "====================\n",
      "UVP\n",
      "GEROLSTEINER Mineralwasser\n",
      "je 1,5 I\n",
      "UVP 4.49\n",
      "2.99\n",
      "====================\n",
      "UVP\n",
      "LE SWEET FILOU Vin de France Rouge\n",
      "je 1 I\n",
      "UVP 4.49\n",
      "2.99\n",
      "====================\n",
      "UVP\n",
      "====================\n",
      "LE SWEET FILOU Vin de France Blanc\n",
      "UVP 1.49\n",
      "UVP 1.49\n",
      "1.19\n",
      "====================\n",
      "UVP\n",
      "HOHES C Water\n",
      "je 0,75 I\n",
      "UVP 0.99\n",
      "0.79\n",
      "====================\n",
      "UVP\n",
      "GEROLSTEINER Mineralwasser\n",
      "je 1,5 I\n",
      "UVP 4.49\n",
      "2.99\n",
      "====================\n",
      "UVP\n",
      "LE SWEET FILOU Vin de France Rouge\n",
      "je 1 I\n",
      "UVP 4.49\n",
      "2.99\n",
      "====================\n",
      "UVP\n",
      "====================\n",
      "LE SWEET FILOU Vin de France Blanc\n",
      "UVP 4.49\n",
      "UVP 4.49\n",
      "2.99\n",
      "====================\n",
      "UVP\n",
      "LE SWEET FILOU Vin de France Rouge\n",
      "je 1 I\n",
      "UVP 4.49\n",
      "2.99\n",
      "====================\n",
      "UVP\n",
      "LE SWEET FILOU Vin de France Blanc\n",
      "je 1 I\n",
      "UVP 14.99\n",
      "9.99\n",
      "====================\n",
      "UVP\n",
      "JOHNNIE WALKER Red Label Blended Scotch\n",
      "je 0,7 I\n",
      "UVP 0.99\n",
      "0.75\n",
      "====================\n",
      "UVP\n",
      "====================\n",
      "SAN MIGUEL Especial\n"
     ]
    }
   ],
   "source": [
    "SEP = \"=\" * 20\n",
    "\n",
    "frequency = {}\n",
    "added_ctr = 0\n",
    "processed_ctr = 0\n",
    "for sdf in processed_frames.values():\n",
    "    vectors = get_vectors(sdf)\n",
    "    print(sdf[\"Text\"].iloc[0])\n",
    "    for i, (v, text) in enumerate(zip(vectors, sdf[\"Text\"])):\n",
    "        processed_ctr += 1\n",
    "        if added_ctr > 0:\n",
    "            doc = db.search(inputs=DocList[MyDoc]([MyDoc(vec_id=-1, embedding=v)]), limit=10).matches[0][0]\n",
    "            d = euclidean_dist(doc.embedding, v)\n",
    "            if d < EPSILON:\n",
    "                frequency[doc.vec_id] += 1\n",
    "                count = frequency[doc.vec_id]\n",
    "                if count < processed_ctr * COMMON_THOLD:\n",
    "                    print(SEP)\n",
    "                doc.embedding = (v + (count - 1) * doc.embedding ) / count\n",
    "                db.update(DocList[MyDoc]([doc]))\n",
    "                print(text)\n",
    "                continue\n",
    "        print(SEP)\n",
    "        print(text)\n",
    "        db.index(inputs=DocList[MyDoc]([MyDoc(vec_id=added_ctr, embedding=v)]))\n",
    "        frequency[added_ctr] = 1\n",
    "        added_ctr += 1"
   ]
  },
  {
   "cell_type": "markdown",
   "metadata": {},
   "source": [
    "## Experiment results"
   ]
  },
  {
   "cell_type": "markdown",
   "metadata": {},
   "source": "The hyperparameters above were choosen as result of empirical experiments. The results show that this method currently cannot provide robust label grouping in case of sparse data. Separated sections often contain multiple coupons or coupons are split between sections. This algorithm is also sensitive to hyperparameter selection which reduces its ability to generalise. Research on larger datasets to be conducted."
  },
  {
   "cell_type": "markdown",
   "metadata": {},
   "source": []
  }
 ],
 "metadata": {
  "kernelspec": {
   "display_name": ".venv",
   "language": "python",
   "name": "python3"
  },
  "language_info": {
   "codemirror_mode": {
    "name": "ipython",
    "version": 3
   },
   "file_extension": ".py",
   "mimetype": "text/x-python",
   "name": "python",
   "nbconvert_exporter": "python",
   "pygments_lexer": "ipython3",
   "version": "3.9.12"
  }
 },
 "nbformat": 4,
 "nbformat_minor": 2
}
