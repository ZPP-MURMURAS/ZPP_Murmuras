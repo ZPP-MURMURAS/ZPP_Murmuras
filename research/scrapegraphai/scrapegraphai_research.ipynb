{
 "cells": [
  {
   "cell_type": "markdown",
   "id": "e68ee5b3-ce53-4c91-a604-04c9b2619863",
   "metadata": {},
   "source": [
    "# Overview\n",
    "\n",
    "The goal of this notebook it to see if ScrapeGraphAI can be used to solve the problem of coupon extraction from a phone screen view."
   ]
  },
  {
   "cell_type": "code",
   "execution_count": 1,
   "id": "72d8d73c-fe76-4e3c-a2d8-2be2526c9348",
   "metadata": {},
   "outputs": [],
   "source": [
    "import pandas as pd\n",
    "import xml.etree.ElementTree as ET\n",
    "from scrapegraphai.graphs import XMLScraperGraph, CSVScraperGraph"
   ]
  },
  {
   "cell_type": "markdown",
   "id": "6012a78e-c7e9-4571-852f-a8fb84e3c813",
   "metadata": {},
   "source": [
    "# Loading the content generic CSV"
   ]
  },
  {
   "cell_type": "code",
   "execution_count": 2,
   "id": "fd84ad23-8e02-4b68-854d-6ecdd3822d22",
   "metadata": {},
   "outputs": [
    {
     "data": {
      "text/html": [
       "<div>\n",
       "<style scoped>\n",
       "    .dataframe tbody tr th:only-of-type {\n",
       "        vertical-align: middle;\n",
       "    }\n",
       "\n",
       "    .dataframe tbody tr th {\n",
       "        vertical-align: top;\n",
       "    }\n",
       "\n",
       "    .dataframe thead th {\n",
       "        text-align: right;\n",
       "    }\n",
       "</style>\n",
       "<table border=\"1\" class=\"dataframe\">\n",
       "  <thead>\n",
       "    <tr style=\"text-align: right;\">\n",
       "      <th></th>\n",
       "      <th>CAST(id, 'String')</th>\n",
       "      <th>id</th>\n",
       "      <th>user_id</th>\n",
       "      <th>time</th>\n",
       "      <th>i</th>\n",
       "      <th>language</th>\n",
       "      <th>application_name</th>\n",
       "      <th>package_name</th>\n",
       "      <th>class_name</th>\n",
       "      <th>context</th>\n",
       "      <th>...</th>\n",
       "      <th>view_depth</th>\n",
       "      <th>view_class_name</th>\n",
       "      <th>text</th>\n",
       "      <th>description</th>\n",
       "      <th>seen_timestamp</th>\n",
       "      <th>is_visible</th>\n",
       "      <th>x_1</th>\n",
       "      <th>y_1</th>\n",
       "      <th>x_2</th>\n",
       "      <th>y_2</th>\n",
       "    </tr>\n",
       "  </thead>\n",
       "  <tbody>\n",
       "    <tr>\n",
       "      <th>0</th>\n",
       "      <td>1861746032578134018</td>\n",
       "      <td>1861746032578134018</td>\n",
       "      <td>167216</td>\n",
       "      <td>2024-11-27 13:16:55.756000</td>\n",
       "      <td>1</td>\n",
       "      <td>de</td>\n",
       "      <td>PENNY</td>\n",
       "      <td>de.penny.app</td>\n",
       "      <td>de.penny.app.main.view.MainActivity</td>\n",
       "      <td>NaN</td>\n",
       "      <td>...</td>\n",
       "      <td>0</td>\n",
       "      <td>de.penny.app.main.view.MainActivity</td>\n",
       "      <td>NaN</td>\n",
       "      <td>NaN</td>\n",
       "      <td>0</td>\n",
       "      <td>False</td>\n",
       "      <td>0</td>\n",
       "      <td>0</td>\n",
       "      <td>0</td>\n",
       "      <td>0</td>\n",
       "    </tr>\n",
       "    <tr>\n",
       "      <th>1</th>\n",
       "      <td>1861746032578134018</td>\n",
       "      <td>1861746032578134018</td>\n",
       "      <td>167216</td>\n",
       "      <td>2024-11-27 13:16:55.756000</td>\n",
       "      <td>2</td>\n",
       "      <td>de</td>\n",
       "      <td>PENNY</td>\n",
       "      <td>de.penny.app</td>\n",
       "      <td>de.penny.app.main.view.MainActivity</td>\n",
       "      <td>NaN</td>\n",
       "      <td>...</td>\n",
       "      <td>2</td>\n",
       "      <td>android.widget.FrameLayout</td>\n",
       "      <td>NaN</td>\n",
       "      <td>NaN</td>\n",
       "      <td>1732709815209</td>\n",
       "      <td>True</td>\n",
       "      <td>0</td>\n",
       "      <td>0</td>\n",
       "      <td>1080</td>\n",
       "      <td>2312</td>\n",
       "    </tr>\n",
       "    <tr>\n",
       "      <th>2</th>\n",
       "      <td>1861746032578134018</td>\n",
       "      <td>1861746032578134018</td>\n",
       "      <td>167216</td>\n",
       "      <td>2024-11-27 13:16:55.756000</td>\n",
       "      <td>3</td>\n",
       "      <td>de</td>\n",
       "      <td>PENNY</td>\n",
       "      <td>de.penny.app</td>\n",
       "      <td>de.penny.app.main.view.MainActivity</td>\n",
       "      <td>NaN</td>\n",
       "      <td>...</td>\n",
       "      <td>8</td>\n",
       "      <td>android.view.View</td>\n",
       "      <td>NaN</td>\n",
       "      <td>Angebote</td>\n",
       "      <td>1732709815209</td>\n",
       "      <td>True</td>\n",
       "      <td>107</td>\n",
       "      <td>2041</td>\n",
       "      <td>187</td>\n",
       "      <td>2121</td>\n",
       "    </tr>\n",
       "    <tr>\n",
       "      <th>3</th>\n",
       "      <td>1861746032578134018</td>\n",
       "      <td>1861746032578134018</td>\n",
       "      <td>167216</td>\n",
       "      <td>2024-11-27 13:16:55.756000</td>\n",
       "      <td>4</td>\n",
       "      <td>de</td>\n",
       "      <td>PENNY</td>\n",
       "      <td>de.penny.app</td>\n",
       "      <td>de.penny.app.main.view.MainActivity</td>\n",
       "      <td>NaN</td>\n",
       "      <td>...</td>\n",
       "      <td>8</td>\n",
       "      <td>android.widget.TextView</td>\n",
       "      <td>Angebote</td>\n",
       "      <td>NaN</td>\n",
       "      <td>1732709815209</td>\n",
       "      <td>True</td>\n",
       "      <td>75</td>\n",
       "      <td>2123</td>\n",
       "      <td>220</td>\n",
       "      <td>2164</td>\n",
       "    </tr>\n",
       "    <tr>\n",
       "      <th>4</th>\n",
       "      <td>1861746032578134018</td>\n",
       "      <td>1861746032578134018</td>\n",
       "      <td>167216</td>\n",
       "      <td>2024-11-27 13:16:55.756000</td>\n",
       "      <td>5</td>\n",
       "      <td>de</td>\n",
       "      <td>PENNY</td>\n",
       "      <td>de.penny.app</td>\n",
       "      <td>de.penny.app.main.view.MainActivity</td>\n",
       "      <td>NaN</td>\n",
       "      <td>...</td>\n",
       "      <td>8</td>\n",
       "      <td>android.view.View</td>\n",
       "      <td>NaN</td>\n",
       "      <td>Vorteile</td>\n",
       "      <td>1732709815209</td>\n",
       "      <td>True</td>\n",
       "      <td>309</td>\n",
       "      <td>2045</td>\n",
       "      <td>381</td>\n",
       "      <td>2117</td>\n",
       "    </tr>\n",
       "  </tbody>\n",
       "</table>\n",
       "<p>5 rows × 21 columns</p>\n",
       "</div>"
      ],
      "text/plain": [
       "    CAST(id, 'String')                   id  user_id  \\\n",
       "0  1861746032578134018  1861746032578134018   167216   \n",
       "1  1861746032578134018  1861746032578134018   167216   \n",
       "2  1861746032578134018  1861746032578134018   167216   \n",
       "3  1861746032578134018  1861746032578134018   167216   \n",
       "4  1861746032578134018  1861746032578134018   167216   \n",
       "\n",
       "                         time  i language application_name  package_name  \\\n",
       "0  2024-11-27 13:16:55.756000  1       de            PENNY  de.penny.app   \n",
       "1  2024-11-27 13:16:55.756000  2       de            PENNY  de.penny.app   \n",
       "2  2024-11-27 13:16:55.756000  3       de            PENNY  de.penny.app   \n",
       "3  2024-11-27 13:16:55.756000  4       de            PENNY  de.penny.app   \n",
       "4  2024-11-27 13:16:55.756000  5       de            PENNY  de.penny.app   \n",
       "\n",
       "                            class_name  context  ... view_depth  \\\n",
       "0  de.penny.app.main.view.MainActivity      NaN  ...          0   \n",
       "1  de.penny.app.main.view.MainActivity      NaN  ...          2   \n",
       "2  de.penny.app.main.view.MainActivity      NaN  ...          8   \n",
       "3  de.penny.app.main.view.MainActivity      NaN  ...          8   \n",
       "4  de.penny.app.main.view.MainActivity      NaN  ...          8   \n",
       "\n",
       "                       view_class_name      text description seen_timestamp  \\\n",
       "0  de.penny.app.main.view.MainActivity       NaN         NaN              0   \n",
       "1           android.widget.FrameLayout       NaN         NaN  1732709815209   \n",
       "2                    android.view.View       NaN    Angebote  1732709815209   \n",
       "3              android.widget.TextView  Angebote         NaN  1732709815209   \n",
       "4                    android.view.View       NaN    Vorteile  1732709815209   \n",
       "\n",
       "   is_visible  x_1   y_1   x_2   y_2  \n",
       "0       False    0     0     0     0  \n",
       "1        True    0     0  1080  2312  \n",
       "2        True  107  2041   187  2121  \n",
       "3        True   75  2123   220  2164  \n",
       "4        True  309  2045   381  2117  \n",
       "\n",
       "[5 rows x 21 columns]"
      ]
     },
     "execution_count": 2,
     "metadata": {},
     "output_type": "execute_result"
    }
   ],
   "source": [
    "csv_path = 'content_generic_penny_2025_03_13.csv'\n",
    "df = pd.read_csv(csv_path)\n",
    "df.head()"
   ]
  },
  {
   "cell_type": "markdown",
   "id": "66b32503-8c7b-4583-b19c-664681d58ae2",
   "metadata": {},
   "source": [
    "# Function to run ScrapeGraphAI\n",
    "\n",
    "The LLM that I'm using for scraping is a 1 billion parameter Llama3.2."
   ]
  },
  {
   "cell_type": "code",
   "execution_count": 3,
   "id": "66fad455-7022-485e-8eae-5e1d5f3b64e7",
   "metadata": {},
   "outputs": [],
   "source": [
    "def run_scrape_graph_ai(input_str, scraper_type, prompt):\n",
    "    graph_config = {\n",
    "       'llm': {\n",
    "          'model': 'ollama/llama3.2:1b',\n",
    "          'temperature': 0.0,\n",
    "          'format': 'json',\n",
    "          'model_tokens': 2048,\n",
    "          'base_url': 'http://localhost:11434',\n",
    "        }\n",
    "    }\n",
    "\n",
    "    if scraper_type == 'xml':\n",
    "        scraper_graph = XMLScraperGraph(\n",
    "            prompt=prompt,\n",
    "            source=input_str,\n",
    "            config=graph_config,\n",
    "        )\n",
    "    elif scraper_type == 'csv':\n",
    "        scraper_graph = CSVScraperGraph(\n",
    "            prompt=prompt,\n",
    "            source=input_str,\n",
    "            config=graph_config,\n",
    "        )\n",
    "    else:\n",
    "        return None\n",
    "\n",
    "    return scraper_graph.run()"
   ]
  },
  {
   "cell_type": "markdown",
   "id": "ae6e06da-ae43-4586-aa1d-9f22f8cac0ef",
   "metadata": {},
   "source": [
    "# CSVScraperGraph test\n",
    "\n",
    "In this section I will try to extract coupons using the CSVScraperGraph. The prompt that I used is based on the prompts from the ScrapeGraphAI documentation."
   ]
  },
  {
   "cell_type": "code",
   "execution_count": 4,
   "id": "05240295-997d-42d4-928a-346bea0b04af",
   "metadata": {},
   "outputs": [
    {
     "data": {
      "text/plain": [
       "{'timestamp': 1643723405,\n",
       " 'data': [{'id': 1, 'name': 'Abonnement', 'type': 'Premium', 'price': 9.99},\n",
       "  {'id': 2, 'name': 'Abonnement', 'type': 'Basic', 'price': 4.99}]}"
      ]
     },
     "execution_count": 4,
     "metadata": {},
     "output_type": "execute_result"
    }
   ],
   "source": [
    "prompt = 'A coupon consists of a product name, a description text, a discount text and an activation text. Extract all coupons from the given phone screen views.'\n",
    "csv_string = df.to_csv(index=False)\n",
    "run_scrape_graph_ai(csv_string, 'csv', prompt)"
   ]
  },
  {
   "cell_type": "markdown",
   "id": "2fe5515a-e704-44be-8b4d-6fd1eef1521a",
   "metadata": {},
   "source": [
    "The CSVScraperGraph did not extract any coupons from the CSV. Let's try leaving only the most relevant columns."
   ]
  },
  {
   "cell_type": "code",
   "execution_count": 5,
   "id": "571104db-6c7d-437d-a151-6cb4b9a2c61c",
   "metadata": {},
   "outputs": [
    {
     "data": {
      "text/html": [
       "<div>\n",
       "<style scoped>\n",
       "    .dataframe tbody tr th:only-of-type {\n",
       "        vertical-align: middle;\n",
       "    }\n",
       "\n",
       "    .dataframe tbody tr th {\n",
       "        vertical-align: top;\n",
       "    }\n",
       "\n",
       "    .dataframe thead th {\n",
       "        text-align: right;\n",
       "    }\n",
       "</style>\n",
       "<table border=\"1\" class=\"dataframe\">\n",
       "  <thead>\n",
       "    <tr style=\"text-align: right;\">\n",
       "      <th></th>\n",
       "      <th>application_name</th>\n",
       "      <th>context</th>\n",
       "      <th>view_depth</th>\n",
       "      <th>text</th>\n",
       "      <th>description</th>\n",
       "      <th>seen_timestamp</th>\n",
       "    </tr>\n",
       "  </thead>\n",
       "  <tbody>\n",
       "    <tr>\n",
       "      <th>0</th>\n",
       "      <td>PENNY</td>\n",
       "      <td>NaN</td>\n",
       "      <td>0</td>\n",
       "      <td>NaN</td>\n",
       "      <td>NaN</td>\n",
       "      <td>0</td>\n",
       "    </tr>\n",
       "    <tr>\n",
       "      <th>1</th>\n",
       "      <td>PENNY</td>\n",
       "      <td>NaN</td>\n",
       "      <td>2</td>\n",
       "      <td>NaN</td>\n",
       "      <td>NaN</td>\n",
       "      <td>1732709815209</td>\n",
       "    </tr>\n",
       "    <tr>\n",
       "      <th>2</th>\n",
       "      <td>PENNY</td>\n",
       "      <td>NaN</td>\n",
       "      <td>8</td>\n",
       "      <td>NaN</td>\n",
       "      <td>Angebote</td>\n",
       "      <td>1732709815209</td>\n",
       "    </tr>\n",
       "    <tr>\n",
       "      <th>3</th>\n",
       "      <td>PENNY</td>\n",
       "      <td>NaN</td>\n",
       "      <td>8</td>\n",
       "      <td>Angebote</td>\n",
       "      <td>NaN</td>\n",
       "      <td>1732709815209</td>\n",
       "    </tr>\n",
       "    <tr>\n",
       "      <th>4</th>\n",
       "      <td>PENNY</td>\n",
       "      <td>NaN</td>\n",
       "      <td>8</td>\n",
       "      <td>NaN</td>\n",
       "      <td>Vorteile</td>\n",
       "      <td>1732709815209</td>\n",
       "    </tr>\n",
       "  </tbody>\n",
       "</table>\n",
       "</div>"
      ],
      "text/plain": [
       "  application_name  context  view_depth      text description  seen_timestamp\n",
       "0            PENNY      NaN           0       NaN         NaN               0\n",
       "1            PENNY      NaN           2       NaN         NaN   1732709815209\n",
       "2            PENNY      NaN           8       NaN    Angebote   1732709815209\n",
       "3            PENNY      NaN           8  Angebote         NaN   1732709815209\n",
       "4            PENNY      NaN           8       NaN    Vorteile   1732709815209"
      ]
     },
     "execution_count": 5,
     "metadata": {},
     "output_type": "execute_result"
    }
   ],
   "source": [
    "df_with_relevant_cols = df[[\"application_name\", \"context\", \"view_depth\", \"text\", \"description\", \"seen_timestamp\"]]\n",
    "df_with_relevant_cols.head()"
   ]
  },
  {
   "cell_type": "code",
   "execution_count": 6,
   "id": "85676f00-f50f-4fc1-9669-123a79f4034d",
   "metadata": {},
   "outputs": [
    {
     "data": {
      "text/plain": [
       "{}"
      ]
     },
     "execution_count": 6,
     "metadata": {},
     "output_type": "execute_result"
    }
   ],
   "source": [
    "csv_string_2 = df_with_relevant_cols.to_csv(index=False)\n",
    "run_scrape_graph_ai(csv_string_2, 'csv', prompt)"
   ]
  },
  {
   "cell_type": "markdown",
   "id": "bf0122eb-38dc-4d7d-af4f-b712b45e5e57",
   "metadata": {},
   "source": [
    "No coupons were found."
   ]
  },
  {
   "cell_type": "markdown",
   "id": "a6e9f4de-ee5d-4d2c-9276-2f7e49bc3db5",
   "metadata": {},
   "source": [
    "# XMLScraperGraph test\n",
    "\n",
    "In this section I will try to extract coupons using the XMLScraperGraph. Using the `view_depth` column in the content generic CSV it is possible to restore the XML structure of the phone screen views. I group the views based on the `seen_timestamp` column and provide data from the `text` column only."
   ]
  },
  {
   "cell_type": "code",
   "execution_count": 7,
   "id": "487bc68e-29d6-4689-967b-a9bf5a86e8ac",
   "metadata": {},
   "outputs": [],
   "source": [
    "def prepare_content_generic(content_generic_df):\n",
    "    df = content_generic_df.copy()\n",
    "    df = df[df['text'].notna()]\n",
    "    df = df[df['seen_timestamp'] != 0]\n",
    "    return df\n",
    "\n",
    "def content_generic_2_xml(content_generic_df):\n",
    "    df = prepare_content_generic(content_generic_df)\n",
    "    xml = ET.Element('root')\n",
    "    \n",
    "    if df.empty:\n",
    "        return xml\n",
    "\n",
    "    timestamp = df['seen_timestamp'].iloc[0]\n",
    "    timestamp_element = ET.SubElement(xml, 'view')\n",
    "    element_stack = [(-1, timestamp_element)]\n",
    "\n",
    "    for index, row in df.iterrows():\n",
    "        if row['seen_timestamp'] != timestamp:\n",
    "            timestamp = row['seen_timestamp']\n",
    "            timestamp_element = ET.SubElement(xml, 'view')\n",
    "            element_stack = [(-1, timestamp_element)]\n",
    "\n",
    "        while row['view_depth'] <= element_stack[-1][0]:\n",
    "            element_stack.pop()\n",
    "\n",
    "        text_element = ET.SubElement(element_stack[-1][1], 'text')\n",
    "        text_element.text = str(row['text'])\n",
    "\n",
    "        element_stack.append((row['view_depth'], text_element))\n",
    "\n",
    "    return xml"
   ]
  },
  {
   "cell_type": "code",
   "execution_count": 12,
   "id": "e1891ec3-e208-4d97-873a-07a4257a001f",
   "metadata": {},
   "outputs": [
    {
     "name": "stdout",
     "output_type": "stream",
     "text": [
      "<root><view><text>Angebote</text><text>Vorteile</text><text>Vorteilscode</text><text>Einkaufsliste</text><text>Mein PENNY</text></view>...\n"
     ]
    }
   ],
   "source": [
    "xml = content_generic_2_xml(df)\n",
    "xml_string = ET.tostring(xml, encoding='utf-8').decode('utf-8')\n",
    "print(f'{xml_string[:135]}...')"
   ]
  },
  {
   "cell_type": "code",
   "execution_count": 13,
   "id": "b961c18a-e593-4220-89f7-402270a55b05",
   "metadata": {},
   "outputs": [
    {
     "data": {
      "text/plain": [
       "{}"
      ]
     },
     "execution_count": 13,
     "metadata": {},
     "output_type": "execute_result"
    }
   ],
   "source": [
    "run_scrape_graph_ai(xml_string, 'xml', prompt)"
   ]
  },
  {
   "cell_type": "markdown",
   "id": "769ed331-cac0-4062-9752-60f6a7d7bd4a",
   "metadata": {},
   "source": [
    "No coupons were found."
   ]
  },
  {
   "cell_type": "markdown",
   "id": "b2254aed-0012-495c-b2e5-e9baaf8ca0ca",
   "metadata": {},
   "source": [
    "# Conclusions\n",
    "\n",
    "ScrapeGraphAI does not seem to be the right tool for this task. It appears that it is mainly designed for web pages and I was not able to have any success with it in scraping phone screen views. "
   ]
  }
 ],
 "metadata": {
  "kernelspec": {
   "display_name": "Python 3 (ipykernel)",
   "language": "python",
   "name": "python3"
  },
  "language_info": {
   "codemirror_mode": {
    "name": "ipython",
    "version": 3
   },
   "file_extension": ".py",
   "mimetype": "text/x-python",
   "name": "python",
   "nbconvert_exporter": "python",
   "pygments_lexer": "ipython3",
   "version": "3.12.7"
  }
 },
 "nbformat": 4,
 "nbformat_minor": 5
}
