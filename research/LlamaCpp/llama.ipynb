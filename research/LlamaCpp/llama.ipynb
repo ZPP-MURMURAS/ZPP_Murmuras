{
 "cells": [
  {
   "metadata": {},
   "cell_type": "code",
   "outputs": [],
   "execution_count": null,
   "source": [
    "# Take Termux from f-droid\n",
    "\n",
    "# pkg install cmake\n",
    "# pkg install libllvm\n",
    "# git clone llamacpp\n",
    "# cd llamacpp\n",
    "# cmake -B build\n",
    "# cmake --build build --config Release\n",
    "\n",
    "# cd ..\n",
    "# curl -L -o llama-2-7b-chat.Q2_K.gguf https://huggingface.co/TheBloke/Llama-2-7B-Chat-GGUF/resolve/main/llama-2-7b-chat.Q2_K.gguf\n",
    "# cd llamacpp\n",
    "# ./build/bin/llama-server -m ~/tinyllama-1.1b-chat-v0.3.Q8_0.gguf -c 4096\n",
    "\n",
    "\n",
    "# Works for both mobile and desktop\n",
    "# https://github.com/ggerganov/llama.cpp/tree/master/examples/server has a server with API,\n",
    "# so technically we can make app, deploy server somewhere on mobile and app would call the local server\n",
    "\n",
    "# has some android demo to checkout, do it"
   ],
   "id": "b2c6f87069ffeb86"
  },
  {
   "metadata": {},
   "cell_type": "markdown",
   "source": "https://www.reddit.com/r/LocalLLaMA/comments/14rncnb/local_llama_on_android_phone/\n",
   "id": "ff77c791cda3bfe6"
  },
  {
   "metadata": {},
   "cell_type": "markdown",
   "source": "",
   "id": "403e51ca4e4d7767"
  }
 ],
 "metadata": {
  "kernelspec": {
   "display_name": "Python 3",
   "language": "python",
   "name": "python3"
  },
  "language_info": {
   "codemirror_mode": {
    "name": "ipython",
    "version": 2
   },
   "file_extension": ".py",
   "mimetype": "text/x-python",
   "name": "python",
   "nbconvert_exporter": "python",
   "pygments_lexer": "ipython2",
   "version": "2.7.6"
  }
 },
 "nbformat": 4,
 "nbformat_minor": 5
}
