{
 "cells": [
  {
   "metadata": {},
   "cell_type": "markdown",
   "source": [
    "# Preparing dataset for coupon selecting\n",
    "As most of the proposals for the PoC improvements involve selecting coupons in input, I have written this notebook to "
   ],
   "id": "d5730c4012d5bb74"
  },
  {
   "metadata": {
    "ExecuteTime": {
     "end_time": "2025-01-21T16:50:30.340968Z",
     "start_time": "2025-01-21T16:48:53.297050Z"
    }
   },
   "cell_type": "code",
   "outputs": [],
   "execution_count": 1,
   "source": [
    "import numpy as np\n",
    "!python ../../../tools/data_load.py coupons_1"
   ],
   "id": "b7572f0871100440"
  },
  {
   "metadata": {
    "ExecuteTime": {
     "end_time": "2025-01-21T16:50:30.863351Z",
     "start_time": "2025-01-21T16:50:30.485456Z"
    }
   },
   "cell_type": "code",
   "source": "import pandas as pd",
   "id": "16cbe6f620e28c3d",
   "outputs": [],
   "execution_count": 2
  },
  {
   "metadata": {},
   "cell_type": "markdown",
   "source": "## How many coupon files have timestamps absent in associated content files?",
   "id": "3edac08601c84cf6"
  },
  {
   "metadata": {
    "ExecuteTime": {
     "end_time": "2025-01-21T16:50:30.871332Z",
     "start_time": "2025-01-21T16:50:30.868864Z"
    }
   },
   "cell_type": "code",
   "source": [
    "TAG_B_COUPON = 'B-COUPON'\n",
    "TAG_I_COUPON = 'I-COUPON'\n",
    "TAG_UNKNOWN = 'UNKNOWN'\n",
    "\n",
    "COL_TEXT_FULL = 'content_full'\n",
    "COL_CONTENT_TEXT = 'text'\n",
    "COL_TIME = 'time'\n",
    "COL_IS_COUPON = 'is_coupon'"
   ],
   "id": "8b7ffdd1829a2ecd",
   "outputs": [],
   "execution_count": 3
  },
  {
   "metadata": {
    "ExecuteTime": {
     "end_time": "2025-01-21T16:50:30.922051Z",
     "start_time": "2025-01-21T16:50:30.918839Z"
    }
   },
   "cell_type": "code",
   "source": [
    "PATHS = (\n",
    "    (\n",
    "        \"datasets/coupons_1/dm/Kopia test_data_2024_03_07_dm_content_generic_2024-12-05T10_09_32.502568365+01_00.csv\",\n",
    "        \"datasets/coupons_1/dm/Kopia test_data_2024_03_07_dm_coupons_2024-12-05T10_11_37.906933437+01_00.csv\"\n",
    "    ),\n",
    "    (\n",
    "        \"datasets/coupons_1/lidl/Kopia test_data_2024_11_25_lidl_plus_content_generic_2024-12-05T07_39_49.726955559+01_00.csv\",\n",
    "        \"datasets/coupons_1/lidl/Kopia test_data_2024_11_25_lidl_plus_cupons_2024-12-05T07_54_54.63740938+01_00.csv\"\n",
    "    ),\n",
    "    (\n",
    "        \"datasets/coupons_1/rewe/Kopia test_data_2024_03_07_rewe_content_generic_2024-12-05T10_30_59.948177782+01_00.csv\",\n",
    "        \"datasets/coupons_1/rewe/Kopia test_data_2024_03_07_rewe_coupons_2024-12-05T10_29_55.24829781+01_00.csv\"\n",
    "    ),\n",
    "    (\n",
    "        \"datasets/coupons_1/rossmann/Kopia test_data_2024_03_07_rossmann_content_generic_2024-12-05T10_24_07.981399375+01_00.csv\",\n",
    "        \"datasets/coupons_1/rossmann/Kopia test_data_2024_03_07_rossmann_coupons_2024-12-05T10_24_55.372924301+01_00.csv\"\n",
    "    )\n",
    ")\n",
    "\n",
    "PATH_PREFIX = \"../../../\""
   ],
   "id": "8631f51e84e37b31",
   "outputs": [],
   "execution_count": 4
  },
  {
   "metadata": {
    "ExecuteTime": {
     "end_time": "2025-01-21T16:50:31.052012Z",
     "start_time": "2025-01-21T16:50:30.970134Z"
    }
   },
   "cell_type": "code",
   "source": [
    "for p_content, p_coupons in PATHS:\n",
    "    coupons = pd.read_csv(PATH_PREFIX + p_coupons)\n",
    "    content = pd.read_csv(PATH_PREFIX + p_content)\n",
    "    if not set(coupons[COL_TIME]).issubset(set(content[COL_TIME])):\n",
    "        print(\"coupons from \" + p_content.split(\"/\")[2] + \" have times not present in content\")"
   ],
   "id": "961be6a66ed206fa",
   "outputs": [
    {
     "name": "stdout",
     "output_type": "stream",
     "text": [
      "coupons from dm have times not present in content\n",
      "coupons from rewe have times not present in content\n"
     ]
    }
   ],
   "execution_count": 5
  },
  {
   "metadata": {},
   "cell_type": "markdown",
   "source": [
    "### Finding coupons in frame from list of strings\n",
    "The following code aims to select rows representing coupons' content from a frame associated with a single time moment. This is done by comparing `content_generic` file with `full_text` column  from `coupons` file. We assume that consequential rows from the content file are representation of coupon's display if their concatenated text matches any of the values from the `full_text` column. However, this intuitive approach generates some unexpected challenges mostly related to overlapping coupon candidates:\n",
    "* prefixes within `full_text` column. This problem can be observed in the dataset under `coupons/lidl`. In these cases we would prefer to select the longer coupon, not its prefix.\n",
    "* overlapping in general: consider `full_text[0]=[A,B]`, `full_text[1]=[B,C]` and `text` column from the `content` frame being `[A,B,C,X,A,B,X,B,C,X,A,B,C]`. Given the format of the data we currently have, there is no proper way for deducing if the screen view represented by this frame contains coupons `[0,0,1,1]` or `[1,0,1,0]`, as we are not guaranteed that the coupon order in `coupons` frame is the same as in `content`. Currently, presented script in such cases will always prefer the coupon that ended earlier, (in greedy manner if there are more than 2 overlapping coupons).<br/>\n",
    "#### Solution\n",
    "Proposed solution utilizes prefix tree and does not take into account the count of identical coupons in `coupons` frame. This might be a proposition for future improvements."
   ],
   "id": "75ce9c884562e236"
  },
  {
   "metadata": {
    "ExecuteTime": {
     "end_time": "2025-01-21T16:50:31.080974Z",
     "start_time": "2025-01-21T16:50:31.077401Z"
    }
   },
   "cell_type": "code",
   "source": [
    "from typing import List, Tuple, Dict\n",
    "from collections import namedtuple\n",
    "# prefix tree utils\n",
    "PTreeNode = Tuple[Dict[str, 'PTreeNode'], bool] # children: dict, is_valid_coupon: bool\n",
    "\n",
    "\n",
    "def ptree_insert(root: PTreeNode, text_fields: List[str]):\n",
    "    if not text_fields: return\n",
    "    if text_fields[0] not in root:\n",
    "        root[0][text_fields[0]] = ({}, len(text_fields) == 1)\n",
    "    ptree_insert(root[0][text_fields[0]], text_fields[1:])\n",
    "\n",
    "\n",
    "def build_ptree(strings: List[List[str]]) -> PTreeNode:\n",
    "    root = ({}, False)\n",
    "    for s in strings:\n",
    "        ptree_insert(root, s)\n",
    "    return root\n"
   ],
   "id": "c644ae525d9123d4",
   "outputs": [],
   "execution_count": 6
  },
  {
   "metadata": {
    "ExecuteTime": {
     "end_time": "2025-01-21T16:50:41.629523Z",
     "start_time": "2025-01-21T16:50:41.312792Z"
    }
   },
   "cell_type": "code",
   "source": [
    "import datasets\n",
    "labels = datasets.ClassLabel(names=[\"UNKNOWN\", \"B-COUPON\", \"I-COUPON\"])\n",
    "lbl_unk = labels.str2int(\"UNKNOWN\")\n",
    "lbl_bc = labels.str2int(\"B-COUPON\")\n",
    "lbl_ic = labels.str2int(\"I-COUPON\")\n",
    "\n",
    "\n",
    "def annotate_frame(content_frame: pd.DataFrame, coupons_list: List[str]) -> pd.DataFrame:\n",
    "    content_frame = content_frame.dropna(subset=[COL_CONTENT_TEXT])\n",
    "    content_frame = content_frame.reset_index(drop=True)\n",
    "    ptree = build_ptree([s[1:-1].split(', ') for s in coupons_list])\n",
    "    is_coupon_array = []\n",
    "    ptree_iters: List[List] = []\n",
    "    ix = 0\n",
    "    text_col = content_frame[COL_CONTENT_TEXT]\n",
    "    while ix < len(text_col):\n",
    "        text = text_col[ix]\n",
    "        if not isinstance(text, str):\n",
    "            ix += 1\n",
    "            continue\n",
    "        ended_iters = []\n",
    "        for itr in ptree_iters:\n",
    "            if text not in itr[0][0]:\n",
    "                if itr[2] != -1:\n",
    "                    ended_iters.append(itr)\n",
    "            else:\n",
    "                itr[0] = itr[0][0][text]\n",
    "                if itr[0][1]:\n",
    "                    itr[2]= ix\n",
    "        if ended_iters:\n",
    "            chosen = None\n",
    "            chosen_len = 0\n",
    "            for itr in ended_iters:\n",
    "                if itr[2] - itr[1] + 1 > chosen_len:\n",
    "                    chosen = itr\n",
    "                    chosen_len = itr[2] - itr[1] + 1\n",
    "            is_coupon_array += [lbl_unk] * (chosen[1] - len(is_coupon_array) - 1)\n",
    "            is_coupon_array.append(lbl_bc)\n",
    "            is_coupon_array += [lbl_ic] * (chosen_len - 1)\n",
    "            ptree_iters.clear()\n",
    "            ix = chosen[2] + 1\n",
    "            continue\n",
    "        if text in ptree[0]:\n",
    "            ptree_iters.append([ptree[0][text], ix, -1 if not ptree[0][text][1] else ix])\n",
    "        ix += 1\n",
    "    is_coupon_array += [lbl_unk] * (len(content_frame) - len(is_coupon_array))\n",
    "    content_frame[COL_IS_COUPON] = is_coupon_array\n",
    "    return content_frame"
   ],
   "id": "4c02d13ffc062b5d",
   "outputs": [],
   "execution_count": 8
  },
  {
   "metadata": {
    "ExecuteTime": {
     "end_time": "2025-01-21T16:50:42.373941Z",
     "start_time": "2025-01-21T16:50:42.237299Z"
    }
   },
   "cell_type": "code",
   "source": [
    "to_annotate = [PATHS[1], PATHS[3]]\n",
    "by_time = []\n",
    "\n",
    "save_id = 0\n",
    "for (path_content, path_coupons) in to_annotate:\n",
    "    content_frame = pd.read_csv(PATH_PREFIX + path_content)\n",
    "    coupons_frame = pd.read_csv(PATH_PREFIX + path_coupons)\n",
    "    for time, subframe in content_frame.groupby(COL_TIME):\n",
    "        coupon_texts = coupons_frame[coupons_frame[COL_TIME] == time][COL_TEXT_FULL]\n",
    "        subframe = annotate_frame(subframe, coupon_texts)\n",
    "        by_time.append(subframe)\n",
    "\n",
    "samples_arr = [fr[COL_CONTENT_TEXT].to_list() for fr in by_time]\n",
    "labels_arr = [fr[COL_IS_COUPON].to_list() for fr in by_time]"
   ],
   "id": "e3e6b627ae596d89",
   "outputs": [],
   "execution_count": 9
  },
  {
   "metadata": {},
   "cell_type": "markdown",
   "source": "## Dataset creation",
   "id": "bc22aa80641ad182"
  },
  {
   "metadata": {
    "ExecuteTime": {
     "end_time": "2025-01-21T16:50:43.654815Z",
     "start_time": "2025-01-21T16:50:43.643317Z"
    }
   },
   "cell_type": "code",
   "source": [
    "for text, lbl in zip(samples_arr, labels_arr):\n",
    "    print(text)\n",
    "    print(lbl)"
   ],
   "id": "bb57472d3cd2a0b4",
   "outputs": [
    {
     "name": "stdout",
     "output_type": "stream",
     "text": [
      "['LIDL PLUS KARTE', 'Home', 'Prospekte', 'Lidl Plus', 'Onlineshop', 'Mehr']\n",
      "[0, 0, 0, 0, 0, 0]\n",
      "['Jetzt noch mehr sparen!', 'Raderberg', 'Mehr', 'Offen', 'Schließt um 21:00', 'Nächsten Sonntag geschlossen', 'Beste Einkaufszeit für deine Filiale', 'Spare zum Wochenstart mit Lidl Plus', 'HIER ENTLANG', 'Exklusiv für dich', 'Jetzt entdecken', 'Rabattsammler Plus', 'Partnervorteile', '3', 'LIDL PLUS KARTE', 'Home', 'Prospekte', 'Lidl Plus', 'Onlineshop', 'Mehr']\n",
      "[0, 0, 0, 0, 0, 0, 0, 0, 0, 0, 0, 0, 0, 0, 0, 0, 0, 0, 0, 0]\n",
      "[]\n",
      "[]\n",
      "['Exklusiv für dich', 'Jetzt entdecken', 'Sofortgewinne', 'Rabattsammler November', 'Mehr Infos', '5 verbleibende/r Tag/e', '81,40 €', '120 €', '200 €', '400 €', 'Nächste Stufe', 'Solevita Vitamingetränk oder W5 Spülmittel Ultra Power', 'gratis', 'Rabattsammler Plus', 'Inaktiv', 'Lidl Plus Angebote', 'Alle anzeigen', 'Alesto Selection Mandeln XXL', '24.11. – 30.11.', '-50%', '4,99', '3,45', '*', '€', '1 kg = 6.90', 'Je 500 g (Max. 24 Stück)', 'Söhnlein Brillant halbtrocken/trocken/Mild/Rose', '24.11. – 30.11.', '-44%¹⁾', '4,49', '2,49', '*', '€', '1 l = 3.32', 'Je 0,75 l (Max. 24 Stück)', 'Rabattsammler Plus', 'Partnervorteile', '3', 'Home', 'Prospekte', 'Lidl Plus', 'Onlineshop', 'Mehr']\n",
      "[0, 0, 0, 0, 0, 0, 0, 0, 0, 0, 0, 0, 0, 0, 0, 0, 0, 0, 0, 0, 0, 0, 0, 0, 0, 0, 0, 0, 0, 0, 0, 0, 0, 0, 0, 0, 0, 0, 0, 0, 0, 0, 0]\n",
      "['Exklusiv für dich', 'Jetzt entdecken', 'Sofortgewinne', 'Rabattsammler November', 'Mehr Infos', '5 verbleibende/r Tag/e', '81,40 €', '120 €', '200 €', '400 €', 'Nächste Stufe', 'Solevita Vitamingetränk oder W5 Spülmittel Ultra Power', 'gratis', 'Rabattsammler Plus', 'Inaktiv', 'Lidl Plus Angebote', 'Alle anzeigen', 'Alesto Selection Mandeln XXL', '24.11. – 30.11.', '-50%', '4,99', '3,45', '*', '€', '1 kg = 6.90', 'Je 500 g (Max. 24 Stück)', 'Söhnlein Brillant halbtrocken/trocken/Mild/Rose', '24.11. – 30.11.', '-44%¹⁾', '4,49', '2,49', '*', '€', '1 l = 3.32', 'Je 0,75 l (Max. 24 Stück)', 'Rabattsammler Plus', 'Partnervorteile', '3', 'Home', 'Prospekte', 'Lidl Plus', 'Onlineshop', 'Mehr']\n",
      "[0, 0, 0, 0, 0, 0, 0, 0, 0, 0, 0, 0, 0, 0, 0, 0, 0, 0, 0, 0, 0, 0, 0, 0, 0, 0, 0, 0, 0, 0, 0, 0, 0, 0, 0, 0, 0, 0, 0, 0, 0, 0, 0]\n",
      "['Unsere Aktionsprospekte', 'Aktionsprospekt', '25.11.2024 – 30.11.2024', 'Aktionsprospekt', '25.11.2024 – 30.11.2024', 'Aktionsprospekt', '09.12.2024 – 14.12.2024', 'Aktionsprospekt', '02.12.2024 – 07.12.2024', 'Aktuelle Magazine', 'Weihnachtsmagazin 2024', '04.11. – 28.12.2024', 'Weihnachten Spielwaren Magazin', '21.10. – 31.12.2024', 'Aktuelle Onlineshop-Highlights', 'Aktuelle Onlineshop-Highlights', '01.11.2024 – 30.11.2024', 'Beste Weine für jeden Anlass', 'Entkorkt Magazin', 'Weihnachten 2024', 'Highlights in der Weinwelt', '01.11.2024 – 30.11.2024', 'Aktuelle Reiseprospekte', 'November Reise-Highlights', '30.10.2024 - 30.11.2024', 'Unsere Top Deals', '13.11.2024 - 15.12.2024', 'Lidl Connect', 'Lidl Connect', 'Tarifübersicht', 'Prospekte', 'Home', 'Prospekte', 'Lidl Plus', 'Onlineshop', 'Mehr']\n",
      "[0, 0, 0, 0, 0, 0, 0, 0, 0, 0, 0, 0, 0, 0, 0, 0, 0, 0, 0, 0, 0, 0, 0, 0, 0, 0, 0, 0, 0, 0, 0, 0, 0, 0, 0, 0]\n",
      "['Unsere Aktionsprospekte', 'Aktionsprospekt', '25.11.2024 – 30.11.2024', 'Aktionsprospekt', '25.11.2024 – 30.11.2024', 'Aktionsprospekt', '09.12.2024 – 14.12.2024', 'Aktionsprospekt', '02.12.2024 – 07.12.2024', 'Aktuelle Magazine', 'Weihnachtsmagazin 2024', '04.11. – 28.12.2024', 'Weihnachten Spielwaren Magazin', '21.10. – 31.12.2024', 'Aktuelle Onlineshop-Highlights', 'Aktuelle Onlineshop-Highlights', '01.11.2024 – 30.11.2024', 'Beste Weine für jeden Anlass', 'Entkorkt Magazin', 'Weihnachten 2024', 'Highlights in der Weinwelt', '01.11.2024 – 30.11.2024', 'Aktuelle Reiseprospekte', 'November Reise-Highlights', '30.10.2024 - 30.11.2024', 'Unsere Top Deals', '13.11.2024 - 15.12.2024', 'Lidl Connect', 'Lidl Connect', 'Tarifübersicht', 'Prospekte', 'Home', 'Prospekte', 'Lidl Plus', 'Onlineshop', 'Mehr']\n",
      "[0, 0, 0, 0, 0, 0, 0, 0, 0, 0, 0, 0, 0, 0, 0, 0, 0, 0, 0, 0, 0, 0, 0, 0, 0, 0, 0, 0, 0, 0, 0, 0, 0, 0, 0, 0]\n",
      "['25.11.2024 – 30.11.2024']\n",
      "[0]\n",
      "['25.11.2024 – 30.11.2024']\n",
      "[0]\n",
      "['Unsere Aktionsprospekte', 'Aktionsprospekt', '25.11.2024 – 30.11.2024', 'Aktionsprospekt', '25.11.2024 – 30.11.2024', 'Aktionsprospekt', '09.12.2024 – 14.12.2024', 'Aktionsprospekt', '02.12.2024 – 07.12.2024', 'Aktuelle Magazine', 'Weihnachtsmagazin 2024', '04.11. – 28.12.2024', 'Weihnachten Spielwaren Magazin', '21.10. – 31.12.2024', 'Aktuelle Onlineshop-Highlights', 'Aktuelle Onlineshop-Highlights', '01.11.2024 – 30.11.2024', 'Beste Weine für jeden Anlass', 'Entkorkt Magazin', 'Weihnachten 2024', 'Highlights in der Weinwelt', '01.11.2024 – 30.11.2024', 'Aktuelle Reiseprospekte', 'November Reise-Highlights', '30.10.2024 - 30.11.2024', 'Unsere Top Deals', '13.11.2024 - 15.12.2024', 'Lidl Connect', 'Lidl Connect', 'Tarifübersicht', 'Prospekte', 'Home', 'Prospekte', 'Lidl Plus', 'Onlineshop', 'Mehr']\n",
      "[0, 0, 0, 0, 0, 0, 0, 0, 0, 0, 0, 0, 0, 0, 0, 0, 0, 0, 0, 0, 0, 0, 0, 0, 0, 0, 0, 0, 0, 0, 0, 0, 0, 0, 0, 0]\n",
      "['Home', 'Prospekte', 'Lidl Plus', 'Onlineshop', 'Mehr']\n",
      "[0, 0, 0, 0, 0]\n",
      "['Angebote (64)', 'Rabattsammler (81,40/400,00 €)', 'LIDL PLUS KARTE', '10 aktivierte Coupons', 'Alle Filialen', 'Online', 'Exklusiv für dich', 'Jetzt entdecken', 'Gültig in allen Filialen', '-20%', 'Max. 24 Stück *', 'Dulano Delikatess Katenschinken/Schinkenwürfel', 'Noch 7 Tage gültig', 'AKTIVIEREN', 'Home', 'Prospekte', 'Lidl Plus', 'Onlineshop', 'Mehr', 'Alle Filialen', 'Online', '-20%', 'Max. 24 Stück *', 'Dulano Delikatess Katenschinken/Schinkenwürfel', 'Noch 7 Tage gültig', 'AKTIVIEREN', '-20%', 'Max. 24 Stück *', 'Cien Kosmetiktücher mit Aloe Vera Duft', 'Noch 4 Tage gültig', 'AKTIVIEREN', 'gratis', 'Ab 1€ Einkaufswert *', 'Crownfield Haferflocken oder Milbona Bioland 2-Kammer-Joghurt', 'Noch 6 Tage gültig', 'AKTIV', 'gratis', 'Ab 1€ Einkaufswert *', '-20%', 'Max. 24 Stück *', 'Dulano Delikatess Katenschinken/Schinkenwürfel', 'Noch 7 Tage gültig', 'AKTIVIEREN', '-20%', 'Max. 24 Stück *', 'Cien Kosmetiktücher mit Aloe Vera Duft', 'Noch 4 Tage gültig', 'AKTIVIEREN', 'Crownfield Haferflocken oder Milbona Bioland 2-Kammer-Joghurt', 'Noch 6 Tage gültig', 'AKTIV']\n",
      "[0, 0, 0, 0, 0, 1, 2, 2, 1, 2, 2, 2, 2, 0, 0, 0, 0, 0, 0, 0, 1, 2, 2, 2, 2, 0, 0, 0, 0, 0, 1, 2, 0, 0, 0, 1, 2, 1, 2, 2, 2, 2, 0, 0, 0, 0, 0, 0, 0, 0, 0]\n",
      "['Angebote (64)', 'Rabattsammler (81,40/400,00 €)', 'Alle Filialen', 'Online', '-20%', 'Max. 24 Stück *', 'Dulano Delikatess Katenschinken/Schinkenwürfel', 'Noch 7 Tage gültig', 'AKTIVIEREN', '-20%', 'Max. 24 Stück *', 'Cien Kosmetiktücher mit Aloe Vera Duft', 'Noch 4 Tage gültig', 'AKTIVIEREN', 'gratis', 'Ab 1€ Einkaufswert *', 'Crownfield Haferflocken oder Milbona Bioland 2-Kammer-Joghurt', 'Noch 6 Tage gültig', 'AKTIV', 'Home', 'Prospekte', 'Lidl Plus', 'Onlineshop', 'Mehr', '-20%', 'Max. 24 Stück *', 'Cien Kosmetiktücher mit Aloe Vera Duft', 'Noch 4 Tage gültig', 'AKTIVIEREN', 'gratis', 'Ab 1€ Einkaufswert *', 'Crownfield Haferflocken oder Milbona Bioland 2-Kammer-Joghurt', 'Noch 6 Tage gültig', 'AKTIV', '-41%', 'Max. 24 Stück *', 'Emmi Caffè Latte', 'Nur noch heute gültig', 'AKTIV', '-20%', 'Max. 24 Stück *', 'Cien Kosmetiktücher mit Aloe Vera Duft', 'Noch 4 Tage gültig', 'AKTIVIEREN', 'gratis', 'Ab 1€ Einkaufswert *', 'Crownfield Haferflocken oder Milbona Bioland 2-Kammer-Joghurt', 'Noch 6 Tage gültig', 'AKTIV', '-41%', 'Max. 24 Stück *', 'Emmi Caffè Latte', 'Nur noch heute gültig', 'AKTIV', '-20%', 'Max. 24 Stück *', 'Cien Kosmetiktücher mit Aloe Vera Duft', 'Noch 4 Tage gültig', 'AKTIVIEREN', 'gratis', 'Ab 1€ Einkaufswert *', 'Crownfield Haferflocken oder Milbona Bioland 2-Kammer-Joghurt', 'Noch 6 Tage gültig', 'AKTIV', '-41%', 'Max. 24 Stück *', 'Emmi Caffè Latte', 'Nur noch heute gültig', 'AKTIV']\n",
      "[0, 0, 0, 1, 2, 2, 2, 2, 2, 2, 2, 2, 2, 1, 2, 2, 2, 2, 0, 0, 0, 0, 0, 1, 2, 2, 2, 2, 1, 2, 2, 2, 2, 0, 0, 0, 0, 0, 1, 2, 2, 2, 2, 1, 2, 2, 2, 2, 0, 0, 0, 0, 0, 1, 2, 2, 2, 2, 1, 2, 2, 2, 2, 0, 0, 0, 0, 0, 0]\n",
      "['Angebote (64)', 'Rabattsammler (81,40/400,00 €)', 'Alle Filialen', 'Online', '-20%', 'Max. 24 Stück *', 'Cien Kosmetiktücher mit Aloe Vera Duft', 'Noch 4 Tage gültig', 'AKTIVIEREN', 'gratis', 'Ab 1€ Einkaufswert *', 'Crownfield Haferflocken oder Milbona Bioland 2-Kammer-Joghurt', 'Noch 6 Tage gültig', 'AKTIV', '-41%', 'Max. 24 Stück *', 'Emmi Caffè Latte', 'Nur noch heute gültig', 'AKTIV', 'Home', 'Prospekte', 'Lidl Plus', 'Onlineshop', 'Mehr', 'gratis', 'Ab 1€ Einkaufswert *', 'Crownfield Haferflocken oder Milbona Bioland 2-Kammer-Joghurt', 'Noch 6 Tage gültig', 'AKTIV', '-41%', 'Max. 24 Stück *', 'Emmi Caffè Latte', 'Nur noch heute gültig', 'AKTIV', '-15%', 'Max. 24 Stück *', 'Vital-Kürbiskernbrot', 'Noch 5 Tage gültig', 'AKTIV', 'gratis', 'Ab 1€ Einkaufswert *', 'Crownfield Haferflocken oder Milbona Bioland 2-Kammer-Joghurt', 'Noch 6 Tage gültig', 'AKTIV', '-41%', 'Max. 24 Stück *', 'Emmi Caffè Latte', 'Nur noch heute gültig', 'AKTIV', '-15%', 'Max. 24 Stück *', 'Vital-Kürbiskernbrot', 'Noch 5 Tage gültig', 'AKTIV', '-41%', 'Max. 24 Stück *', 'Emmi Caffè Latte', 'Nur noch heute gültig', 'AKTIV', '-15%', 'Max. 24 Stück *', 'Vital-Kürbiskernbrot', 'Noch 5 Tage gültig', 'AKTIV', '-15%', 'Max. 24 Stück *', 'Buttercroissant', 'Noch 5 Tage gültig', 'AKTIV']\n",
      "[0, 0, 0, 1, 2, 2, 2, 2, 1, 2, 2, 2, 2, 1, 2, 2, 2, 2, 0, 0, 0, 0, 0, 1, 2, 2, 2, 2, 1, 2, 2, 2, 2, 0, 0, 0, 0, 0, 1, 2, 2, 2, 2, 1, 2, 2, 2, 2, 0, 0, 0, 0, 0, 1, 2, 2, 2, 2, 0, 0, 0, 0, 0, 0, 0, 0, 0, 0, 0]\n",
      "['Angebote (64)', 'Rabattsammler (81,40/400,00 €)', 'Alle Filialen', 'Online', '-41%', 'Max. 24 Stück *', 'Emmi Caffè Latte', 'Nur noch heute gültig', 'AKTIV', '-15%', 'Max. 24 Stück *', 'Vital-Kürbiskernbrot', 'Noch 5 Tage gültig', 'AKTIV', '-15%', 'Max. 24 Stück *', 'Buttercroissant', 'Noch 5 Tage gültig', 'AKTIV', 'Home', 'Prospekte', 'Lidl Plus', 'Onlineshop', 'Mehr', '-15%', 'Max. 24 Stück *', 'Vital-Kürbiskernbrot', 'Noch 5 Tage gültig', 'AKTIV', '-15%', 'Max. 24 Stück *', 'Buttercroissant', 'Noch 5 Tage gültig', 'AKTIV', '-15%', 'Max. 24 Stück *', 'Milbona Sandwich Scheiben', 'Noch 5 Tage gültig', 'AKTIV', '-15%', 'Max. 24 Stück *', 'Vital-Kürbiskernbrot', 'Noch 5 Tage gültig', 'AKTIV', '-15%', 'Max. 24 Stück *', 'Buttercroissant', 'Noch 5 Tage gültig', 'AKTIV', '-15%', 'Max. 24 Stück *', 'Milbona Sandwich Scheiben', 'Noch 5 Tage gültig', 'AKTIV', '-15%', 'Max. 24 Stück *', 'Vital-Kürbiskernbrot', 'Noch 5 Tage gültig', 'AKTIV', '-15%', 'Max. 24 Stück *', 'Buttercroissant', 'Noch 5 Tage gültig', 'AKTIV', '-15%', 'Max. 24 Stück *', 'Milbona Sandwich Scheiben', 'Noch 5 Tage gültig', 'AKTIV']\n",
      "[0, 0, 0, 1, 2, 2, 2, 2, 1, 2, 2, 2, 2, 1, 2, 2, 2, 2, 2, 2, 2, 2, 2, 2, 2, 2, 2, 2, 1, 2, 2, 2, 2, 2, 2, 2, 2, 2, 2, 2, 2, 2, 2, 1, 2, 2, 2, 2, 2, 2, 2, 2, 2, 2, 2, 2, 2, 2, 0, 0, 0, 0, 0, 0, 0, 0, 0, 0, 0]\n",
      "['Angebote (64)', 'Rabattsammler (81,40/400,00 €)', 'Alle Filialen', 'Online', '-15%', 'Max. 24 Stück *', 'Vital-Kürbiskernbrot', 'Noch 5 Tage gültig', 'AKTIV', '-15%', 'Max. 24 Stück *', 'Buttercroissant', 'Noch 5 Tage gültig', 'AKTIV', '-15%', 'Max. 24 Stück *', 'Milbona Sandwich Scheiben', 'Noch 5 Tage gültig', 'AKTIV', 'Home', 'Prospekte', 'Lidl Plus', 'Onlineshop', 'Mehr', '-15%', 'Max. 24 Stück *', 'Buttercroissant', 'Noch 5 Tage gültig', 'AKTIV', '-15%', 'Max. 24 Stück *', 'Milbona Sandwich Scheiben', 'Noch 5 Tage gültig', 'AKTIV', '-15%', 'Max. 24 Stück *', 'Bioland Speisequark', 'Noch 5 Tage gültig', 'AKTIV', '-15%', 'Max. 24 Stück *', 'Buttercroissant', 'Noch 5 Tage gültig', 'AKTIV', '-15%', 'Max. 24 Stück *', 'Milbona Sandwich Scheiben', 'Noch 5 Tage gültig', 'AKTIV', '-15%', 'Max. 24 Stück *', 'Bioland Speisequark', 'Noch 5 Tage gültig', 'AKTIV', '-15%', 'Max. 24 Stück *', 'Milbona Sandwich Scheiben', 'Noch 5 Tage gültig', 'AKTIV', '-15%', 'Max. 24 Stück *', 'Bioland Speisequark', 'Noch 5 Tage gültig', 'AKTIV']\n",
      "[0, 0, 0, 1, 2, 2, 2, 2, 0, 0, 0, 0, 0, 0, 0, 0, 0, 0, 0, 0, 0, 0, 0, 0, 0, 0, 0, 0, 0, 0, 0, 0, 0, 0, 0, 0, 0, 0, 0, 0, 0, 0, 0, 0, 0, 0, 0, 0, 0, 0, 0, 0, 0, 0, 0, 0, 0, 0, 0, 0, 0, 0, 0, 0]\n",
      "['Angebote (64)', 'Rabattsammler (81,40/400,00 €)', 'Alle Filialen', 'Online', '-15%', 'Max. 24 Stück *', 'Milbona Sandwich Scheiben', 'Noch 5 Tage gültig', 'AKTIV', '-15%', 'Max. 24 Stück *', 'Bioland Speisequark', 'Noch 5 Tage gültig', 'AKTIV', '-15%', 'Max. 24 Stück *', 'Milbona Schmand', 'Noch 5 Tage gültig', 'AKTIV', 'Home', 'Prospekte', 'Lidl Plus', 'Onlineshop', 'Mehr', '-15%', 'Max. 24 Stück *', 'Bioland Speisequark', 'Noch 5 Tage gültig', 'AKTIV', '-15%', 'Max. 24 Stück *', 'Milbona Schmand', 'Noch 5 Tage gültig', 'AKTIV', '-3€', 'Ab 40€ Einkaufswert *', '3€ Rabatt für deinen Wochenstart mit Lidl', 'Noch 2 Tage gültig', 'AKTIV', '-15%', 'Max. 24 Stück *', 'Bioland Speisequark', 'Noch 5 Tage gültig', 'AKTIV', '-15%', 'Max. 24 Stück *', 'Milbona Schmand', 'Noch 5 Tage gültig', 'AKTIV', '-3€', 'Ab 40€ Einkaufswert *', '3€ Rabatt für deinen Wochenstart mit Lidl', 'Noch 2 Tage gültig', 'AKTIV', '-15%', 'Max. 24 Stück *', 'Bioland Speisequark', 'Noch 5 Tage gültig', 'AKTIV', '-15%', 'Max. 24 Stück *', 'Milbona Schmand', 'Noch 5 Tage gültig', 'AKTIV', '-3€', 'Ab 40€ Einkaufswert *', '3€ Rabatt für deinen Wochenstart mit Lidl', 'Noch 2 Tage gültig', 'AKTIV']\n",
      "[0, 0, 0, 1, 2, 2, 2, 2, 2, 2, 2, 2, 2, 1, 2, 2, 2, 2, 2, 2, 2, 2, 2, 2, 2, 2, 2, 2, 1, 2, 2, 2, 2, 2, 2, 2, 2, 2, 2, 2, 2, 2, 2, 1, 2, 2, 2, 2, 2, 2, 2, 2, 2, 2, 2, 2, 2, 2, 0, 0, 0, 0, 0, 0, 0, 0, 0, 0, 0]\n",
      "['Angebote (64)', 'Rabattsammler (81,40/400,00 €)', 'Alle Filialen', 'Online', '-15%', 'Max. 24 Stück *', 'Bioland Speisequark', 'Noch 5 Tage gültig', 'AKTIV', '-15%', 'Max. 24 Stück *', 'Milbona Schmand', 'Noch 5 Tage gültig', 'AKTIV', '-3€', 'Ab 40€ Einkaufswert *', '3€ Rabatt für deinen Wochenstart mit Lidl', 'Noch 2 Tage gültig', 'AKTIV', 'Home', 'Prospekte', 'Lidl Plus', 'Onlineshop', 'Mehr', '-15%', 'Max. 24 Stück *', 'Milbona Schmand', 'Noch 5 Tage gültig', 'AKTIV', '-3€', 'Ab 40€ Einkaufswert *', '3€ Rabatt für deinen Wochenstart mit Lidl', 'Noch 2 Tage gültig', 'AKTIV', '4+1', 'gratis *', 'Culinea Easy Snacks', 'Noch 5 Tage gültig', 'AKTIV', '-15%', 'Max. 24 Stück *', 'Milbona Schmand', 'Noch 5 Tage gültig', 'AKTIV', '-3€', 'Ab 40€ Einkaufswert *', '3€ Rabatt für deinen Wochenstart mit Lidl', 'Noch 2 Tage gültig', 'AKTIV', '4+1', 'gratis *', 'Culinea Easy Snacks', 'Noch 5 Tage gültig', 'AKTIV', '-15%', 'Max. 24 Stück *', 'Milbona Schmand', 'Noch 5 Tage gültig', 'AKTIV', '-3€', 'Ab 40€ Einkaufswert *', '3€ Rabatt für deinen Wochenstart mit Lidl', 'Noch 2 Tage gültig', 'AKTIV', '4+1', 'gratis *', 'Culinea Easy Snacks', 'Noch 5 Tage gültig', 'AKTIV']\n",
      "[0, 0, 0, 1, 2, 2, 2, 2, 2, 2, 2, 2, 2, 1, 2, 2, 2, 2, 0, 0, 0, 0, 0, 1, 2, 2, 2, 2, 1, 2, 2, 2, 2, 0, 0, 0, 0, 0, 1, 2, 2, 2, 2, 1, 2, 2, 2, 2, 0, 0, 0, 0, 0, 1, 2, 2, 2, 2, 1, 2, 2, 2, 2, 0, 0, 0, 0, 0, 0]\n",
      "['Angebote (64)', 'Rabattsammler (81,40/400,00 €)', 'Alle Filialen', 'Online', '-15%', 'Max. 24 Stück *', 'Milbona Schmand', 'Noch 5 Tage gültig', 'AKTIV', '-3€', 'Ab 40€ Einkaufswert *', '3€ Rabatt für deinen Wochenstart mit Lidl', 'Noch 2 Tage gültig', 'AKTIV', '4+1', 'gratis *', 'Culinea Easy Snacks', 'Noch 5 Tage gültig', 'AKTIV', 'Home', 'Prospekte', 'Lidl Plus', 'Onlineshop', 'Mehr', '-3€', 'Ab 40€ Einkaufswert *', '3€ Rabatt für deinen Wochenstart mit Lidl', 'Noch 2 Tage gültig', 'AKTIV', '4+1', 'gratis *', 'Culinea Easy Snacks', 'Noch 5 Tage gültig', 'AKTIV', '-11%', 'Max. 24 Stück *', 'Vemondo Veganes Knusperbrot Weizen', 'Noch 5 Tage gültig', 'AKTIV', '-3€', 'Ab 40€ Einkaufswert *', '3€ Rabatt für deinen Wochenstart mit Lidl', 'Noch 2 Tage gültig', 'AKTIV', '4+1', 'gratis *', 'Culinea Easy Snacks', 'Noch 5 Tage gültig', 'AKTIV', '-11%', 'Max. 24 Stück *', 'Vemondo Veganes Knusperbrot Weizen', 'Noch 5 Tage gültig', 'AKTIV', '4+1', 'gratis *', 'Culinea Easy Snacks', 'Noch 5 Tage gültig', 'AKTIV', '-11%', 'Max. 24 Stück *', 'Vemondo Veganes Knusperbrot Weizen', 'Noch 5 Tage gültig', 'AKTIV', 'Onlineshop Coupons']\n",
      "[0, 0, 0, 1, 2, 2, 2, 2, 1, 2, 2, 2, 2, 1, 2, 2, 2, 2, 0, 0, 0, 0, 0, 1, 2, 2, 2, 2, 1, 2, 2, 2, 2, 0, 0, 0, 0, 0, 1, 2, 2, 2, 2, 1, 2, 2, 2, 2, 0, 0, 0, 0, 0, 1, 2, 2, 2, 2, 0, 0, 0, 0, 0, 0, 0]\n",
      "['Angebote (64)', 'Rabattsammler (81,40/400,00 €)', 'Alle Filialen', 'Online', '4+1', 'gratis *', 'Culinea Easy Snacks', 'Noch 5 Tage gültig', 'AKTIV', '-11%', 'Max. 24 Stück *', 'Vemondo Veganes Knusperbrot Weizen', 'Noch 5 Tage gültig', 'AKTIV', 'Onlineshop Coupons', 'Home', 'Prospekte', 'Lidl Plus', 'Onlineshop', 'Mehr', '-11%', 'Max. 24 Stück *', 'Vemondo Veganes Knusperbrot Weizen', 'Noch 5 Tage gültig', 'AKTIV', 'Onlineshop Coupons', 'ONLINE COUPON', 'Jetzt shoppen', '-30%', 'sparen', 'auf 30 Weinpakete im Onlineshop', 'Noch 6 Tage gültig', 'AKTIVIEREN', 'ONLINE COUPON', 'Jetzt shoppen', '-37%', 'sparen*', 'PARKSIDE® 20 V Akku Stich- und Säbelsäge 2in1 »PSSSA 20 Li B2«, ohne Akku und Ladegerät', 'Nur noch heute gültig', 'AKTIVIEREN', '-11%', 'Max. 24 Stück *', 'Vemondo Veganes Knusperbrot Weizen', 'Noch 5 Tage gültig', 'AKTIV', 'Onlineshop Coupons', 'ONLINE COUPON', 'Jetzt shoppen', '-30%', 'sparen', 'auf 30 Weinpakete im Onlineshop', 'Noch 6 Tage gültig', 'AKTIVIEREN', 'ONLINE COUPON', 'Jetzt shoppen', '-37%', 'sparen*', 'PARKSIDE® 20 V Akku Stich- und Säbelsäge 2in1 »PSSSA 20 Li B2«, ohne Akku und Ladegerät', 'Nur noch heute gültig', 'AKTIVIEREN', '-11%', 'Max. 24 Stück *', 'Vemondo Veganes Knusperbrot Weizen', 'Noch 5 Tage gültig', 'AKTIV', 'Onlineshop Coupons', 'ONLINE COUPON', 'Jetzt shoppen', '-30%', 'sparen', 'auf 30 Weinpakete im Onlineshop', 'Noch 6 Tage gültig', 'AKTIVIEREN', 'ONLINE COUPON', 'Jetzt shoppen', '-37%', 'sparen*', 'PARKSIDE® 20 V Akku Stich- und Säbelsäge 2in1 »PSSSA 20 Li B2«, ohne Akku und Ladegerät', 'Nur noch heute gültig', 'AKTIVIEREN']\n",
      "[0, 0, 0, 1, 2, 2, 2, 2, 1, 2, 2, 2, 2, 2, 0, 0, 0, 0, 0, 1, 2, 2, 2, 2, 2, 0, 0, 0, 0, 0, 0, 0, 0, 0, 0, 0, 0, 0, 0, 1, 2, 2, 2, 2, 2, 0, 0, 0, 0, 0, 0, 0, 0, 0, 0, 0, 0, 0, 0, 1, 2, 2, 2, 2, 2, 0, 0, 0, 0, 0, 0, 0, 0, 0, 0, 0, 0, 0, 0, 0]\n",
      "['Angebote (64)', 'Rabattsammler (81,40/400,00 €)', 'Alle Filialen', 'Online', '-11%', 'Max. 24 Stück *', 'Vemondo Veganes Knusperbrot Weizen', 'Noch 5 Tage gültig', 'AKTIV', 'Onlineshop Coupons', 'ONLINE COUPON', 'Jetzt shoppen', '-30%', 'sparen', 'auf 30 Weinpakete im Onlineshop', 'Noch 6 Tage gültig', 'AKTIVIEREN', 'ONLINE COUPON', 'Jetzt shoppen', '-37%', 'sparen*', 'PARKSIDE® 20 V Akku Stich- und Säbelsäge 2in1 »PSSSA 20 Li B2«, ohne Akku und Ladegerät', 'Nur noch heute gültig', 'AKTIVIEREN', 'Home', 'Prospekte', 'Lidl Plus', 'Onlineshop', 'Mehr', 'Vemondo Veganes Knusperbrot Weizen', 'Noch 5 Tage gültig', 'AKTIV', 'Onlineshop Coupons', 'ONLINE COUPON', 'Jetzt shoppen', '-30%', 'sparen', 'auf 30 Weinpakete im Onlineshop', 'Noch 6 Tage gültig', 'AKTIVIEREN', 'ONLINE COUPON', 'Jetzt shoppen', '-37%', 'sparen*', 'PARKSIDE® 20 V Akku Stich- und Säbelsäge 2in1 »PSSSA 20 Li B2«, ohne Akku und Ladegerät', 'Nur noch heute gültig', 'AKTIVIEREN', 'ONLINE COUPON', 'Jetzt shoppen', '-44%', 'Deal des Tages', 'Prophete E-Bike ATB Twentyniner, 29 Zoll', 'Nur noch heute gültig', 'AKTIVIEREN', 'ONLINE COUPON', 'Jetzt shoppen', '-30%', 'sparen', 'auf 30 Weinpakete im Onlineshop', 'Noch 6 Tage gültig', 'AKTIVIEREN', 'ONLINE COUPON', 'Jetzt shoppen', '-37%', 'sparen*', 'PARKSIDE® 20 V Akku Stich- und Säbelsäge 2in1 »PSSSA 20 Li B2«, ohne Akku und Ladegerät', 'Nur noch heute gültig', 'AKTIVIEREN', 'ONLINE COUPON', 'Jetzt shoppen', '-44%', 'Deal des Tages', 'Prophete E-Bike ATB Twentyniner, 29 Zoll', 'Nur noch heute gültig', 'AKTIVIEREN']\n",
      "[0, 0, 0, 1, 2, 2, 2, 2, 2, 1, 2, 2, 2, 2, 2, 2, 1, 2, 2, 2, 2, 2, 2, 2, 2, 2, 2, 2, 2, 2, 2, 2, 2, 2, 2, 2, 2, 2, 2, 1, 2, 2, 2, 2, 2, 2, 2, 2, 2, 2, 2, 2, 2, 2, 2, 2, 2, 2, 2, 2, 0, 0, 0, 0, 0, 0, 0, 0, 0, 0, 0, 0, 0, 0, 0]\n",
      "['Angebote (64)', 'Rabattsammler (81,40/400,00 €)', 'Alle Filialen', 'Online', 'ONLINE COUPON', 'Jetzt shoppen', '-30%', 'sparen', 'auf 30 Weinpakete im Onlineshop', 'Noch 6 Tage gültig', 'AKTIVIEREN', 'ONLINE COUPON', 'Jetzt shoppen', '-37%', 'sparen*', 'PARKSIDE® 20 V Akku Stich- und Säbelsäge 2in1 »PSSSA 20 Li B2«, ohne Akku und Ladegerät', 'Nur noch heute gültig', 'AKTIVIEREN', 'ONLINE COUPON', 'Jetzt shoppen', '-44%', 'Deal des Tages', 'Prophete E-Bike ATB Twentyniner, 29 Zoll', 'Nur noch heute gültig', 'AKTIVIEREN', 'Home', 'Prospekte', 'Lidl Plus', 'Onlineshop', 'Mehr', 'sparen', 'auf 30 Weinpakete im Onlineshop', 'Noch 6 Tage gültig', 'AKTIVIEREN', 'ONLINE COUPON', 'Jetzt shoppen', '-37%', 'sparen*', 'PARKSIDE® 20 V Akku Stich- und Säbelsäge 2in1 »PSSSA 20 Li B2«, ohne Akku und Ladegerät', 'Nur noch heute gültig', 'AKTIVIEREN', 'ONLINE COUPON', 'Jetzt shoppen', '-44%', 'Deal des Tages', 'Prophete E-Bike ATB Twentyniner, 29 Zoll', 'Nur noch heute gültig', 'AKTIVIEREN', 'ONLINE COUPON', 'Jetzt shoppen', '-30%', 'sparen', 'auf 30 Weinpakete im Onlineshop', 'Prophete E-Bike ATB Twentyniner, 29 Zoll', 'Nur noch heute gültig', 'AKTIVIEREN', 'ONLINE COUPON', 'Jetzt shoppen', '-30%', 'sparen', 'auf 30 Weinpakete im Onlineshop', 'Noch 6 Tage gültig', 'AKTIVIEREN', 'ONLINE COUPON', 'Jetzt shoppen', '-37%', 'sparen*', 'PARKSIDE® 20 V Akku Stich- und Säbelsäge 2in1 »PSSSA 20 Li B2«, ohne Akku und Ladegerät', 'Nur noch heute gültig', 'AKTIVIEREN', 'ONLINE COUPON', 'Jetzt shoppen', '-44%', 'Deal des Tages', 'Prophete E-Bike ATB Twentyniner, 29 Zoll', 'Nur noch heute gültig', 'AKTIVIEREN', 'ONLINE COUPON', 'Jetzt shoppen', '-30%', 'sparen', 'auf 30 Weinpakete im Onlineshop', 'Noch 6 Tage gültig', 'AKTIVIEREN', 'ONLINE COUPON', 'Jetzt shoppen', '-37%']\n",
      "[0, 0, 0, 0, 0, 0, 0, 0, 0, 0, 0, 0, 0, 0, 0, 0, 0, 0, 0, 0, 0, 0, 0, 0, 0, 0, 0, 0, 0, 0, 0, 0, 0, 0, 0, 0, 0, 0, 0, 0, 0, 0, 0, 0, 0, 0, 0, 0, 0, 0, 0, 0, 0, 0, 0, 0, 0, 0, 0, 0, 0, 0, 0, 0, 0, 0, 0, 0, 0, 0, 0, 0, 0, 0, 0, 0, 0, 0, 0, 0, 0, 0, 0, 0, 0, 0, 0]\n",
      "['Angebote (64)', 'Rabattsammler (81,40/400,00 €)', 'Alle Filialen', 'Online', 'ONLINE COUPON', 'Jetzt shoppen', '-30%', 'sparen', 'auf 30 Weinpakete im Onlineshop', 'Noch 6 Tage gültig', 'AKTIVIEREN', 'ONLINE COUPON', 'Jetzt shoppen', '-37%', 'sparen*', 'PARKSIDE® 20 V Akku Stich- und Säbelsäge 2in1 »PSSSA 20 Li B2«, ohne Akku und Ladegerät', 'Nur noch heute gültig', 'AKTIVIEREN', 'ONLINE COUPON', 'Jetzt shoppen', '-44%', 'Deal des Tages', 'Prophete E-Bike ATB Twentyniner, 29 Zoll', 'Nur noch heute gültig', 'AKTIVIEREN', 'Home', 'Prospekte', 'Lidl Plus', 'Onlineshop', 'Mehr', 'ONLINE COUPON', 'Jetzt shoppen', '-37%', 'sparen*', 'PARKSIDE® 20 V Akku Stich- und Säbelsäge 2in1 »PSSSA 20 Li B2«, ohne Akku und Ladegerät', 'Nur noch heute gültig', 'AKTIVIEREN', 'ONLINE COUPON', 'Jetzt shoppen', '-44%', 'Deal des Tages', 'Prophete E-Bike ATB Twentyniner, 29 Zoll', 'Nur noch heute gültig', 'AKTIVIEREN', 'ONLINE COUPON', 'Jetzt shoppen', '-46%', 'sparen', 'SILVERCREST® Tragbarer DVD-Player »SPDP 18 A1«, mit 2 Bildschirmen', 'Noch 2 Tage gültig', 'AKTIVIEREN', 'ONLINE COUPON', 'Jetzt shoppen', '-37%', 'sparen*', 'PARKSIDE® 20 V Akku Stich- und Säbelsäge 2in1 »PSSSA 20 Li B2«, ohne Akku und Ladegerät', 'Nur noch heute gültig', 'AKTIVIEREN', 'ONLINE COUPON', 'Jetzt shoppen', '-44%', 'Deal des Tages', 'Prophete E-Bike ATB Twentyniner, 29 Zoll', 'Nur noch heute gültig', 'AKTIVIEREN', 'ONLINE COUPON', 'Jetzt shoppen', '-46%', 'sparen', 'SILVERCREST® Tragbarer DVD-Player »SPDP 18 A1«, mit 2 Bildschirmen', 'Noch 2 Tage gültig', 'AKTIVIEREN', 'ONLINE COUPON', 'Jetzt shoppen', '5.95€ sparen', 'ohne Mindestbestellwert', '5.95€ Versandkosten sparen*', 'Noch 7 Tage gültig', 'AKTIVIEREN']\n",
      "[0, 0, 0, 0, 0, 0, 0, 0, 0, 0, 0, 0, 0, 0, 0, 0, 0, 0, 0, 0, 0, 0, 0, 0, 0, 0, 0, 0, 0, 0, 0, 0, 0, 0, 0, 0, 0, 0, 0, 0, 0, 0, 0, 0, 0, 0, 0, 0, 0, 0, 0, 0, 0, 0, 0, 0, 0, 0, 0, 0, 0, 0, 0, 0, 0, 0, 0, 0, 0, 0, 0, 0, 0, 0, 0, 0, 0, 0, 0]\n",
      "['Angebote (64)', 'Rabattsammler (81,40/400,00 €)', 'Alle Filialen', 'Online', 'ONLINE COUPON', 'Jetzt shoppen', '-44%', 'Deal des Tages', 'Prophete E-Bike ATB Twentyniner, 29 Zoll', 'Nur noch heute gültig', 'AKTIVIEREN', 'ONLINE COUPON', 'Jetzt shoppen', '-46%', 'sparen', 'SILVERCREST® Tragbarer DVD-Player »SPDP 18 A1«, mit 2 Bildschirmen', 'Noch 2 Tage gültig', 'AKTIVIEREN', 'ONLINE COUPON', 'Jetzt shoppen', '5.95€ sparen', 'ohne Mindestbestellwert', '5.95€ Versandkosten sparen*', 'Noch 7 Tage gültig', 'AKTIVIEREN', 'Home', 'Prospekte', 'Lidl Plus', 'Onlineshop', 'Mehr', 'ONLINE COUPON', 'Jetzt shoppen', '-44%', 'Deal des Tages', 'Prophete E-Bike ATB Twentyniner, 29 Zoll', 'Nur noch heute gültig', 'AKTIVIEREN', 'ONLINE COUPON', 'Jetzt shoppen', '-46%', 'sparen', 'SILVERCREST® Tragbarer DVD-Player »SPDP 18 A1«, mit 2 Bildschirmen', 'Noch 2 Tage gültig', 'AKTIVIEREN', 'ONLINE COUPON', 'Jetzt shoppen', '5.95€ sparen', 'ohne Mindestbestellwert', '5.95€ Versandkosten sparen*', 'Noch 7 Tage gültig', 'AKTIVIEREN', 'ONLINE COUPON', 'Jetzt shoppen', '-44%', 'Deal des Tages', 'Prophete E-Bike ATB Twentyniner, 29 Zoll', 'Nur noch heute gültig', 'AKTIVIEREN', 'ONLINE COUPON']\n",
      "[0, 0, 0, 0, 0, 0, 0, 0, 0, 0, 0, 0, 0, 0, 0, 0, 0, 0, 0, 0, 0, 0, 0, 0, 0, 0, 0, 0, 0, 0, 0, 0, 0, 0, 0, 0, 0, 0, 0, 0, 0, 0, 0, 0, 0, 0, 0, 0, 0, 0, 0, 0, 0, 0, 0, 0, 0, 0, 0]\n",
      "['Angebote (64)', 'Rabattsammler (81,40/400,00 €)', 'Alle Filialen', 'Online', 'ONLINE COUPON', 'Jetzt shoppen', '-46%', 'sparen', 'SILVERCREST® Tragbarer DVD-Player »SPDP 18 A1«, mit 2 Bildschirmen', 'Noch 2 Tage gültig', 'AKTIVIEREN', 'ONLINE COUPON', 'Jetzt shoppen', '5.95€ sparen', 'ohne Mindestbestellwert', '5.95€ Versandkosten sparen*', 'Noch 7 Tage gültig', 'AKTIVIEREN', '*Aktionsartikel können aufgrund begrenzter Vorratsmenge bereits im Laufe des ersten Angebotstages ausverkauft sein. Weitere Informationen zur Verfügbarkeit und zu den Bedingungen sind zu den einzelnen Angeboten und Coupons abrufbar.\\n\\nᵉ⁾ Preisvorteil gegenüber dem Preis einer Standardverpackung.\\n', 'Home', 'Prospekte', 'Lidl Plus', 'Onlineshop', 'Mehr', 'ONLINE COUPON', 'Jetzt shoppen', '-46%', 'sparen', 'SILVERCREST® Tragbarer DVD-Player »SPDP 18 A1«, mit 2 Bildschirmen', 'Noch 2 Tage gültig', 'AKTIVIEREN', 'ONLINE COUPON', 'Jetzt shoppen', '5.95€ sparen', 'ohne Mindestbestellwert', '5.95€ Versandkosten sparen*', 'Noch 7 Tage gültig', 'AKTIVIEREN', '*Aktionsartikel können aufgrund begrenzter Vorratsmenge bereits im Laufe des ersten Angebotstages ausverkauft sein. Weitere Informationen zur Verfügbarkeit und zu den Bedingungen sind zu den einzelnen Angeboten und Coupons abrufbar.\\n\\nᵉ⁾ Preisvorteil gegenüber dem Preis einer Standardverpackung.\\n', 'ONLINE COUPON', 'Jetzt shoppen', '-46%', 'sparen', 'SILVERCREST® Tragbarer DVD-Player »SPDP 18 A1«, mit 2 Bildschirmen', 'Noch 2 Tage gültig', 'AKTIVIEREN', 'ONLINE COUPON', 'Jetzt shoppen', '5.95€ sparen', 'ohne Mindestbestellwert', '5.95€ Versandkosten sparen*', 'Noch 7 Tage gültig', 'AKTIVIEREN', '*Aktionsartikel können aufgrund begrenzter Vorratsmenge bereits im Laufe des ersten Angebotstages ausverkauft sein. Weitere Informationen zur Verfügbarkeit und zu den Bedingungen sind zu den einzelnen Angeboten und Coupons abrufbar.\\n\\nᵉ⁾ Preisvorteil gegenüber dem Preis einer Standardverpackung.\\n', 'ONLINE COUPON', 'Jetzt shoppen', 'LIDL PLUS KARTE', '-15%', 'Max. 24 Stück *', 'Buttercroissant', 'Noch 5 Tage gültig', 'AKTIV', 'gratis', 'Ab 1€ Einkaufswert *', 'Crownfield Haferflocken oder Milbona Bioland 2-Kammer-Joghurt', 'Noch 6 Tage gültig', 'AKTIV']\n",
      "[0, 0, 0, 1, 2, 2, 2, 2, 2, 2, 2, 2, 2, 2, 2, 2, 2, 2, 0, 0, 0, 0, 0, 1, 2, 2, 2, 2, 2, 2, 2, 2, 2, 2, 2, 2, 2, 2, 1, 2, 2, 2, 2, 2, 2, 2, 2, 2, 2, 2, 2, 2, 2, 0, 0, 0, 0, 0, 0, 0, 0, 0, 0, 0, 0, 0, 0]\n",
      "['Angebote (64)', 'Rabattsammler (81,40/400,00 €)', 'Alle Filialen', 'Online', 'LIDL PLUS KARTE', '-20%', 'Max. 24 Stück *', 'Dulano Delikatess Katenschinken/Schinkenwürfel', 'Noch 7 Tage gültig', 'AKTIVIEREN', '-20%', 'Max. 24 Stück *', 'Cien Kosmetiktücher mit Aloe Vera Duft', 'Noch 4 Tage gültig', 'AKTIVIEREN', 'gratis', 'Ab 1€ Einkaufswert *', 'Crownfield Haferflocken oder Milbona Bioland 2-Kammer-Joghurt', 'Noch 6 Tage gültig', 'AKTIV', 'Home', 'Prospekte', 'Lidl Plus', 'Onlineshop', 'Mehr', '-20%', 'Max. 24 Stück *', 'Dulano Delikatess Katenschinken/Schinkenwürfel', 'Noch 7 Tage gültig', 'AKTIVIEREN', '-20%', 'Max. 24 Stück *', 'Cien Kosmetiktücher mit Aloe Vera Duft', 'Noch 4 Tage gültig', 'AKTIVIEREN', 'gratis', 'Ab 1€ Einkaufswert *', 'Crownfield Haferflocken oder Milbona Bioland 2-Kammer-Joghurt', 'Noch 6 Tage gültig', 'AKTIV', 'Lidl Plus Angebote', 'LIDL PLUS KARTE', 'Alesto Selection Mandeln XXL', '24.11. – 30.11.', '-50%', '4,99', '3,45', '*', '€', '1 kg = 6.90', 'Je 500 g (Max. 24 Stück)', 'Söhnlein Brillant halbtrocken/trocken/Mild/Rose', '24.11. – 30.11.', '-44%¹⁾', '4,49', '2,49', '*', '€', '1 l = 3.32', 'Je 0,75 l (Max. 24 Stück)', 'Deluxe Spanischer Käselaib DOP', 'Auf alle Bioland Artikel', 'Ohne Aktivierung nutzen, Lidl Plus an der Kasse scannen']\n",
      "[0, 0, 0, 0, 1, 2, 2, 2, 2, 0, 0, 0, 0, 0, 1, 2, 2, 2, 2, 0, 0, 0, 0, 0, 1, 2, 2, 2, 2, 0, 0, 0, 0, 0, 1, 2, 2, 2, 2, 0, 0, 0, 0, 0, 0, 0, 0, 0, 0, 0, 0, 0, 0, 0, 0, 0, 0, 0, 0, 0, 0, 0, 0]\n",
      "['Alesto Selection Mandeln XXL', '24.11. – 30.11.', '-50%', '4,99', '3,45', '*', '€', '1 kg = 6.90', 'Je 500 g (Max. 24 Stück)', 'Söhnlein Brillant halbtrocken/trocken/Mild/Rose', '24.11. – 30.11.', '-44%¹⁾', '4,49', '2,49', '*', '€', '1 l = 3.32', 'Je 0,75 l (Max. 24 Stück)', 'Deluxe Spanischer Käselaib DOP', 'Auf alle Bioland Artikel', 'Ohne Aktivierung nutzen, Lidl Plus an der Kasse scannen', 'Lidl Plus Angebote', 'LIDL PLUS KARTE', 'Home', 'Prospekte', 'Lidl Plus', 'Onlineshop', 'Mehr']\n",
      "[0, 0, 0, 0, 0, 0, 0, 0, 0, 0, 0, 0, 0, 0, 0, 0, 0, 0, 0, 0, 0, 0, 0, 0, 0, 0, 0, 0]\n",
      "['Onlineshop', 'Lieblingsprodukte finden', 'Home', 'Prospekte', 'Lidl Plus', 'Onlineshop', 'Mehr']\n",
      "[0, 0, 0, 0, 0, 0, 0]\n",
      "['EXKLUSIV zur BLACK WEEK🚨', 'Als Lidl Plus Kunde im Onlineshop 5.95€ Versandkosten sparen – OHNE Mindestbestellwert!³²ᵃ', 'VERSTANDEN']\n",
      "[0, 0, 0]\n",
      "['Spare 5.95€ Versandkosten³²ᵃ ohne Mindestbestellwert mit Lidl Plus', 'ONLINESHOP KATEGORIEN', 'Garten & Balkon\\n\\n', 'Baumarkt\\n\\n', 'Haushalt & Küche\\n\\n', 'ONLINESHOP ANGEBOTE', 'Black Week Deals: Monsieur Cuisine', 'Black Week Deals: Jamie Oliver by Tefal', 'Onlineshop', 'Lieblingsprodukte finden', 'Home', 'Prospekte', 'Lidl Plus', 'Onlineshop', 'Mehr']\n",
      "[0, 0, 0, 0, 0, 0, 0, 0, 0, 0, 0, 0, 0, 0, 0]\n",
      "['Mehr', 'Prospekte', 'Meine Einkaufsliste', 'Mein Einkauf', 'Einkäufe/Bestellungen', 'E-Mobilität', 'Meine Filiale', 'Mein Lidl Plus Konto', 'Einstellungen', 'Rabattsammler Plus', 'Onlineshop', 'Partnervorteile', 'lidl-kochen.de', 'lidl-weinwelt.de', 'lidl-reisen.de', 'Code einlösen', 'Deine Meinung zählt', 'Hilfe', 'Mehr von Lidl', 'Gesetzliche Informationen', 'Impressum', 'Verträge hier kündigen', 'Version 16.17.7 (1470406580) 🚀', 'Home', 'Prospekte', 'Lidl Plus', 'Onlineshop', 'Mehr']\n",
      "[0, 0, 0, 0, 0, 0, 0, 0, 0, 0, 0, 0, 0, 0, 0, 0, 0, 0, 0, 0, 0, 0, 0, 0, 0, 0, 0, 0]\n",
      "['Mehr', 'Prospekte', 'Meine Einkaufsliste', 'Mein Einkauf', 'Einkäufe/Bestellungen', 'E-Mobilität', 'Meine Filiale', 'Mein Lidl Plus Konto', 'Einstellungen', 'Rabattsammler Plus', 'Onlineshop', 'Partnervorteile', 'lidl-kochen.de', 'lidl-weinwelt.de', 'lidl-reisen.de', 'Code einlösen', 'Deine Meinung zählt', 'Hilfe', 'Mehr von Lidl', 'Gesetzliche Informationen', 'Impressum', 'Verträge hier kündigen', 'Version 16.17.7 (1470406580) 🚀', 'Home', 'Prospekte', 'Lidl Plus', 'Onlineshop', 'Mehr']\n",
      "[0, 0, 0, 0, 0, 0, 0, 0, 0, 0, 0, 0, 0, 0, 0, 0, 0, 0, 0, 0, 0, 0, 0, 0, 0, 0, 0, 0]\n",
      "[]\n",
      "[]\n",
      "[]\n",
      "[]\n",
      "['Lidl Pay', 'Meine Bankverbindung', 'Konfiguration', ' ', 'Meine Kassenbons', 'Meine Einkaufsliste', 'Zahlungen · Version 3.11.3', 'Home', 'Prospekte', 'Lidl Plus', 'Onlineshop', 'Mehr']\n",
      "[0, 0, 0, 0, 0, 0, 0, 0, 0, 0, 0, 0]\n",
      "['ALLE', 'MARKIERT', 'Home', 'Prospekte', 'Lidl Plus', 'Onlineshop', 'Mehr']\n",
      "[0, 0, 0, 0, 0, 0, 0]\n",
      "[]\n",
      "[]\n",
      "[]\n",
      "[]\n",
      "['25. November', '\\n', '           ', 'Raderberger Str. 211', '           ', '\\n', '           ', '50968 Köln-Raderberg', '           ', '\\n', '                                    ', 'EUR', '\\n', 'Biol. Gartenkäse', '             ', '      ', '4,52', ' ', 'A', '\\n', '  ', '0,227', ' ', 'kg x', ' ', '19,89', ' ', ' ', 'EUR/kg', '\\n', '  ', '   Lidl Plus Rabatt', '        ', '     ', '-0,50', '\\n', 'Orangen kg', '                   ', '      ', '1,04', ' ', 'A', '\\n', '  ', '0,374', ' ', 'kg x', ' ', '2,79', '  ', ' ', 'EUR/kg', '\\n', 'Auberginen', '                   ', '1,20', ' ', 'A', '\\n', '0,402', ' ', 'kg x', ' ', '2,99', '  ', ' ', 'EUR/kg', '\\n', 'Bio Champignons', '              ', '      ', '1,79', ' ', 'A', '\\n', '  ', '   Lidl Plus Rabatt', '        ', '     ', '-0,20', '\\n', 'Bio Baby Spinat', '              ', '      ', '1,49', ' ', 'A', '\\n', '  ', '   Lidl Plus Rabatt', '        ', '     ', '-0,16', '\\n', 'Bio Zwiebel rot 500g', '         ', '      ', '1,29', ' ', 'A', '\\n', '  ', '   Lidl Plus Rabatt', '        ', '     ', '-0,14', '\\n', 'Brombeeren', '                   ', '      ', '2,99', ' ', 'A', '\\n', 'Lauchzwiebeln', '                ', '      ', '0,55', ' ', 'A', '\\n', 'Biol.CremigerJoghurt', '         ', '      ', '1,15', ' ', 'A', '\\n', '  ', '   Lidl Plus Rabatt', '        ', '     ', '-0,13', '\\n', 'Prem.Pasta Ricot.Spi', '         ', '      ', '1,79', ' ', 'A', '\\n', 'Vegan.Fleischs. fein', '         ', '      ', '0,99', ' ', 'A', '\\n', 'Biol.Steinof.br', '              ', '      ', '0,49', ' ', 'A', '\\n', '  ', '   Lidl Plus Rabatt', '        ', '     ', '-0,05', '\\n', 'Schoko Donut', '                 ', '      ', '0,59', ' ', 'A', '\\n', '  ', '   Lidl Plus Rabatt', '        ', '     ', '-0,09', '\\n', 'Papiertasche', '                 ', '      ', '0,20', ' ', 'B', '\\n', '------------------------------------------', '\\n', 'zu zahlen', '             ', '       ', '     ', '18,81', '\\n', 'Karte', '                       ', ' ', '    ', '118,81', '\\n', '\\n', 'Bargeldauszahlung', '           ', ' ', '   ', '-100,00', '\\n', '\\n', ' ', 'MWST%       MWST  +   Netto  =  Brutto', '   ', '\\n', 'A', ' ', ' ', '7', ' ', '%', '  ', '     ', '1,22', ' ', '     ', '17,39', ' ', '     ', '18,61', '\\n', 'B', ' ', '19', ' ', '%', '  ', '     ', '0,03', ' ', '      ', '0,17', ' ', '      ', '0,20', '\\n', 'Summe', '  ', '      ', '1,25', ' ', '     ', '17,56', ' ', '     ', '18,81', '\\n', '\\n', '----------------------------------------', '\\n', '¦', '            ', 'Mit Lidl Plus', '             ', '¦', '\\n', '¦', '           ', '1,27 EUR gespart', '           ', '¦', '\\n', '----------------------------------------', '\\n', '\\n', 'TSE Transaktionsnummer:', ' ', '1077984', '           ', '\\n', 'Seriennr. Kasse:', ' ', 'LDL-000-9564-1', '           ', '\\n', 'Seriennr. TSE: 8+aWiMisDdeo8zWiHaUNmgWQwD0', '\\n', 'UuQCpU1HGsWL81gc=', '                         ', '\\n', 'Prüfwert: 2hBFoKIK1z8H2v/SIJXtdJ0g4AWUP2GX', '\\n', 'JhYvbwfdpymbvWOl3uYzQadQEzDNvff4CNlRfoObx7', '\\n', 'ynmdHnom/H2dbBbC7lunpyDehekRae5L1Qr0N3Inqh', '\\n', 'YjDOaZs0ZlAP', '                              ', '\\n', 'Signaturzähler:', ' ', '2193022', '                   ', '\\n', '2024-11-25T06:48:23.000Z', '                  ', '\\n', '2024-11-25T06:49:23.000Z', '                  ', '\\n', '9564', '   ', '665562/01', '            ', '25.11.24', ' ', '07:48', '\\n', '         ', 'UST-ID-NR: DE814429035', '         ', '\\n', '----------------------------------------', '\\n', '         K-U-N-D-E-N-B-E-L-E-G          ', '\\n', '         Kartenzahlung girocard         ', '\\n', '                                        ', '\\n', 'Betrag                        118,81 EUR', '\\n', '                                        ', '\\n', 'Bargeldauszahlung             100,00 EUR', '\\n', '                                        ', '\\n', 'Zahlung                        18,81 EUR', '\\n', '                                        ', '\\n', '                                        ', '\\n', '25.11.2024      07:48      T-ID 60162084', '\\n', 'TA-Nr. 472774             Beleg-Nr. 7399', '\\n', 'Kartennr.         ###############9003 00', '\\n', 'Kontaktlos Chip                   Online', '\\n', 'VU-Nummer                9824209564     ', '\\n', 'Autorisierungsnummer              131720', '\\n', 'Autorisierungsantwortcode             00', '\\n', 'EMV-Daten:       A0000003591010028001/00', '\\n', '                                        ', '\\n', '**       Autorisierung erfolgt        **', '\\n', '----------------------------------------', '\\n', '\\n', '****\\n\\n****\\nVIELEN DANK FÜR DEINEN EINKAUF!\\n****\\nKostenlose Servicenummer: \\n0800 5435 7587\\nwww.lidl.de', 'Einkauf getätigt in', 'Raderberg\\nRaderberger Str. 211\\n50968 Köln', 'Details zur Filiale', 'Eingelöste Coupons', '-15% Max. 24 Stück - Schoko-Donut mit Streusel', 'Aktion gültig vom 24.11.2024 bis 30.11.2024. Gültig in allen Filialen. Coupon nur einmalig einlösbar. Pro Einkauf max. 24 Stück. Sämtliche Aktionsartikel können aufgrund begrenzter Vorratsmenge bereits im Laufe des ersten Angebotstages ausverkauft sein. Coupons zu denselben Artikeln sind nicht kombinierbar.', '\\n', '           ', 'Raderberger Str. 211', '           ', '\\n', '           ', '50968 Köln-Raderberg', '           ', '\\n', '                                    ', 'EUR', '\\n', 'Biol. Gartenkäse', '             ', '      ', '4,52', ' ', 'A', '\\n', '  ', '0,227', ' ', 'kg x', ' ', '19,89', ' ', ' ', 'EUR/kg', '\\n', '  ', '   Lidl Plus Rabatt', '        ', '     ', '-0,50', '\\n', 'Orangen kg', '                   ', '      ', '1,04', ' ', 'A', '\\n', '  ', '0,374', ' ', 'kg x', ' ', '2,79', '  ', ' ', 'EUR/kg', '\\n', 'Auberginen', '                   ', '      ', '1,20', ' ', 'A', '\\n', '  ', '0,402', ' ', 'kg x', ' ', '2,99', '  ', ' ', 'EUR/kg', '\\n', 'Bio Champignons', '              ', '      ', '1,79', ' ', 'A', '\\n', '  ', '   Lidl Plus Rabatt', '        ', '     ', '-0,20', '\\n', 'Bio Baby Spinat', '              ', '      ', '1,49', ' ', 'A', '\\n', '  ', '   Lidl Plus Rabatt', '        ', '     ', '-0,16', '\\n', 'Bio Zwiebel rot 500g', '         ', '      ', '1,29', ' ', 'A', '\\n', '  ', '   Lidl Plus Rabatt', '        ', '     ', '-0,14', '\\n', 'Brombeeren', '                   ', '      ', '2,99', ' ', 'A', '\\n', 'Lauchzwiebeln', '                ', '0,55', ' ', 'A', '\\n', 'Biol.CremigerJoghurt', '         ', '      ', '1,15', ' ', 'A', '\\n', '  ', '   Lidl Plus Rabatt', '        ', '     ', '-0,13', '\\n', 'Prem.Pasta Ricot.Spi', '         ', '      ', '1,79', ' ', 'A', '\\n', 'Vegan.Fleischs. fein', '         ', '      ', '0,99', ' ', 'A', '\\n', 'Biol.Steinof.br', '              ', '      ', '0,49', ' ', 'A', '\\n', '  ', '   Lidl Plus Rabatt', '        ', '     ', '-0,05', '\\n', 'Schoko Donut', '                 ', '      ', '0,59', ' ', 'A', '\\n', '  ', '   Lidl Plus Rabatt', '        ', '     ', '-0,09', '\\n', 'Papiertasche', '                 ', '      ', '0,20', ' ', 'B', '\\n', '------------------------------------------', '\\n', 'zu zahlen', '             ', '       ', '     ', '18,81', '\\n', 'Karte', '                       ', ' ', '    ', '118,81', '\\n', '\\n', 'Bargeldauszahlung', '           ', ' ', '   ', '-100,00', '\\n', '\\n', ' ', 'MWST%       MWST  +   Netto  =  Brutto', '   ', '\\n', 'A', ' ', ' ', '7', ' ', '%', '  ', '     ', '1,22', ' ', '     ', '17,39', ' ', '     ', '18,61', '\\n', 'B', ' ', '19', ' ', '%', '  ', '     ', '0,03', ' ', '      ', '0,17', ' ', '      ', '0,20', '\\n', 'Summe', '  ', '      ', '1,25', ' ', '     ', '17,56', ' ', '     ', '18,81', '\\n', '\\n', '----------------------------------------', '\\n', '¦', '            ', 'Mit Lidl Plus', '             ', '¦', '\\n', '¦', '           ', '1,27 EUR gespart', '           ', '¦', '\\n', '----------------------------------------', '\\n', '\\n', 'TSE Transaktionsnummer:', ' ', '1077984', '           ', '\\n', 'Seriennr. Kasse:', ' ', 'LDL-000-9564-1', '           ', '\\n', 'Seriennr. TSE: 8+aWiMisDdeo8zWiHaUNmgWQwD0', '\\n', 'UuQCpU1HGsWL81gc=', '                         ', '\\n', 'Prüfwert: 2hBFoKIK1z8H2v/SIJXtdJ0g4AWUP2GX', '\\n', 'JhYvbwfdpymbvWOl3uYzQadQEzDNvff4CNlRfoObx7', '\\n', 'ynmdHnom/H2dbBbC7lunpyDehekRae5L1Qr0N3Inqh', '\\n', 'YjDOaZs0ZlAP', '                              ', '\\n', 'Signaturzähler:', ' ', '2193022', '                   ', '\\n', '2024-11-25T06:48:23.000Z', '                  ', '\\n', '2024-11-25T06:49:23.000Z', '                  ', '\\n', '9564', '   ', '665562/01', '            ', '25.11.24', ' ', '07:48', '\\n', '         ', 'UST-ID-NR: DE814429035', '         ', '\\n', '----------------------------------------', '\\n', '         K-U-N-D-E-N-B-E-L-E-G          ', '\\n', '         Kartenzahlung girocard         ', '\\n', '                                        ', '\\n', 'Betrag                        118,81 EUR', '\\n', '                                        ', '\\n', 'Bargeldauszahlung             100,00 EUR', '\\n', '                                        ', '\\n', 'Zahlung                        18,81 EUR', '\\n', '                                        ', '\\n', '                                        ', '\\n', '25.11.2024      07:48      T-ID 60162084', '\\n', 'TA-Nr. 472774             Beleg-Nr. 7399', '\\n', 'Kartennr.         ###############9003 00', '\\n', 'Kontaktlos Chip                   Online', '\\n', 'VU-Nummer                9824209564     ', '\\n', 'Autorisierungsnummer              131720', '\\n', 'Autorisierungsantwortcode             00', '\\n', 'EMV-Daten:       A0000003591010028001/00', '\\n', '                                        ', '\\n', '**       Autorisierung erfolgt        **', '\\n', '----------------------------------------', '\\n', '\\n', '****\\n\\n****\\nVIELEN DANK FÜR DEINEN EINKAUF!\\n****\\nKostenlose Servicenummer: \\n0800 5435 7587\\nwww.lidl.de', 'Einkauf getätigt in', 'Raderberg\\nRaderberger Str. 211\\n50968 Köln', 'Details zur Filiale', 'Eingelöste Coupons', '-15% Max. 24 Stück - Schoko-Donut mit Streusel', 'Aktion gültig vom 24.11.2024 bis 30.11.2024. Gültig in allen Filialen. Coupon nur einmalig einlösbar. Pro Einkauf max. 24 Stück. Sämtliche Aktionsartikel können aufgrund begrenzter Vorratsmenge bereits im Laufe des ersten Angebotstages ausverkauft sein. Coupons zu denselben Artikeln sind nicht kombinierbar.', '\\n', '           ', 'Raderberger Str. 211', '           ', '\\n', '           ', '50968 Köln-Raderberg', '           ', '\\n', '                                    ', 'EUR', '\\n', 'Biol. Gartenkäse', '             ', '      ', '4,52', ' ', 'A', '\\n', '  ', '0,227', ' ', 'kg x', ' ', '19,89', ' ', ' ', 'EUR/kg', '\\n', '  ', '   Lidl Plus Rabatt', '        ', '     ', '-0,50', '\\n', 'Orangen kg', '                   ', '      ', '1,04', ' ', 'A', '\\n', '  ', '0,374', ' ', 'kg x', ' ', '2,79', '  ', ' ', 'EUR/kg', '\\n', 'Auberginen', '                   ', '      ', '1,20', ' ', 'A', '\\n', '  ', '0,402', ' ', 'kg x', ' ', '2,99', '  ', ' ', 'EUR/kg', '\\n', 'Bio Champignons', '              ', '      ', '1,79', ' ', 'A', '\\n', '  ', '   Lidl Plus Rabatt', '        ', '     ', '-0,20', '\\n', 'Bio Baby Spinat', '              ', '      ', '1,49', ' ', 'A', '\\n', '  ', '   Lidl Plus Rabatt', '        ', '     ', '-0,16', '\\n', 'Bio Zwiebel rot 500g', '         ', '      ', '1,29', ' ', 'A', '\\n', '  ', '   Lidl Plus Rabatt', '        ', '     ', '-0,14', '\\n', 'Brombeeren', '                   ', '      ', '2,99', ' ', 'A', '\\n', 'Lauchzwiebeln', '                ', '      ', '0,55', ' ', 'A', '\\n', 'Biol.CremigerJoghurt', '         ', '      ', '1,15', ' ', 'A', '\\n', '  ', '   Lidl Plus Rabatt', '        ', '     ', '-0,13', '\\n', 'Prem.Pasta Ricot.Spi', '         ']\n",
      "[0, 0, 0, 0, 0, 0, 0, 0, 0, 0, 0, 0, 0, 0, 0, 0, 0, 0, 0, 0, 0, 0, 0, 0, 0, 0, 0, 0, 0, 0, 0, 0, 0, 0, 0, 0, 0, 0, 0, 0, 0, 0, 0, 0, 0, 0, 0, 0, 0, 0, 0, 0, 0, 0, 0, 0, 0, 0, 0, 0, 0, 0, 0, 0, 0, 0, 0, 0, 0, 0, 0, 0, 0, 0, 0, 0, 0, 0, 0, 0, 0, 0, 0, 0, 0, 0, 0, 0, 0, 0, 0, 0, 0, 0, 0, 0, 0, 0, 0, 0, 0, 0, 0, 0, 0, 0, 0, 0, 0, 0, 0, 0, 0, 0, 0, 0, 0, 0, 0, 0, 0, 0, 0, 0, 0, 0, 0, 0, 0, 0, 0, 0, 0, 0, 0, 0, 0, 0, 0, 0, 0, 0, 0, 0, 0, 0, 0, 0, 0, 0, 0, 0, 0, 0, 0, 0, 0, 0, 0, 0, 0, 0, 0, 0, 0, 0, 0, 0, 0, 0, 0, 0, 0, 0, 0, 0, 0, 0, 0, 0, 0, 0, 0, 0, 0, 0, 0, 0, 0, 0, 0, 0, 0, 0, 0, 0, 0, 0, 0, 0, 0, 0, 0, 0, 0, 0, 0, 0, 0, 0, 0, 0, 0, 0, 0, 0, 0, 0, 0, 0, 0, 0, 0, 0, 0, 0, 0, 0, 0, 0, 0, 0, 0, 0, 0, 0, 0, 0, 0, 0, 0, 0, 0, 0, 0, 0, 0, 0, 0, 0, 0, 0, 0, 0, 0, 0, 0, 0, 0, 0, 0, 0, 0, 0, 0, 0, 0, 0, 0, 0, 0, 0, 0, 0, 0, 0, 0, 0, 0, 0, 0, 0, 0, 0, 0, 0, 0, 0, 0, 0, 0, 0, 0, 0, 0, 0, 0, 0, 0, 0, 0, 0, 0, 0, 0, 0, 0, 0, 0, 0, 0, 0, 0, 0, 0, 0, 0, 0, 0, 0, 0, 0, 0, 0, 0, 0, 0, 0, 0, 0, 0, 0, 0, 0, 0, 0, 0, 0, 0, 0, 0, 0, 0, 0, 0, 0, 0, 0, 0, 0, 0, 0, 0, 0, 0, 0, 0, 0, 0, 0, 0, 0, 0, 0, 0, 0, 0, 0, 0, 0, 0, 0, 0, 0, 0, 0, 0, 0, 0, 0, 0, 0, 0, 0, 0, 0, 0, 0, 0, 0, 0, 0, 0, 0, 0, 0, 0, 0, 0, 0, 0, 0, 0, 0, 0, 0, 0, 0, 0, 0, 0, 0, 0, 0, 0, 0, 0, 0, 0, 0, 0, 0, 0, 0, 0, 0, 0, 0, 0, 0, 0, 0, 0, 0, 0, 0, 0, 0, 0, 0, 0, 0, 0, 0, 0, 0, 0, 0, 0, 0, 0, 0, 0, 0, 0, 0, 0, 0, 0, 0, 0, 0, 0, 0, 0, 0, 0, 0, 0, 0, 0, 0, 0, 0, 0, 0, 0, 0, 0, 0, 0, 0, 0, 0, 0, 0, 0, 0, 0, 0, 0, 0, 0, 0, 0, 0, 0, 0, 0, 0, 0, 0, 0, 0, 0, 0, 0, 0, 0, 0, 0, 0, 0, 0, 0, 0, 0, 0, 0, 0, 0, 0, 0, 0, 0, 0, 0, 0, 0, 0, 0, 0, 0, 0, 0, 0, 0, 0, 0, 0, 0, 0, 0, 0, 0, 0, 0, 0, 0, 0, 0, 0, 0, 0, 0, 0, 0, 0, 0, 0, 0, 0, 0, 0, 0, 0, 0, 0, 0, 0, 0, 0, 0, 0, 0, 0, 0, 0, 0, 0, 0, 0, 0, 0, 0, 0, 0, 0, 0, 0, 0, 0, 0, 0, 0, 0, 0, 0, 0, 0, 0, 0, 0, 0, 0, 0, 0, 0, 0, 0, 0, 0, 0, 0, 0, 0, 0, 0, 0, 0, 0, 0, 0, 0, 0, 0, 0, 0, 0, 0, 0, 0, 0, 0, 0, 0, 0, 0, 0, 0, 0, 0, 0, 0, 0, 0, 0, 0, 0, 0, 0, 0, 0, 0, 0, 0, 0, 0, 0, 0, 0, 0, 0, 0, 0, 0, 0, 0, 0, 0, 0, 0, 0, 0, 0, 0, 0, 0, 0, 0, 0, 0, 0, 0, 0, 0, 0, 0, 0, 0, 0, 0, 0, 0, 0, 0, 0, 0, 0, 0, 0, 0, 0, 0, 0, 0, 0, 0, 0, 0, 0, 0, 0, 0, 0, 0, 0, 0, 0, 0, 0, 0, 0, 0, 0, 0, 0, 0, 0, 0, 0, 0, 0, 0, 0, 0, 0, 0, 0, 0, 0, 0, 0, 0, 0, 0, 0, 0, 0, 0, 0, 0, 0, 0, 0, 0, 0, 0, 0, 0, 0, 0, 0, 0, 0, 0, 0, 0, 0, 0, 0, 0, 0, 0, 0, 0, 0, 0, 0, 0, 0, 0, 0, 0, 0, 0, 0, 0, 0, 0, 0, 0, 0, 0, 0, 0, 0, 0, 0, 0, 0, 0, 0, 0, 0, 0, 0, 0, 0, 0, 0, 0, 0, 0, 0, 0, 0, 0, 0, 0, 0, 0, 0, 0, 0, 0, 0, 0, 0, 0, 0, 0, 0, 0, 0, 0, 0, 0, 0, 0, 0, 0, 0, 0, 0, 0, 0, 0, 0, 0, 0, 0, 0, 0, 0, 0, 0, 0, 0, 0, 0, 0, 0, 0, 0, 0, 0, 0, 0]\n",
      "['25. November', '\\n', '           ', 'Raderberger Str. 211', '           ', '\\n', '           ', '50968 Köln-Raderberg', '           ', '\\n', '                                    ', 'EUR', '\\n', 'Biol. Gartenkäse', '             ', '      ', '4,52', ' ', 'A', '\\n', '  ', '0,227', ' ', 'kg x', ' ', '19,89', ' ', ' ', 'EUR/kg', '\\n', '  ', '   Lidl Plus Rabatt', '        ', '     ', '-0,50', '\\n', 'Orangen kg', '                   ', '      ', '1,04', ' ', 'A', '\\n', '  ', '0,374', ' ', 'kg x', ' ', '2,79', '  ', ' ', 'EUR/kg', '\\n', 'Auberginen', '                   ', '      ', '1,20', ' ', 'A', '\\n', '  ', '0,402', ' ', 'kg x', ' ', '2,99', '  ', ' ', 'EUR/kg', '\\n', 'Bio Champignons', '              ', '      ', '1,79', ' ', 'A', '\\n', '  ', '   Lidl Plus Rabatt', '        ', '     ', '-0,20', '\\n', 'Bio Baby Spinat', '              ', '      ', '1,49', ' ', 'A', '\\n', '  ', '   Lidl Plus Rabatt', '        ', '     ', '-0,16', '\\n', 'Bio Zwiebel rot 500g', '         ', '      ', '1,29', ' ', 'A', '\\n', '  ', '   Lidl Plus Rabatt', '        ', '     ', '-0,14', '\\n', 'Brombeeren', '                   ', '      ', '2,99', ' ', 'A', '\\n', 'Lauchzwiebeln', '                ', '      ', '0,55']\n",
      "[0, 0, 0, 0, 0, 0, 0, 0, 0, 0, 0, 0, 0, 0, 0, 0, 0, 0, 0, 0, 0, 0, 0, 0, 0, 0, 0, 0, 0, 0, 0, 0, 0, 0, 0, 0, 0, 0, 0, 0, 0, 0, 0, 0, 0, 0, 0, 0, 0, 0, 0, 0, 0, 0, 0, 0, 0, 0, 0, 0, 0, 0, 0, 0, 0, 0, 0, 0, 0, 0, 0, 0, 0, 0, 0, 0, 0, 0, 0, 0, 0, 0, 0, 0, 0, 0, 0, 0, 0, 0, 0, 0, 0, 0, 0, 0, 0, 0, 0, 0, 0, 0, 0, 0, 0, 0, 0, 0, 0, 0, 0, 0, 0, 0, 0, 0, 0, 0, 0, 0]\n",
      "['ALLE', 'MARKIERT', 'November 2024', '25. November', '18,81 €', '14 Produkte', ' + 1', '21. November', '14,81 €', '8 Produkte', '14. November', '19,83 €', '14 Produkte', '06. November', '19,71 €', '11 Produkte', '04. November', '8,24 €', '7 Produkte', ' + 1', 'Oktober 2024', '28. Oktober', '40,20 €', '16 Produkte', ' + 1', '07. Oktober', '25,72 €', '14 Produkte', ' + 1', 'Home', 'Prospekte', 'Lidl Plus', 'Onlineshop', 'Mehr']\n",
      "[0, 0, 0, 0, 0, 0, 0, 0, 0, 0, 0, 0, 0, 0, 0, 0, 0, 0, 0, 0, 0, 0, 0, 0, 0, 0, 0, 0, 0, 0, 0, 0, 0, 0]\n",
      "['LIDL PLUS KARTE', 'Home', 'Prospekte', 'Lidl Plus', 'Onlineshop', 'Mehr']\n",
      "[0, 0, 0, 0, 0, 0]\n",
      "['Willkommen, Isabelle!', 'Einkaufsliste', 'Warenkorb', 'Ich suche nach …', 'Deine Top-Coupons!', 'Alle anzeigen', '10%', 'RABATT*', 'ROSSMANN 10% auf alles in der Filiale*', '*ausgenommen Pfand, Prepaid-Produkte, Tabakwaren, Zeitungen, Zeitschriften, Bücher, Geschenkgutscheine', 'Nur in der Filiale gültig bis 31.03.24', 'AKTIVIEREN', '10%', 'RABATT*', 'ROSSMANN 10% auf alles in der Filiale*', '*ausgenommen Pfand, Prepaid-Produkte, Tabakwaren, Zeitungen, Zeitschriften, Bücher, Geschenkgutscheine', 'Nur in der Filiale gültig bis 31.03.24', 'AKTIVIEREN', 'Start', 'Coupons', 'Einkaufen', 'Mehr', 'Kundenkarte']\n",
      "[0, 0, 0, 0, 0, 0, 0, 0, 0, 0, 0, 0, 0, 0, 0, 0, 0, 0, 0, 0, 0, 0, 0]\n",
      "['Deine Top-Coupons!', 'Alle anzeigen', '10%', 'RABATT*', 'ROSSMANN 10% auf alles in der Filiale*', '*ausgenommen Pfand, Prepaid-Produkte, Tabakwaren, Zeitungen, Zeitschriften, Bücher, Geschenkgutscheine', 'Nur in der Filiale gültig bis 31.03.24', 'AKTIVIEREN', 'Startseite', 'Ich suche nach …', 'Start', 'Coupons', 'Einkaufen', 'Mehr', 'Kundenkarte', 'Deine Top-Coupons!', 'Alle anzeigen', '10%', 'RABATT*', 'ROSSMANN 10% auf alles in der Filiale*', '*ausgenommen Pfand, Prepaid-Produkte, Tabakwaren, Zeitungen, Zeitschriften, Bücher, Geschenkgutscheine', 'Nur in der Filiale gültig bis 31.03.24', 'AKTIVIEREN', '10%', 'RABATT*', 'ROSSMANN 10% auf alles in der Filiale*', '*ausgenommen Pfand, Prepaid-Produkte, Tabakwaren, Zeitungen, Zeitschriften, Bücher, Geschenkgutscheine', 'Nur in der Filiale gültig bis 31.03.24', 'AKTIVIEREN', 'Angebote', 'Alle anzeigen', 'Angebote', '04.03. – 08.03.2024', 'Online-Angebote', '26.02. – 08.03.2024', 'Deine Top-Coupons!', 'Alle anzeigen', '10%', 'RABATT*', 'ROSSMANN 10% auf alles in der Filiale*', '*ausgenommen Pfand, Prepaid-Produkte, Tabakwaren, Zeitungen, Zeitschriften, Bücher, Geschenkgutscheine', 'Nur in der Filiale gültig bis 31.03.24', 'AKTIVIEREN', '10%', 'RABATT*', 'ROSSMANN 10% auf alles in der Filiale*', '*ausgenommen Pfand, Prepaid-Produkte, Tabakwaren, Zeitungen, Zeitschriften, Bücher, Geschenkgutscheine', 'Nur in der Filiale gültig bis 31.03.24', 'AKTIVIEREN', 'Angebote', 'Alle anzeigen', 'Angebote', '04.03. – 08.03.2024', 'Online-Angebote', '26.02. – 08.03.2024']\n",
      "[0, 0, 0, 0, 0, 0, 0, 0, 0, 0, 0, 0, 0, 0, 0, 0, 0, 0, 0, 0, 0, 0, 0, 0, 0, 0, 0, 0, 0, 0, 0, 0, 0, 0, 0, 0, 0, 0, 0, 0, 0, 0, 0, 0, 0, 0, 0, 0, 0, 0, 0, 0, 0, 0, 0]\n",
      "['Deine Top-Coupons!', 'Alle anzeigen', '10%', 'RABATT*', 'ROSSMANN 10% auf alles in der Filiale*', '*ausgenommen Pfand, Prepaid-Produkte, Tabakwaren, Zeitungen, Zeitschriften, Bücher, Geschenkgutscheine', 'Nur in der Filiale gültig bis 31.03.24', 'AKTIVIEREN', '10%', 'RABATT*', 'ROSSMANN 10% auf alles in der Filiale*', '*ausgenommen Pfand, Prepaid-Produkte, Tabakwaren, Zeitungen, Zeitschriften, Bücher, Geschenkgutscheine', 'Nur in der Filiale gültig bis 31.03.24', 'AKTIVIEREN', 'Angebote', 'Alle anzeigen', 'Angebote', '04.03. – 08.03.2024', 'Online-Angebote', '26.02. – 08.03.2024', 'Startseite', 'Ich suche nach …', 'Start', 'Coupons', 'Einkaufen', 'Mehr', 'Kundenkarte']\n",
      "[0, 0, 0, 0, 0, 0, 0, 0, 0, 0, 0, 0, 0, 0, 0, 0, 0, 0, 0, 0, 0, 0, 0, 0, 0, 0, 0]\n",
      "['Deine Top-Coupons!', 'Alle anzeigen', '10%', 'RABATT*', 'ROSSMANN 10% auf alles in der Filiale*', '*ausgenommen Pfand, Prepaid-Produkte, Tabakwaren, Zeitungen, Zeitschriften, Bücher, Geschenkgutscheine', 'Nur in der Filiale gültig bis 31.03.24', 'AKTIVIEREN', '10%', 'RABATT*', 'ROSSMANN 10% auf alles in der Filiale*', '*ausgenommen Pfand, Prepaid-Produkte, Tabakwaren, Zeitungen, Zeitschriften, Bücher, Geschenkgutscheine', 'Nur in der Filiale gültig bis 31.03.24', 'AKTIVIEREN', 'Angebote', 'Alle anzeigen', 'Angebote', '04.03. – 08.03.2024', 'Online-Angebote', '26.02. – 08.03.2024', 'Startseite', 'Ich suche nach …', 'Start', 'Coupons', 'Einkaufen', 'Mehr', 'Kundenkarte']\n",
      "[0, 0, 0, 0, 0, 0, 0, 0, 0, 0, 0, 0, 0, 0, 0, 0, 0, 0, 0, 0, 0, 0, 0, 0, 0, 0, 0]\n",
      "['Deine Top-Coupons!', 'Alle anzeigen', '10%', 'RABATT*', 'ROSSMANN 10% auf alles in der Filiale*', '*ausgenommen Pfand, Prepaid-Produkte, Tabakwaren, Zeitungen, Zeitschriften, Bücher, Geschenkgutscheine', 'Nur in der Filiale gültig bis 31.03.24', 'AKTIVIEREN', '10%', 'RABATT*', 'ROSSMANN 10% auf alles in der Filiale*', '*ausgenommen Pfand, Prepaid-Produkte, Tabakwaren, Zeitungen, Zeitschriften, Bücher, Geschenkgutscheine', 'Nur in der Filiale gültig bis 31.03.24', 'AKTIVIEREN', 'Angebote', 'Alle anzeigen', 'Angebote', '04.03. – 08.03.2024', 'Online-Angebote', '26.02. – 08.03.2024', 'Startseite', 'Ich suche nach …', 'Start', 'Coupons', 'Einkaufen', 'Mehr', 'Kundenkarte']\n",
      "[0, 0, 0, 0, 0, 0, 0, 0, 0, 0, 0, 0, 0, 0, 0, 0, 0, 0, 0, 0, 0, 0, 0, 0, 0, 0, 0]\n",
      "['Deine Top-Coupons!', 'Alle anzeigen', '10%', 'RABATT*', 'ROSSMANN 10% auf alles in der Filiale*', '*ausgenommen Pfand, Prepaid-Produkte, Tabakwaren, Zeitungen, Zeitschriften, Bücher, Geschenkgutscheine', 'Nur in der Filiale gültig bis 31.03.24', 'AKTIVIEREN', '10%', 'RABATT*', 'ROSSMANN 10% auf alles in der Filiale*', '*ausgenommen Pfand, Prepaid-Produkte, Tabakwaren, Zeitungen, Zeitschriften, Bücher, Geschenkgutscheine', 'Nur in der Filiale gültig bis 31.03.24', 'AKTIVIEREN', 'Angebote', 'Alle anzeigen', 'Angebote', '04.03. – 08.03.2024', 'Online-Angebote', '26.02. – 08.03.2024', 'Sammelaktionen', 'Alle anzeigen', 'Noch 1 Punkt bis Stufe 2', 'gültig 22.01. – 05.05.24', 'Aktion öffnen', 'Startseite', 'Ich suche nach …', 'Start', 'Coupons', 'Einkaufen', 'Mehr', 'Kundenkarte', 'Deine Top-Coupons!', 'Alle anzeigen', '10%', 'RABATT*', 'ROSSMANN 10% auf alles in der Filiale*', '*ausgenommen Pfand, Prepaid-Produkte, Tabakwaren, Zeitungen, Zeitschriften, Bücher, Geschenkgutscheine', 'Nur in der Filiale gültig bis 31.03.24', 'AKTIVIEREN', '10%', 'RABATT*', 'ROSSMANN 10% auf alles in der Filiale*', '*ausgenommen Pfand, Prepaid-Produkte, Tabakwaren, Zeitungen, Zeitschriften, Bücher, Geschenkgutscheine', 'Nur in der Filiale gültig bis 31.03.24', 'AKTIVIEREN', 'Angebote', 'Alle anzeigen', 'Angebote', '04.03. – 08.03.2024', 'Online-Angebote', '26.02. – 08.03.2024', 'Sammelaktionen', 'Alle anzeigen', 'Noch 1 Punkt bis Stufe 2', 'gültig 22.01. – 05.05.24', 'Aktion öffnen']\n",
      "[0, 0, 0, 0, 0, 0, 0, 0, 0, 0, 0, 0, 0, 0, 0, 0, 0, 0, 0, 0, 0, 0, 0, 0, 0, 0, 0, 0, 0, 0, 0, 0, 0, 0, 0, 0, 0, 0, 0, 0, 0, 0, 0, 0, 0, 0, 0, 0, 0, 0, 0, 0, 0, 0, 0, 0, 0]\n",
      "['Angebote', 'Alle anzeigen', 'Angebote', '04.03. – 08.03.2024', 'Online-Angebote', '26.02. – 08.03.2024', 'Sammelaktionen', 'Alle anzeigen', 'Noch 1 Punkt bis Stufe 2', 'gültig 22.01. – 05.05.24', 'Aktion öffnen', 'Startseite', 'Ich suche nach …', 'Start', 'Coupons', 'Einkaufen', 'Mehr', 'Kundenkarte', 'Angebote', 'Alle anzeigen', 'Angebote', '04.03. – 08.03.2024', 'Online-Angebote', '26.02. – 08.03.2024', 'Sammelaktionen', 'Alle anzeigen', 'Angebote', 'Alle anzeigen', 'Angebote', '04.03. – 08.03.2024', 'Online-Angebote', '26.02. – 08.03.2024', 'Sammelaktionen', 'Alle anzeigen', 'Noch 1 Punkt bis Stufe 2', 'gültig 22.01. – 05.05.24', 'Aktion öffnen']\n",
      "[0, 0, 0, 0, 0, 0, 0, 0, 0, 0, 0, 0, 0, 0, 0, 0, 0, 0, 0, 0, 0, 0, 0, 0, 0, 0, 0, 0, 0, 0, 0, 0, 0, 0, 0, 0, 0]\n",
      "['Angebote', 'Alle anzeigen', 'Angebote', '04.03. – 08.03.2024', 'Online-Angebote', '26.02. – 08.03.2024', 'Sammelaktionen', 'Alle anzeigen', 'Noch 1 Punkt bis Stufe 2', 'gültig 22.01. – 05.05.24', 'Aktion öffnen', 'Startseite', 'Ich suche nach …', 'Start', 'Coupons', 'Einkaufen', 'Mehr', 'Kundenkarte', 'Angebote', 'Alle anzeigen', 'Angebote', '04.03. – 08.03.2024', 'Online-Angebote', '26.02. – 08.03.2024', 'Sammelaktionen', 'Alle anzeigen', 'Noch 1 Punkt bis Stufe 2', 'gültig 22.01. – 05.05.24', 'Aktion öffnen', 'Angebote', 'Alle anzeigen', 'Angebote', '04.03. – 08.03.2024', 'Online-Angebote', '26.02. – 08.03.2024', 'Sammelaktionen', 'Alle anzeigen', 'Noch 1 Punkt bis Stufe 2', 'gültig 22.01. – 05.05.24', 'Aktion öffnen', 'Weitere Aktionen & Gewinne', 'Alle anzeigen', 'Kaufe always Artikel im Wert von 15€ und erhalte einen 5€ Rabatt Coupon.', 'gültig 26.02.24 – 17.03.24', 'An Aktion teilnehmen', 'Wellness-Aktion: Sichere dir deine Chance auf 1 von 5 mydays Geschenkboxen oder 1 von 30 Saunatüchern.', 'gültig 05.02.24 – 24.03.24', 'An Aktion teilnehmen', 'Angebote', 'Alle anzeigen', 'Angebote', '04.03. – 08.03.2024', 'Online-Angebote', '26.02. – 08.03.2024', 'Sammelaktionen', 'Alle anzeigen', 'Noch 1 Punkt bis Stufe 2', 'gültig 22.01. – 05.05.24', 'Aktion öffnen', 'Weitere Aktionen & Gewinne', 'Alle anzeigen', 'Kaufe always Artikel im Wert von 15€ und erhalte einen 5€ Rabatt Coupon.', 'gültig 26.02.24 – 17.03.24', 'An Aktion teilnehmen', 'Wellness-Aktion: Sichere dir deine Chance auf 1 von 5 mydays Geschenkboxen oder 1 von 30 Saunatüchern.', 'gültig 05.02.24 – 24.03.24', 'An Aktion teilnehmen']\n",
      "[0, 0, 0, 0, 0, 0, 0, 0, 0, 0, 0, 0, 0, 0, 0, 0, 0, 0, 0, 0, 0, 0, 0, 0, 0, 0, 0, 0, 0, 0, 0, 0, 0, 0, 0, 0, 0, 0, 0, 0, 0, 0, 0, 0, 0, 0, 0, 0, 0, 0, 0, 0, 0, 0, 0, 0, 0, 0, 0, 0, 0, 0, 0, 0, 0, 0, 0]\n",
      "['Angebote', 'Alle anzeigen', 'Angebote', '04.03. – 08.03.2024', 'Online-Angebote', '26.02. – 08.03.2024', 'Sammelaktionen', 'Alle anzeigen', 'Noch 1 Punkt bis Stufe 2', 'gültig 22.01. – 05.05.24', 'Aktion öffnen', 'Weitere Aktionen & Gewinne', 'Alle anzeigen', 'Kaufe always Artikel im Wert von 15€ und erhalte einen 5€ Rabatt Coupon.', 'gültig 26.02.24 – 17.03.24', 'An Aktion teilnehmen', 'Wellness-Aktion: Sichere dir deine Chance auf 1 von 5 mydays Geschenkboxen oder 1 von 30 Saunatüchern.', 'gültig 05.02.24 – 24.03.24', 'An Aktion teilnehmen', 'Startseite', 'Ich suche nach …', 'Start', 'Coupons', 'Einkaufen', 'Mehr', 'Kundenkarte', 'Sammelaktionen', 'Alle anzeigen', 'Noch 1 Punkt bis Stufe 2', 'gültig 22.01. – 05.05.24', 'Aktion öffnen', 'Weitere Aktionen & Gewinne', 'Alle anzeigen', 'Kaufe always Artikel im Wert von 15€ und erhalte einen 5€ Rabatt Coupon.', 'gültig 26.02.24 – 17.03.24', 'An Aktion teilnehmen', 'Wellness-Aktion: Sichere dir deine Chance auf 1 von 5 mydays Geschenkboxen oder 1 von 30 Saunatüchern.', 'gültig 05.02.24 – 24.03.24', 'An Aktion teilnehmen', 'Sammelaktionen', 'Alle anzeigen', 'Noch 1 Punkt bis Stufe 2', 'gültig 22.01. – 05.05.24', 'Aktion öffnen', 'Weitere Aktionen & Gewinne', 'Alle anzeigen', 'Kaufe always Artikel im Wert von 15€ und erhalte einen 5€ Rabatt Coupon.', 'gültig 26.02.24 – 17.03.24', 'An Aktion teilnehmen', 'Wellness-Aktion: Sichere dir deine Chance auf 1 von 5 mydays Geschenkboxen oder 1 von 30 Saunatüchern.', 'gültig 05.02.24 – 24.03.24', 'An Aktion teilnehmen']\n",
      "[0, 0, 0, 0, 0, 0, 0, 0, 0, 0, 0, 0, 0, 0, 0, 0, 0, 0, 0, 0, 0, 0, 0, 0, 0, 0, 0, 0, 0, 0, 0, 0, 0, 0, 0, 0, 0, 0, 0, 0, 0, 0, 0, 0, 0, 0, 0, 0, 0, 0, 0, 0]\n",
      "['Sammelaktionen', 'Alle anzeigen', 'Noch 1 Punkt bis Stufe 2', 'gültig 22.01. – 05.05.24', 'Aktion öffnen', 'Weitere Aktionen & Gewinne', 'Alle anzeigen', 'Kaufe always Artikel im Wert von 15€ und erhalte einen 5€ Rabatt Coupon.', 'gültig 26.02.24 – 17.03.24', 'An Aktion teilnehmen', 'Wellness-Aktion: Sichere dir deine Chance auf 1 von 5 mydays Geschenkboxen oder 1 von 30 Saunatüchern.', 'gültig 05.02.24 – 24.03.24', 'An Aktion teilnehmen', 'Startseite', 'Ich suche nach …', 'Start', 'Coupons', 'Einkaufen', 'Mehr', 'Kundenkarte', 'Sammelaktionen', 'Alle anzeigen', 'Noch 1 Punkt bis Stufe 2', 'gültig 22.01. – 05.05.24', 'Aktion öffnen', 'Weitere Aktionen & Gewinne', 'Alle anzeigen', 'Kaufe always Artikel im Wert von 15€ und erhalte einen 5€ Rabatt Coupon.', 'gültig 26.02.24 – 17.03.24', 'An Aktion teilnehmen', 'Wellness-Aktion: Sichere dir deine Chance auf 1 von 5 mydays Geschenkboxen oder 1 von 30 Saunatüchern.', 'gültig 05.02.24 – 24.03.24', 'An Aktion teilnehmen', 'Sammelaktionen', 'Alle anzeigen', 'Noch 1 Punkt bis Stufe 2', 'gültig 22.01. – 05.05.24', 'Aktion öffnen', 'Weitere Aktionen & Gewinne', 'Alle anzeigen', 'Kaufe always Artikel im Wert von 15€ und erhalte einen 5€ Rabatt Coupon.', 'gültig 26.02.24 – 17.03.24', 'An Aktion teilnehmen', 'Wellness-Aktion: Sichere dir deine Chance auf 1 von 5 mydays Geschenkboxen oder 1 von 30 Saunatüchern.', 'gültig 05.02.24 – 24.03.24', 'An Aktion teilnehmen']\n",
      "[0, 0, 0, 0, 0, 0, 0, 0, 0, 0, 0, 0, 0, 0, 0, 0, 0, 0, 0, 0, 0, 0, 0, 0, 0, 0, 0, 0, 0, 0, 0, 0, 0, 0, 0, 0, 0, 0, 0, 0, 0, 0, 0, 0, 0, 0]\n",
      "['Sammelaktionen', 'Alle anzeigen', 'Noch 1 Punkt bis Stufe 2', 'gültig 22.01. – 05.05.24', 'Aktion öffnen', 'Weitere Aktionen & Gewinne', 'Alle anzeigen', 'Kaufe always Artikel im Wert von 15€ und erhalte einen 5€ Rabatt Coupon.', 'gültig 26.02.24 – 17.03.24', 'An Aktion teilnehmen', 'Wellness-Aktion: Sichere dir deine Chance auf 1 von 5 mydays Geschenkboxen oder 1 von 30 Saunatüchern.', 'gültig 05.02.24 – 24.03.24', 'An Aktion teilnehmen', 'Schon entdeckt?', 'Startseite', 'Ich suche nach …', 'Start', 'Coupons', 'Einkaufen', 'Mehr', 'Kundenkarte', 'Sammelaktionen', 'Alle anzeigen', 'Noch 1 Punkt bis Stufe 2', 'gültig 22.01. – 05.05.24', 'Aktion öffnen', 'Weitere Aktionen & Gewinne', 'Alle anzeigen', 'Kaufe always Artikel im Wert von 15€ und erhalte einen 5€ Rabatt Coupon.', 'gültig 26.02.24 – 17.03.24', 'An Aktion teilnehmen', 'Wellness-Aktion: Sichere dir deine Chance auf 1 von 5 mydays Geschenkboxen oder 1 von 30 Saunatüchern.', 'gültig 05.02.24 – 24.03.24', 'An Aktion teilnehmen', 'Schon entdeckt?']\n",
      "[0, 0, 0, 0, 0, 0, 0, 0, 0, 0, 0, 0, 0, 0, 0, 0, 0, 0, 0, 0, 0, 0, 0, 0, 0, 0, 0, 0, 0, 0, 0, 0, 0, 0, 0]\n",
      "['Coupons', 'Coupons durchsuchen', '59 Coupons', '10%', 'RABATT*', 'ROSSMANN 10% auf alles in der Filiale*', '*ausgenommen Pfand, Prepaid-Produkte, Tabakwaren, Zeitungen, Zeitschriften, Bücher, Geschenkgutscheine', 'Nur in der Filiale gültig bis 31.03.24', 'AKTIVIEREN', '10%', 'RABATT*', 'ROSSMANN 10% auf alles in der Filiale*', '*ausgenommen Pfand, Prepaid-Produkte, Tabakwaren, Zeitungen, Zeitschriften, Bücher, Geschenkgutscheine', 'Exklusiv für dich', 'Nur in der Filiale gültig bis 31.03.24', 'AKTIVIEREN', '20%', 'RABATT', 'NEU', 'Pampers Big Pack Pants', 'Gilt beim Kauf eines Artikels', 'gültig bis 08.03.24', 'AKTIVIEREN', 'Start', 'Coupons', 'Einkaufen', 'Mehr', 'Kundenkarte']\n",
      "[0, 0, 0, 0, 0, 0, 0, 0, 0, 0, 0, 0, 0, 0, 0, 0, 0, 0, 1, 2, 2, 2, 0, 0, 0, 0, 0, 0]\n",
      "['Coupons', 'Coupons durchsuchen', '59 Coupons', '10%', 'RABATT*', 'ROSSMANN 10% auf alles in der Filiale*', '*ausgenommen Pfand, Prepaid-Produkte, Tabakwaren, Zeitungen, Zeitschriften, Bücher, Geschenkgutscheine', 'Nur in der Filiale gültig bis 31.03.24', 'AKTIVIEREN', '10%', 'RABATT*', 'ROSSMANN 10% auf alles in der Filiale*', '*ausgenommen Pfand, Prepaid-Produkte, Tabakwaren, Zeitungen, Zeitschriften, Bücher, Geschenkgutscheine', 'Exklusiv für dich', 'Nur in der Filiale gültig bis 31.03.24', 'AKTIVIEREN', '20%', 'RABATT', 'NEU', 'Pampers Big Pack Pants', 'Gilt beim Kauf eines Artikels', 'gültig bis 08.03.24', 'AKTIVIEREN', 'Start', 'Coupons', 'Einkaufen', 'Mehr', 'Kundenkarte', '10%', 'RABATT*', 'ROSSMANN 10% auf alles in der Filiale*', '*ausgenommen Pfand, Prepaid-Produkte, Tabakwaren, Zeitungen, Zeitschriften, Bücher, Geschenkgutscheine', 'Nur in der Filiale gültig bis 31.03.24', 'AKTIVIEREN', '10%', 'RABATT*', 'ROSSMANN 10% auf alles in der Filiale*', '*ausgenommen Pfand, Prepaid-Produkte, Tabakwaren, Zeitungen, Zeitschriften, Bücher, Geschenkgutscheine', 'Exklusiv für dich', 'Nur in der Filiale gültig bis 31.03.24', 'AKTIVIEREN', '20%', 'RABATT', 'NEU', 'Pampers Big Pack Pants', 'Gilt beim Kauf eines Artikels', 'gültig bis 08.03.24', 'AKTIVIEREN']\n",
      "[0, 0, 0, 0, 0, 0, 0, 0, 0, 0, 0, 0, 0, 0, 0, 0, 0, 0, 1, 2, 2, 2, 0, 0, 0, 0, 0, 0, 0, 0, 0, 0, 0, 0, 0, 0, 0, 0, 0, 0, 0, 0, 0, 0, 0, 0, 0, 0]\n",
      "['Coupons', '10%', 'RABATT*', 'ROSSMANN 10% auf alles in der Filiale*', '*ausgenommen Pfand, Prepaid-Produkte, Tabakwaren, Zeitungen, Zeitschriften, Bücher, Geschenkgutscheine', 'Nur in der Filiale gültig bis 31.03.24', 'AKTIVIEREN', '10%', 'RABATT*', 'ROSSMANN 10% auf alles in der Filiale*', '*ausgenommen Pfand, Prepaid-Produkte, Tabakwaren, Zeitungen, Zeitschriften, Bücher, Geschenkgutscheine', 'Exklusiv für dich', 'Nur in der Filiale gültig bis 31.03.24', 'AKTIVIEREN', '20%', 'RABATT', 'NEU', 'Pampers Big Pack Pants', 'Gilt beim Kauf eines Artikels', 'gültig bis 08.03.24', 'AKTIVIEREN', '5€', 'RABATT', 'NEU', 'Oral-B Elektrische Zahnbürste Vitality Pro oder Pro Kids', 'Gilt beim Kauf eines Artikels', 'gültig bis 08.03.24', 'AKTIVIEREN', 'Start', 'Coupons', 'Einkaufen', 'Mehr', 'Kundenkarte', '10%', 'RABATT*', 'ROSSMANN 10% auf alles in der Filiale*', '*ausgenommen Pfand, Prepaid-Produkte, Tabakwaren, Zeitungen, Zeitschriften, Bücher, Geschenkgutscheine', 'Nur in der Filiale gültig bis 31.03.24', 'AKTIVIEREN', '10%', 'RABATT*', 'ROSSMANN 10% auf alles in der Filiale*', '*ausgenommen Pfand, Prepaid-Produkte, Tabakwaren, Zeitungen, Zeitschriften, Bücher, Geschenkgutscheine', 'Exklusiv für dich', 'Nur in der Filiale gültig bis 31.03.24', 'AKTIVIEREN', '20%', 'RABATT', 'NEU', 'Pampers Big Pack Pants', 'Gilt beim Kauf eines Artikels', 'gültig bis 08.03.24', 'AKTIVIEREN', '5€', 'RABATT', 'NEU', 'Oral-B Elektrische Zahnbürste Vitality Pro oder Pro Kids', 'Gilt beim Kauf eines Artikels', 'gültig bis 08.03.24', 'AKTIVIEREN']\n",
      "[0, 0, 0, 0, 0, 0, 0, 0, 0, 0, 0, 0, 0, 0, 0, 0, 1, 2, 2, 2, 0, 0, 0, 1, 2, 2, 2, 0, 0, 0, 0, 0, 0, 0, 0, 0, 0, 0, 0, 0, 0, 0, 0, 0, 0, 0, 0, 0, 1, 2, 2, 2, 0, 0, 0, 0, 0, 0, 0, 0]\n",
      "['Coupons', '10%', 'RABATT*', 'ROSSMANN 10% auf alles in der Filiale*', '*ausgenommen Pfand, Prepaid-Produkte, Tabakwaren, Zeitungen, Zeitschriften, Bücher, Geschenkgutscheine', 'Nur in der Filiale gültig bis 31.03.24', 'AKTIVIEREN', '10%', 'RABATT*', 'ROSSMANN 10% auf alles in der Filiale*', '*ausgenommen Pfand, Prepaid-Produkte, Tabakwaren, Zeitungen, Zeitschriften, Bücher, Geschenkgutscheine', 'Exklusiv für dich', 'Nur in der Filiale gültig bis 31.03.24', 'AKTIVIEREN', '20%', 'RABATT', 'NEU', 'Pampers Big Pack Pants', 'Gilt beim Kauf eines Artikels', 'gültig bis 08.03.24', 'AKTIVIEREN', '5€', 'RABATT', 'NEU', 'Oral-B Elektrische Zahnbürste Vitality Pro oder Pro Kids', 'Gilt beim Kauf eines Artikels', 'gültig bis 08.03.24', 'AKTIVIEREN', 'Start', 'Coupons', 'Einkaufen', 'Mehr', 'Kundenkarte']\n",
      "[0, 0, 0, 0, 0, 0, 0, 0, 0, 0, 0, 0, 0, 0, 0, 0, 1, 2, 2, 2, 0, 0, 0, 1, 2, 2, 2, 0, 0, 0, 0, 0, 0]\n",
      "['Coupons', '10%', 'RABATT*', 'ROSSMANN 10% auf alles in der Filiale*', '*ausgenommen Pfand, Prepaid-Produkte, Tabakwaren, Zeitungen, Zeitschriften, Bücher, Geschenkgutscheine', 'Nur in der Filiale gültig bis 31.03.24', 'AKTIVIEREN', '10%', 'RABATT*', 'ROSSMANN 10% auf alles in der Filiale*', '*ausgenommen Pfand, Prepaid-Produkte, Tabakwaren, Zeitungen, Zeitschriften, Bücher, Geschenkgutscheine', 'Exklusiv für dich', 'Nur in der Filiale gültig bis 31.03.24', 'AKTIVIEREN', '20%', 'RABATT', 'NEU', 'Pampers Big Pack Pants', 'Gilt beim Kauf eines Artikels', 'gültig bis 08.03.24', 'AKTIVIEREN', '5€', 'RABATT', 'NEU', 'Oral-B Elektrische Zahnbürste Vitality Pro oder Pro Kids', 'Gilt beim Kauf eines Artikels', 'gültig bis 08.03.24', 'AKTIVIEREN', 'Start', 'Coupons', 'Einkaufen', 'Mehr', 'Kundenkarte']\n",
      "[0, 0, 0, 0, 0, 0, 0, 0, 0, 0, 0, 0, 0, 0, 0, 0, 1, 2, 2, 2, 0, 0, 0, 1, 2, 2, 2, 0, 0, 0, 0, 0, 0]\n",
      "['Coupons', '10%', 'RABATT*', 'ROSSMANN 10% auf alles in der Filiale*', '*ausgenommen Pfand, Prepaid-Produkte, Tabakwaren, Zeitungen, Zeitschriften, Bücher, Geschenkgutscheine', 'Nur in der Filiale gültig bis 31.03.24', 'DEAKTIVIEREN', '10%', 'RABATT*', 'ROSSMANN 10% auf alles in der Filiale*', '*ausgenommen Pfand, Prepaid-Produkte, Tabakwaren, Zeitungen, Zeitschriften, Bücher, Geschenkgutscheine', 'Exklusiv für dich', 'Nur in der Filiale gültig bis 31.03.24', 'AKTIVIEREN', '20%', 'RABATT', 'NEU', 'Pampers Big Pack Pants', 'Gilt beim Kauf eines Artikels', 'gültig bis 08.03.24', 'AKTIVIEREN', '5€', 'RABATT', 'NEU', 'Oral-B Elektrische Zahnbürste Vitality Pro oder Pro Kids', 'Gilt beim Kauf eines Artikels', 'gültig bis 08.03.24', 'AKTIVIEREN', 'Start', 'Coupons', 'Einkaufen', 'Mehr', 'Kundenkarte']\n",
      "[0, 0, 0, 0, 0, 0, 0, 0, 0, 0, 0, 0, 0, 0, 0, 0, 1, 2, 2, 2, 0, 0, 0, 1, 2, 2, 2, 0, 0, 0, 0, 0, 0]\n",
      "['Coupons', '10%', 'RABATT*', 'ROSSMANN 10% auf alles in der Filiale*', '*ausgenommen Pfand, Prepaid-Produkte, Tabakwaren, Zeitungen, Zeitschriften, Bücher, Geschenkgutscheine', 'Nur in der Filiale gültig bis 31.03.24', 'DEAKTIVIEREN', '10%', 'RABATT*', 'ROSSMANN 10% auf alles in der Filiale*', '*ausgenommen Pfand, Prepaid-Produkte, Tabakwaren, Zeitungen, Zeitschriften, Bücher, Geschenkgutscheine', 'Exklusiv für dich', 'Nur in der Filiale gültig bis 31.03.24', 'AKTIVIEREN', '20%', 'RABATT', 'NEU', 'Pampers Big Pack Pants', 'Gilt beim Kauf eines Artikels', 'gültig bis 08.03.24', 'AKTIVIEREN', '5€', 'RABATT', 'NEU', 'Oral-B Elektrische Zahnbürste Vitality Pro oder Pro Kids', 'Gilt beim Kauf eines Artikels', 'gültig bis 08.03.24', 'AKTIVIEREN', 'Start', 'Coupons', 'Einkaufen', 'Mehr', 'Kundenkarte', '10%', 'RABATT*', 'ROSSMANN 10% auf alles in der Filiale*', '*ausgenommen Pfand, Prepaid-Produkte, Tabakwaren, Zeitungen, Zeitschriften, Bücher, Geschenkgutscheine', 'Nur in der Filiale gültig bis 31.03.24', 'DEAKTIVIEREN', '10%', 'RABATT*', 'ROSSMANN 10% auf alles in der Filiale*', '*ausgenommen Pfand, Prepaid-Produkte, Tabakwaren, Zeitungen, Zeitschriften, Bücher, Geschenkgutscheine', 'Exklusiv für dich', 'Nur in der Filiale gültig bis 31.03.24', 'AKTIVIEREN', '20%', 'RABATT', 'NEU', 'Pampers Big Pack Pants', 'Gilt beim Kauf eines Artikels', 'gültig bis 08.03.24', 'AKTIVIEREN', '5€', 'RABATT', 'NEU', 'Oral-B Elektrische Zahnbürste Vitality Pro oder Pro Kids', 'Gilt beim Kauf eines Artikels', 'gültig bis 08.03.24', 'AKTIVIEREN']\n",
      "[0, 0, 0, 0, 0, 0, 0, 0, 0, 0, 0, 0, 0, 0, 0, 0, 1, 2, 2, 2, 0, 0, 0, 1, 2, 2, 2, 0, 0, 0, 0, 0, 0, 0, 0, 0, 0, 0, 0, 0, 0, 0, 0, 0, 0, 0, 0, 0, 1, 2, 2, 2, 0, 0, 0, 0, 0, 0, 0, 0]\n",
      "['Coupons', '10%', 'RABATT*', 'ROSSMANN 10% auf alles in der Filiale*', '*ausgenommen Pfand, Prepaid-Produkte, Tabakwaren, Zeitungen, Zeitschriften, Bücher, Geschenkgutscheine', 'Nur in der Filiale gültig bis 31.03.24', 'DEAKTIVIEREN', '10%', 'RABATT*', 'ROSSMANN 10% auf alles in der Filiale*', '*ausgenommen Pfand, Prepaid-Produkte, Tabakwaren, Zeitungen, Zeitschriften, Bücher, Geschenkgutscheine', 'Exklusiv für dich', 'Nur in der Filiale gültig bis 31.03.24', 'AKTIVIEREN', '20%', 'RABATT', 'NEU', 'Pampers Big Pack Pants', 'Gilt beim Kauf eines Artikels', 'gültig bis 08.03.24', 'AKTIVIEREN', '5€', 'RABATT', 'NEU', 'Oral-B Elektrische Zahnbürste Vitality Pro oder Pro Kids', 'Gilt beim Kauf eines Artikels', 'gültig bis 08.03.24', 'AKTIVIEREN', 'Start', 'Coupons', 'Einkaufen', 'Mehr', 'Kundenkarte', '10%', 'RABATT*', 'ROSSMANN 10% auf alles in der Filiale*', '*ausgenommen Pfand, Prepaid-Produkte, Tabakwaren, Zeitungen, Zeitschriften, Bücher, Geschenkgutscheine', 'Nur in der Filiale gültig bis 31.03.24', 'DEAKTIVIEREN', '1+1', 'GRATIS', 'NEU', 'Pampers Harmonie Feuchttücher', 'Gilt beim Kauf von 2 Artikeln', 'gültig bis 08.03.24', 'AKTIVIEREN']\n",
      "[0, 0, 0, 0, 0, 0, 0, 0, 0, 0, 0, 0, 0, 0, 0, 0, 1, 2, 2, 2, 0, 0, 0, 1, 2, 2, 2, 0, 0, 0, 0, 0, 0, 0, 0, 0, 0, 0, 0, 0, 0, 0, 0, 0, 0, 0]\n",
      "['Coupons', '20%', 'RABATT', 'NEU', 'Pampers Big Pack Pants', 'Gilt beim Kauf eines Artikels', 'gültig bis 08.03.24', 'AKTIVIEREN', '5€', 'RABATT', 'NEU', 'Oral-B Elektrische Zahnbürste Vitality Pro oder Pro Kids', 'Gilt beim Kauf eines Artikels', 'gültig bis 08.03.24', 'AKTIVIEREN', '1+1', 'GRATIS', 'NEU', 'Pampers Harmonie Feuchttücher', 'Gilt beim Kauf von 2 Artikeln', 'gültig bis 08.03.24', 'AKTIVIEREN', 'Start', 'Coupons', 'Einkaufen', 'Mehr', 'Kundenkarte', '20%', 'RABATT', 'Pampers Big Pack Pants', 'Gilt beim Kauf eines Artikels', 'gültig bis 08.03.24', 'AKTIVIEREN', '5€', 'RABATT', 'NEU', 'Oral-B Elektrische Zahnbürste Vitality Pro oder Pro Kids', 'Gilt beim Kauf eines Artikels', 'gültig bis 08.03.24', 'AKTIVIEREN', '1+1', 'GRATIS', 'NEU', 'Pampers Harmonie Feuchttücher', 'Gilt beim Kauf von 2 Artikeln', 'gültig bis 08.03.24', 'AKTIVIEREN', '20%', 'RABATT', 'Pampers Big Pack Pants', 'Gilt beim Kauf eines Artikels', 'gültig bis 08.03.24', 'AKTIVIEREN', '5€', 'RABATT', 'NEU', 'Oral-B Elektrische Zahnbürste Vitality Pro oder Pro Kids', 'Gilt beim Kauf eines Artikels', 'gültig bis 08.03.24', 'AKTIVIEREN', '1+1', 'GRATIS', 'NEU', 'Pampers Harmonie Feuchttücher', 'Gilt beim Kauf von 2 Artikeln', 'gültig bis 08.03.24']\n",
      "[0, 0, 0, 1, 2, 2, 2, 0, 0, 0, 1, 2, 2, 2, 0, 0, 0, 1, 2, 2, 2, 0, 0, 0, 0, 0, 0, 0, 1, 2, 2, 2, 0, 0, 0, 1, 2, 2, 2, 0, 0, 0, 1, 2, 2, 2, 0, 0, 1, 2, 2, 2, 0, 0, 0, 1, 2, 2, 2, 0, 0, 0, 0, 0, 0, 0]\n",
      "['Coupons', '20%', 'RABATT', 'Pampers Big Pack Pants', 'Gilt beim Kauf eines Artikels', 'gültig bis 08.03.24', 'AKTIVIEREN', '5€', 'RABATT', 'NEU', 'Oral-B Elektrische Zahnbürste Vitality Pro oder Pro Kids', 'Gilt beim Kauf eines Artikels', 'gültig bis 08.03.24', 'AKTIVIEREN', '1+1', 'GRATIS', 'NEU', 'Pampers Harmonie Feuchttücher', 'Gilt beim Kauf von 2 Artikeln', 'gültig bis 08.03.24', 'AKTIVIEREN', 'Start', 'Coupons', 'Einkaufen', 'Mehr', 'Kundenkarte', '5€', 'RABATT', 'NEU', 'Oral-B Elektrische Zahnbürste Vitality Pro oder Pro Kids', 'Gilt beim Kauf eines Artikels', 'gültig bis 08.03.24', '1+1', 'GRATIS', 'NEU', 'Pampers Harmonie Feuchttücher', 'Gilt beim Kauf von 2 Artikeln', 'gültig bis 08.03.24', 'AKTIVIEREN']\n",
      "[1, 2, 2, 2, 2, 2, 0, 0, 0, 1, 2, 2, 2, 0, 0, 0, 1, 2, 2, 2, 0, 0, 0, 0, 0, 0, 0, 0, 0, 0, 0, 0, 0, 0, 0, 0, 0, 0, 0]\n",
      "['Coupons', '20%', 'RABATT', 'Pampers Big Pack Pants', 'Gilt beim Kauf eines Artikels', 'gültig bis 08.03.24', 'AKTIVIEREN', '5€', 'RABATT', 'NEU', 'Oral-B Elektrische Zahnbürste Vitality Pro oder Pro Kids', 'Gilt beim Kauf eines Artikels', 'gültig bis 08.03.24', 'AKTIVIEREN', '1+1', 'GRATIS', 'NEU', 'Pampers Harmonie Feuchttücher', 'Gilt beim Kauf von 2 Artikeln', 'gültig bis 08.03.24', 'AKTIVIEREN', 'Start', 'Coupons', 'Einkaufen', 'Mehr', 'Kundenkarte', '20%', 'RABATT', 'Pampers Big Pack Pants', 'Gilt beim Kauf eines Artikels', 'gültig bis 08.03.24', 'AKTIVIEREN', '5€', 'RABATT', 'NEU', 'Oral-B Elektrische Zahnbürste Vitality Pro oder Pro Kids', 'Gilt beim Kauf eines Artikels', 'gültig bis 08.03.24', 'AKTIVIEREN', '1+1', 'GRATIS', 'NEU', 'Pampers Harmonie Feuchttücher', 'Gilt beim Kauf von 2 Artikeln', 'gültig bis 08.03.24', 'AKTIVIEREN']\n",
      "[1, 2, 2, 2, 2, 2, 0, 0, 0, 1, 2, 2, 2, 0, 0, 0, 1, 2, 2, 2, 0, 0, 0, 0, 0, 1, 2, 2, 2, 2, 2, 0, 0, 0, 1, 2, 2, 2, 0, 0, 0, 0, 0, 0, 0, 0]\n",
      "['Coupons', '5€', 'RABATT', 'Oral-B Elektrische Zahnbürste Vitality Pro oder Pro Kids', 'Gilt beim Kauf eines Artikels', 'gültig bis 08.03.24', 'AKTIVIEREN', '1+1', 'GRATIS', 'NEU', 'Pampers Harmonie Feuchttücher', 'Gilt beim Kauf von 2 Artikeln', 'gültig bis 08.03.24', 'AKTIVIEREN', '5€', 'RABATT', 'NEU', 'Wilkinson Hydro Rasierklingen', 'Gilt beim Kauf von 2 Artikeln', 'gültig bis 08.03.24', 'AKTIVIEREN', 'Start', 'Coupons', 'Einkaufen', 'Mehr', 'Kundenkarte', '5€', 'RABATT', 'Oral-B Elektrische Zahnbürste Vitality Pro oder Pro Kids', 'Gilt beim Kauf eines Artikels', 'gültig bis 08.03.24', 'AKTIVIEREN', '1+1', 'GRATIS', 'NEU', 'Pampers Harmonie Feuchttücher', 'Gilt beim Kauf von 2 Artikeln', 'gültig bis 08.03.24', 'AKTIVIEREN', '5€', 'RABATT', 'NEU', 'Wilkinson Hydro Rasierklingen', 'Gilt beim Kauf von 2 Artikeln', 'gültig bis 08.03.24', 'AKTIVIEREN', '5€', 'RABATT', 'Oral-B Elektrische Zahnbürste Vitality Pro oder Pro Kids', 'Gilt beim Kauf eines Artikels', 'gültig bis 08.03.24', 'AKTIVIEREN', '1+1', 'GRATIS', 'NEU', 'Pampers Harmonie Feuchttücher', 'Gilt beim Kauf von 2 Artikeln', 'gültig bis 08.03.24', 'AKTIVIEREN', '5€', 'RABATT', 'NEU', 'Wilkinson Hydro Rasierklingen', 'Gilt beim Kauf von 2 Artikeln', 'gültig bis 08.03.24', 'AKTIVIEREN']\n",
      "[1, 2, 2, 2, 2, 2, 0, 0, 0, 1, 2, 2, 2, 0, 0, 0, 1, 2, 2, 2, 0, 0, 0, 0, 0, 1, 2, 2, 2, 2, 2, 0, 0, 0, 1, 2, 2, 2, 0, 0, 0, 1, 2, 2, 2, 1, 2, 2, 2, 2, 2, 0, 0, 0, 1, 2, 2, 2, 0, 0, 0, 0, 0, 0, 0, 0]\n",
      "['Coupons', '5€', 'RABATT', 'Oral-B Elektrische Zahnbürste Vitality Pro oder Pro Kids', 'Gilt beim Kauf eines Artikels', 'gültig bis 08.03.24', 'AKTIVIEREN', '1+1', 'GRATIS', 'NEU', 'Pampers Harmonie Feuchttücher', 'Gilt beim Kauf von 2 Artikeln', 'gültig bis 08.03.24', 'AKTIVIEREN', '5€', 'RABATT', 'NEU', 'Wilkinson Hydro Rasierklingen', 'Gilt beim Kauf von 2 Artikeln', 'gültig bis 08.03.24', 'AKTIVIEREN', 'Start', 'Coupons', 'Einkaufen', 'Mehr', 'Kundenkarte', '5€', 'RABATT', 'Oral-B Elektrische Zahnbürste Vitality Pro oder Pro Kids', 'Gilt beim Kauf eines Artikels', 'gültig bis 08.03.24', 'AKTIVIEREN', '1+1', 'GRATIS', 'NEU', 'Pampers Harmonie Feuchttücher', 'Gilt beim Kauf von 2 Artikeln', 'gültig bis 08.03.24', 'AKTIVIEREN', '5€', 'RABATT', 'Oral-B Elektrische Zahnbürste Vitality Pro oder Pro Kids', 'Gilt beim Kauf eines Artikels', 'gültig bis 08.03.24', 'AKTIVIEREN', '1+1', 'GRATIS', 'NEU', 'Pampers Harmonie Feuchttücher', 'Gilt beim Kauf von 2 Artikeln', 'gültig bis 08.03.24', 'AKTIVIEREN', '5€', 'RABATT', 'NEU', 'Wilkinson Hydro Rasierklingen', 'Gilt beim Kauf von 2 Artikeln', 'gültig bis 08.03.24', 'AKTIVIEREN']\n",
      "[1, 2, 2, 2, 2, 2, 0, 0, 0, 1, 2, 2, 2, 0, 0, 0, 1, 2, 2, 2, 0, 0, 0, 0, 0, 1, 2, 2, 2, 2, 2, 0, 0, 0, 1, 2, 2, 2, 1, 2, 2, 2, 2, 2, 0, 0, 0, 1, 2, 2, 2, 0, 0, 0, 0, 0, 0, 0, 0]\n",
      "['Coupons', '5€', 'RABATT', 'Oral-B Elektrische Zahnbürste Vitality Pro oder Pro Kids', 'Gilt beim Kauf eines Artikels', 'gültig bis 08.03.24', 'AKTIVIEREN', '1+1', 'GRATIS', 'NEU', 'Pampers Harmonie Feuchttücher', 'Gilt beim Kauf von 2 Artikeln', 'gültig bis 08.03.24', 'AKTIVIEREN', '5€', 'RABATT', 'NEU', 'Wilkinson Hydro Rasierklingen', 'Gilt beim Kauf von 2 Artikeln', 'gültig bis 08.03.24', 'AKTIVIEREN', 'Start', 'Coupons', 'Einkaufen', 'Mehr', 'Kundenkarte', 'NEU', '1+1', 'GRATIS', 'Pampers Harmonie Feuchttücher', 'Gilt beim Kauf von 2 Artikeln', 'gültig bis 08.03.24', 'AKTIVIEREN', '5€', 'RABATT', 'NEU', 'Wilkinson Hydro Rasierklingen', 'Gilt beim Kauf von 2 Artikeln', 'gültig bis 08.03.24', 'AKTIVIEREN', '2+1', 'GRATIS', 'NEU', 'Perwoll Flüssigwaschmittel', 'Gilt beim Kauf von 3 Artikeln', 'gültig bis 24.03.24', 'AKTIVIEREN', '1+1', 'GRATIS', 'Pampers Harmonie Feuchttücher', 'Gilt beim Kauf von 2 Artikeln', 'gültig bis 08.03.24', 'AKTIVIEREN', '5€', 'RABATT', 'NEU', 'Wilkinson Hydro Rasierklingen', 'Gilt beim Kauf von 2 Artikeln', 'gültig bis 08.03.24', 'AKTIVIEREN', '2+1', 'GRATIS', 'NEU', 'Perwoll Flüssigwaschmittel', 'Gilt beim Kauf von 3 Artikeln', 'gültig bis 24.03.24', 'AKTIVIEREN']\n",
      "[1, 2, 2, 2, 2, 2, 0, 0, 0, 1, 2, 2, 2, 0, 0, 0, 1, 2, 2, 2, 0, 0, 0, 0, 0, 0, 0, 0, 1, 2, 2, 2, 0, 0, 0, 1, 2, 2, 2, 0, 0, 0, 0, 0, 0, 0, 0, 0, 1, 2, 2, 2, 0, 0, 0, 1, 2, 2, 2, 0, 0, 0, 0, 0, 0, 0, 0]\n",
      "['Coupons', '1+1', 'GRATIS', 'Pampers Harmonie Feuchttücher', 'Gilt beim Kauf von 2 Artikeln', 'gültig bis 08.03.24', 'AKTIVIEREN', '5€', 'RABATT', 'NEU', 'Wilkinson Hydro Rasierklingen', 'Gilt beim Kauf von 2 Artikeln', 'gültig bis 08.03.24', 'AKTIVIEREN', '2+1', 'GRATIS', 'NEU', 'Perwoll Flüssigwaschmittel', 'Gilt beim Kauf von 3 Artikeln', 'gültig bis 24.03.24', 'AKTIVIEREN', 'Start', 'Coupons', 'Einkaufen', 'Mehr', 'Kundenkarte', '1+1', 'GRATIS', 'Pampers Harmonie Feuchttücher', 'Gilt beim Kauf von 2 Artikeln', 'gültig bis 08.03.24', 'AKTIVIEREN', '5€', 'RABATT', 'NEU', 'Wilkinson Hydro Rasierklingen', 'Gilt beim Kauf von 2 Artikeln', 'gültig bis 08.03.24', 'AKTIVIEREN', '2+1', 'GRATIS', 'NEU', 'Perwoll Flüssigwaschmittel', 'Gilt beim Kauf von 3 Artikeln', 'gültig bis 24.03.24', 'AKTIVIEREN', 'GRATIS', 'DAZU', 'NEU', 'Gillette Rasierer und Klingen', 'Gilt beim Kauf von 2 Artikeln', 'gültig bis 10.03.24', 'AKTIVIEREN', '1+1', 'GRATIS', 'Pampers Harmonie Feuchttücher', 'Gilt beim Kauf von 2 Artikeln', 'gültig bis 08.03.24', 'AKTIVIEREN', '5€', 'RABATT', 'NEU', 'Wilkinson Hydro Rasierklingen', 'Gilt beim Kauf von 2 Artikeln', 'gültig bis 08.03.24', 'AKTIVIEREN', '2+1', 'GRATIS', 'NEU', 'Perwoll Flüssigwaschmittel', 'Gilt beim Kauf von 3 Artikeln', 'gültig bis 24.03.24', 'AKTIVIEREN', 'GRATIS', 'DAZU', 'NEU', 'Gillette Rasierer und Klingen', 'Gilt beim Kauf von 2 Artikeln', 'gültig bis 10.03.24', 'AKTIVIEREN']\n",
      "[1, 2, 2, 2, 2, 2, 0, 0, 0, 1, 2, 2, 2, 0, 0, 0, 1, 2, 2, 2, 0, 0, 0, 0, 0, 1, 2, 2, 2, 2, 2, 0, 0, 0, 1, 2, 2, 2, 0, 0, 0, 1, 2, 2, 2, 0, 0, 0, 0, 0, 0, 0, 1, 2, 2, 2, 2, 2, 0, 0, 0, 1, 2, 2, 2, 0, 0, 0, 1, 2, 2, 2, 0, 0, 0, 0, 0, 0, 0, 0]\n",
      "['Coupons', '1+1', 'GRATIS', 'Pampers Harmonie Feuchttücher', 'Gilt beim Kauf von 2 Artikeln', 'gültig bis 08.03.24', 'AKTIVIEREN', '5€', 'RABATT', 'NEU', 'Wilkinson Hydro Rasierklingen', 'Gilt beim Kauf von 2 Artikeln', 'gültig bis 08.03.24', 'AKTIVIEREN', '2+1', 'GRATIS', 'NEU', 'Perwoll Flüssigwaschmittel', 'Gilt beim Kauf von 3 Artikeln', 'gültig bis 24.03.24', 'AKTIVIEREN', 'GRATIS', 'DAZU', 'NEU', 'Gillette Rasierer und Klingen', 'Gilt beim Kauf von 2 Artikeln', 'gültig bis 10.03.24', 'AKTIVIEREN', 'Start', 'Coupons', 'Einkaufen', 'Mehr', 'Kundenkarte']\n",
      "[1, 2, 2, 2, 2, 2, 0, 0, 0, 1, 2, 2, 2, 0, 0, 0, 1, 2, 2, 2, 0, 0, 0, 1, 2, 2, 2, 0, 0, 0, 0, 0, 0]\n",
      "['Coupons', '5€', 'RABATT', 'Wilkinson Hydro Rasierklingen', 'Gilt beim Kauf von 2 Artikeln', 'gültig bis 08.03.24', 'AKTIVIEREN', '2+1', 'GRATIS', 'NEU', 'Perwoll Flüssigwaschmittel', 'Gilt beim Kauf von 3 Artikeln', 'gültig bis 24.03.24', 'AKTIVIEREN', 'GRATIS', 'DAZU', 'NEU', 'Gillette Rasierer und Klingen', 'Gilt beim Kauf von 2 Artikeln', 'gültig bis 10.03.24', 'AKTIVIEREN', 'Start', 'Coupons', 'Einkaufen', 'Mehr', 'Kundenkarte', '5€', 'RABATT', 'Wilkinson Hydro Rasierklingen', 'Gilt beim Kauf von 2 Artikeln', 'gültig bis 08.03.24', 'AKTIVIEREN', '2+1', 'GRATIS', 'NEU', 'Perwoll Flüssigwaschmittel', 'Gilt beim Kauf von 3 Artikeln', 'gültig bis 24.03.24', 'AKTIVIEREN', 'GRATIS', 'DAZU', 'NEU', 'Gillette Rasierer und Klingen', 'Gilt beim Kauf von 2 Artikeln', 'gültig bis 10.03.24', 'AKTIVIEREN', '5€', 'RABATT', 'Wilkinson Hydro Rasierklingen', 'Gilt beim Kauf von 2 Artikeln', 'gültig bis 08.03.24', 'AKTIVIEREN', '2+1', 'GRATIS', 'NEU', 'Perwoll Flüssigwaschmittel', 'Gilt beim Kauf von 3 Artikeln', 'gültig bis 24.03.24', 'AKTIVIEREN', 'GRATIS', 'DAZU', 'NEU', 'Gillette Rasierer und Klingen', 'Gilt beim Kauf von 2 Artikeln', 'gültig bis 10.03.24', 'AKTIVIEREN']\n",
      "[1, 2, 2, 2, 2, 2, 0, 0, 0, 1, 2, 2, 2, 0, 0, 0, 1, 2, 2, 2, 0, 0, 0, 0, 0, 1, 2, 2, 2, 2, 2, 0, 0, 0, 1, 2, 2, 2, 0, 0, 0, 1, 2, 2, 2, 1, 2, 2, 2, 2, 2, 0, 0, 0, 1, 2, 2, 2, 0, 0, 0, 0, 0, 0, 0, 0]\n",
      "['Coupons', '5€', 'RABATT', 'Wilkinson Hydro Rasierklingen', 'Gilt beim Kauf von 2 Artikeln', 'gültig bis 08.03.24', 'AKTIVIEREN', '2+1', 'GRATIS', 'NEU', 'Perwoll Flüssigwaschmittel', 'Gilt beim Kauf von 3 Artikeln', 'gültig bis 24.03.24', 'AKTIVIEREN', 'GRATIS', 'DAZU', 'NEU', 'Gillette Rasierer und Klingen', 'Gilt beim Kauf von 2 Artikeln', 'gültig bis 10.03.24', 'AKTIVIEREN', '30%', 'RABATT', 'NEU', 'NIVEA Produkte deiner Wahl', 'Gilt beim Kauf von beliebig vielen Artikeln', 'gültig bis 24.03.24', 'AKTIVIEREN', 'Start', 'Coupons', 'Einkaufen', 'Mehr', 'Kundenkarte', '2+1', 'GRATIS', 'NEU', 'Perwoll Flüssigwaschmittel', 'Gilt beim Kauf von 3 Artikeln', 'gültig bis 24.03.24', 'AKTIVIEREN', 'GRATIS', 'DAZU', 'NEU', 'Gillette Rasierer und Klingen', 'Gilt beim Kauf von 2 Artikeln', 'gültig bis 10.03.24', 'AKTIVIEREN', '30%', 'RABATT', 'NEU', 'NIVEA Produkte deiner Wahl', 'Gilt beim Kauf von beliebig vielen Artikeln', 'gültig bis 24.03.24', 'AKTIVIEREN']\n",
      "[1, 2, 2, 2, 2, 2, 0, 0, 0, 1, 2, 2, 2, 0, 0, 0, 1, 2, 2, 2, 0, 0, 0, 1, 2, 2, 2, 0, 0, 0, 0, 0, 0, 0, 0, 1, 2, 2, 2, 0, 0, 0, 1, 2, 2, 2, 0, 0, 0, 0, 0, 0, 0, 0]\n",
      "['Coupons', '2+1', 'GRATIS', 'NEU', 'Perwoll Flüssigwaschmittel', 'Gilt beim Kauf von 3 Artikeln', 'gültig bis 24.03.24', 'AKTIVIEREN', 'GRATIS', 'DAZU', 'NEU', 'Gillette Rasierer und Klingen', 'Gilt beim Kauf von 2 Artikeln', 'gültig bis 10.03.24', 'AKTIVIEREN', '30%', 'RABATT', 'NEU', 'NIVEA Produkte deiner Wahl', 'Gilt beim Kauf von beliebig vielen Artikeln', 'gültig bis 24.03.24', 'AKTIVIEREN', 'Start', 'Coupons', 'Einkaufen', 'Mehr', 'Kundenkarte', '2+1', 'GRATIS', 'Perwoll Flüssigwaschmittel', 'Gilt beim Kauf von 3 Artikeln', 'GRATIS', 'DAZU']\n",
      "[0, 0, 0, 1, 2, 2, 2, 0, 0, 0, 1, 2, 2, 2, 0, 0, 0, 1, 2, 2, 2, 0, 0, 0, 0, 0, 0, 0, 0, 0, 0, 0, 0]\n",
      "['Coupons', '2+1', 'GRATIS', 'Perwoll Flüssigwaschmittel', 'Gilt beim Kauf von 3 Artikeln', 'gültig bis 24.03.24', 'DEAKTIVIEREN', 'GRATIS', 'DAZU', 'NEU', 'Gillette Rasierer und Klingen', 'Gilt beim Kauf von 2 Artikeln', 'gültig bis 10.03.24', 'AKTIVIEREN', '30%', 'RABATT', 'NEU', 'NIVEA Produkte deiner Wahl', 'Gilt beim Kauf von beliebig vielen Artikeln', 'gültig bis 24.03.24', 'AKTIVIEREN', 'Start', 'Coupons', 'Einkaufen', 'Mehr', 'Kundenkarte']\n",
      "[1, 2, 2, 2, 2, 2, 0, 0, 0, 1, 2, 2, 2, 0, 0, 0, 1, 2, 2, 2, 0, 0, 0, 0, 0, 0]\n",
      "['Coupons', 'GRATIS', 'DAZU', 'NEU', 'Gillette Rasierer und Klingen', 'Gilt beim Kauf von 2 Artikeln', 'gültig bis 10.03.24', 'AKTIVIEREN', '30%', 'RABATT', 'NEU', 'NIVEA Produkte deiner Wahl', 'Gilt beim Kauf von beliebig vielen Artikeln', 'gültig bis 24.03.24', 'AKTIVIEREN', '20%', 'RABATT', 'NEU', 'Bruno Banani Antitranspirant Deospray', 'Gilt beim Kauf eines Artikels', 'gültig bis 24.03.24', 'AKTIVIEREN', 'Start', 'Coupons', 'Einkaufen', 'Mehr', 'Kundenkarte', 'GRATIS', 'DAZU', 'NEU', 'Gillette Rasierer und Klingen', 'Gilt beim Kauf von 2 Artikeln', 'gültig bis 10.03.24', 'AKTIVIEREN', '30%', 'RABATT', 'NEU', 'NIVEA Produkte deiner Wahl', 'Gilt beim Kauf von beliebig vielen Artikeln', 'gültig bis 24.03.24', 'AKTIVIEREN', '20%', 'RABATT', 'NEU', 'Bruno Banani Antitranspirant Deospray', 'Gilt beim Kauf eines Artikels', 'gültig bis 24.03.24', 'AKTIVIEREN', 'GRATIS', 'DAZU', 'NEU', 'Gillette Rasierer und Klingen', 'Gilt beim Kauf von 2 Artikeln', 'gültig bis 10.03.24', 'AKTIVIEREN', '30%', 'RABATT', 'NEU', 'NIVEA Produkte deiner Wahl', 'Gilt beim Kauf von beliebig vielen Artikeln', 'gültig bis 24.03.24', 'AKTIVIEREN', '20%', 'RABATT', 'NEU', 'Bruno Banani Antitranspirant Deospray', 'Gilt beim Kauf eines Artikels', 'gültig bis 24.03.24', 'AKTIVIEREN']\n",
      "[0, 0, 0, 1, 2, 2, 2, 0, 0, 0, 1, 2, 2, 2, 0, 0, 0, 1, 2, 2, 2, 0, 0, 0, 0, 0, 0, 0, 0, 1, 2, 2, 2, 0, 0, 0, 1, 2, 2, 2, 0, 0, 0, 1, 2, 2, 2, 0, 0, 0, 1, 2, 2, 2, 0, 0, 0, 1, 2, 2, 2, 0, 0, 0, 0, 0, 0, 0, 0]\n",
      "['Coupons', 'GRATIS', 'DAZU', 'NEU', 'Gillette Rasierer und Klingen', 'Gilt beim Kauf von 2 Artikeln', 'gültig bis 10.03.24', 'AKTIVIEREN', '30%', 'RABATT', 'NEU', 'NIVEA Produkte deiner Wahl', 'Gilt beim Kauf von beliebig vielen Artikeln', 'gültig bis 24.03.24', 'AKTIVIEREN', '20%', 'RABATT', 'NEU', 'Bruno Banani Antitranspirant Deospray', 'Gilt beim Kauf eines Artikels', 'gültig bis 24.03.24', 'AKTIVIEREN', 'Start', 'Coupons', 'Einkaufen', 'Mehr', 'Kundenkarte', '30%', 'RABATT', 'NIVEA Produkte deiner Wahl', 'Gilt beim Kauf von beliebig vielen Artikeln', 'gültig bis 24.03.24', 'AKTIVIEREN', '20%', 'RABATT', 'NEU', 'Bruno Banani Antitranspirant Deospray', 'Gilt beim Kauf eines Artikels', 'gültig bis 24.03.24', 'AKTIVIEREN', '5€', 'RABATT', 'NEU', \"Harry's Truman Rasierer & Rasierklingen\", 'Gilt beim Kauf von 2 Artikeln', 'gültig bis 24.03.24', 'AKTIVIEREN', '30%', 'RABATT', 'NIVEA Produkte deiner Wahl', 'Gilt beim Kauf von beliebig vielen Artikeln', 'gültig bis 24.03.24', 'AKTIVIEREN', '20%', 'RABATT', 'NEU', 'Bruno Banani Antitranspirant Deospray', 'Gilt beim Kauf eines Artikels', 'gültig bis 24.03.24', 'AKTIVIEREN', '5€', 'RABATT', 'NEU', \"Harry's Truman Rasierer & Rasierklingen\", 'Gilt beim Kauf von 2 Artikeln', 'gültig bis 24.03.24', 'AKTIVIEREN']\n",
      "[0, 0, 0, 1, 2, 2, 2, 0, 0, 0, 1, 2, 2, 2, 0, 0, 0, 1, 2, 2, 2, 0, 0, 0, 0, 0, 0, 0, 1, 2, 2, 2, 0, 0, 0, 1, 2, 2, 2, 0, 0, 0, 0, 0, 0, 0, 0, 0, 1, 2, 2, 2, 0, 0, 0, 1, 2, 2, 2, 0, 0, 0, 0, 0, 0, 0, 0]\n",
      "['Coupons', '30%', 'RABATT', 'NIVEA Produkte deiner Wahl', 'Gilt beim Kauf von beliebig vielen Artikeln', 'gültig bis 24.03.24', 'AKTIVIEREN', '20%', 'RABATT', 'NEU', 'Bruno Banani Antitranspirant Deospray', 'Gilt beim Kauf eines Artikels', 'gültig bis 24.03.24', 'AKTIVIEREN', '5€', 'RABATT', 'NEU', \"Harry's Truman Rasierer & Rasierklingen\", 'Gilt beim Kauf von 2 Artikeln', 'gültig bis 24.03.24', 'AKTIVIEREN', 'Start', 'Coupons', 'Einkaufen', 'Mehr', 'Kundenkarte', '30%', 'RABATT', 'NIVEA Produkte deiner Wahl', 'Gilt beim Kauf von beliebig vielen Artikeln', 'gültig bis 24.03.24', 'AKTIVIEREN', '20%', 'RABATT', 'NEU', 'Bruno Banani Antitranspirant Deospray', 'Gilt beim Kauf eines Artikels', 'gültig bis 24.03.24', 'AKTIVIEREN', '5€', 'RABATT', 'NEU', \"Harry's Truman Rasierer & Rasierklingen\", 'Gilt beim Kauf von 2 Artikeln', 'gültig bis 24.03.24', 'AKTIVIEREN', '30%', 'RABATT', 'NIVEA Produkte deiner Wahl', 'Gilt beim Kauf von beliebig vielen Artikeln', 'gültig bis 24.03.24', 'AKTIVIEREN', '20%', 'RABATT', 'NEU', 'Bruno Banani Antitranspirant Deospray', 'Gilt beim Kauf eines Artikels', 'gültig bis 24.03.24', 'AKTIVIEREN', '5€', 'RABATT', 'NEU', \"Harry's Truman Rasierer & Rasierklingen\", 'Gilt beim Kauf von 2 Artikeln', 'gültig bis 24.03.24', 'AKTIVIEREN']\n",
      "[1, 2, 2, 2, 2, 2, 0, 0, 0, 1, 2, 2, 2, 0, 0, 0, 1, 2, 2, 2, 0, 0, 0, 0, 0, 1, 2, 2, 2, 2, 2, 0, 0, 0, 1, 2, 2, 2, 0, 0, 0, 1, 2, 2, 2, 1, 2, 2, 2, 2, 2, 0, 0, 0, 1, 2, 2, 2, 0, 0, 0, 0, 0, 0, 0, 0]\n",
      "['Coupons', '30%', 'RABATT', 'NIVEA Produkte deiner Wahl', 'Gilt beim Kauf von beliebig vielen Artikeln', 'gültig bis 24.03.24', 'AKTIVIEREN', '20%', 'RABATT', 'NEU', 'Bruno Banani Antitranspirant Deospray', 'Gilt beim Kauf eines Artikels', 'gültig bis 24.03.24', 'AKTIVIEREN', '5€', 'RABATT', 'NEU', \"Harry's Truman Rasierer & Rasierklingen\", 'Gilt beim Kauf von 2 Artikeln', 'gültig bis 24.03.24', 'AKTIVIEREN', 'Start', 'Coupons', 'Einkaufen', 'Mehr', 'Kundenkarte', '20%', 'RABATT', 'Bruno Banani Antitranspirant Deospray', 'Gilt beim Kauf eines Artikels', 'gültig bis 24.03.24', 'AKTIVIEREN', '5€', 'RABATT', 'NEU', \"Harry's Truman Rasierer & Rasierklingen\", 'Gilt beim Kauf von 2 Artikeln', 'gültig bis 24.03.24', 'AKTIVIEREN', '20%', 'RABATT', 'NEU', 'Cottonelle feuchtes Toilettenpapier', 'Gilt beim Kauf eines Artikels', 'gültig bis 24.03.24', 'AKTIVIEREN', '20%', 'RABATT', 'Bruno Banani Antitranspirant Deospray', 'Gilt beim Kauf eines Artikels', 'gültig bis 24.03.24', 'AKTIVIEREN', '5€', 'RABATT', 'NEU', \"Harry's Truman Rasierer & Rasierklingen\", 'Gilt beim Kauf von 2 Artikeln', 'gültig bis 24.03.24', 'AKTIVIEREN', '20%', 'RABATT', 'NEU', 'Cottonelle feuchtes Toilettenpapier', 'Gilt beim Kauf eines Artikels', 'gültig bis 24.03.24', 'AKTIVIEREN']\n",
      "[1, 2, 2, 2, 2, 2, 0, 0, 0, 1, 2, 2, 2, 0, 0, 0, 1, 2, 2, 2, 0, 0, 0, 0, 0, 0, 0, 1, 2, 2, 2, 0, 0, 0, 1, 2, 2, 2, 0, 0, 0, 0, 0, 0, 0, 0, 0, 1, 2, 2, 2, 0, 0, 0, 1, 2, 2, 2, 0, 0, 0, 0, 0, 0, 0, 0]\n",
      "['Coupons', '20%', 'RABATT', 'Bruno Banani Antitranspirant Deospray', 'Gilt beim Kauf eines Artikels', 'gültig bis 24.03.24', 'AKTIVIEREN', '5€', 'RABATT', 'NEU', \"Harry's Truman Rasierer & Rasierklingen\", 'Gilt beim Kauf von 2 Artikeln', 'gültig bis 24.03.24', 'AKTIVIEREN', '20%', 'RABATT', 'NEU', 'Cottonelle feuchtes Toilettenpapier', 'Gilt beim Kauf eines Artikels', 'gültig bis 24.03.24', 'AKTIVIEREN', '20%', 'RABATT', 'NEU', 'bebe Pflegeprodukte', 'Gilt beim Kauf eines Artikels', 'gültig bis 24.03.24', 'AKTIVIEREN', 'Start', 'Coupons', 'Einkaufen', 'Mehr', 'Kundenkarte', '20%', 'RABATT', 'Bruno Banani Antitranspirant Deospray', 'Gilt beim Kauf eines Artikels', 'gültig bis 24.03.24', 'AKTIVIEREN', '5€', 'RABATT', 'NEU', \"Harry's Truman Rasierer & Rasierklingen\", 'Gilt beim Kauf von 2 Artikeln', 'gültig bis 24.03.24', 'AKTIVIEREN', '20%', 'RABATT', 'NEU', 'Cottonelle feuchtes Toilettenpapier']\n",
      "[1, 2, 2, 2, 2, 2, 0, 0, 0, 1, 2, 2, 2, 0, 0, 0, 1, 2, 2, 2, 0, 0, 0, 1, 2, 2, 2, 0, 0, 0, 0, 0, 1, 2, 2, 2, 2, 2, 0, 0, 0, 1, 2, 2, 2, 0, 0, 0, 0, 0]\n",
      "['Coupons', '5€', 'RABATT', 'NEU', \"Harry's Truman Rasierer & Rasierklingen\", 'Gilt beim Kauf von 2 Artikeln', 'gültig bis 24.03.24', 'AKTIVIEREN', '20%', 'RABATT', 'NEU', 'Cottonelle feuchtes Toilettenpapier', 'Gilt beim Kauf eines Artikels', 'gültig bis 24.03.24', 'AKTIVIEREN', '20%', 'RABATT', 'NEU', 'bebe Pflegeprodukte', 'Gilt beim Kauf eines Artikels', 'gültig bis 24.03.24', 'AKTIVIEREN', 'Start', 'Coupons', 'Einkaufen', 'Mehr', 'Kundenkarte', 'NEU', '20%', 'RABATT', 'NEU', 'Cottonelle feuchtes Toilettenpapier', 'NEU']\n",
      "[0, 0, 0, 1, 2, 2, 2, 0, 0, 0, 1, 2, 2, 2, 0, 0, 0, 1, 2, 2, 2, 0, 0, 0, 0, 0, 0, 0, 0, 0, 0, 0, 0]\n",
      "['Coupons', '5€', 'RABATT', \"Harry's Truman Rasierer & Rasierklingen\", 'Gilt beim Kauf von 2 Artikeln', 'gültig bis 24.03.24', 'AKTIVIEREN', '20%', 'RABATT', 'NEU', 'Cottonelle feuchtes Toilettenpapier', 'Gilt beim Kauf eines Artikels', 'gültig bis 24.03.24', 'AKTIVIEREN', '20%', 'RABATT', 'NEU', 'bebe Pflegeprodukte', 'Gilt beim Kauf eines Artikels', 'gültig bis 24.03.24', 'AKTIVIEREN', 'Start', 'Coupons', 'Einkaufen', 'Mehr', 'Kundenkarte', '20%', 'RABATT', 'NEU', 'Cottonelle feuchtes Toilettenpapier', 'Gilt beim Kauf eines Artikels', 'gültig bis 24.03.24', 'AKTIVIEREN', '20%', 'RABATT', 'NEU', 'bebe Pflegeprodukte', 'Gilt beim Kauf eines Artikels', 'gültig bis 24.03.24', 'AKTIVIEREN', '20%', 'RABATT', 'NEU', 'Veet Haarentfernung', 'Gilt beim Kauf von beliebig vielen Artikeln', 'gültig bis 24.03.24', 'AKTIVIEREN', '20%', 'RABATT', 'NEU', 'Cottonelle feuchtes Toilettenpapier', 'Gilt beim Kauf eines Artikels', 'gültig bis 24.03.24', 'AKTIVIEREN', '20%', 'RABATT', 'NEU', 'bebe Pflegeprodukte', 'Gilt beim Kauf eines Artikels', 'gültig bis 24.03.24', 'AKTIVIEREN', '20%', 'RABATT', 'NEU', 'Veet Haarentfernung', 'Gilt beim Kauf von beliebig vielen Artikeln', 'gültig bis 24.03.24', 'AKTIVIEREN']\n",
      "[1, 2, 2, 2, 2, 2, 0, 0, 0, 1, 2, 2, 2, 0, 0, 0, 1, 2, 2, 2, 0, 0, 0, 0, 0, 0, 0, 0, 1, 2, 2, 2, 0, 0, 0, 1, 2, 2, 2, 0, 0, 0, 0, 0, 0, 0, 0, 0, 0, 1, 2, 2, 2, 0, 0, 0, 1, 2, 2, 2, 0, 0, 0, 0, 0, 0, 0, 0]\n",
      "['Coupons', '20%', 'RABATT', 'NEU', 'Cottonelle feuchtes Toilettenpapier', 'Gilt beim Kauf eines Artikels', 'gültig bis 24.03.24', 'AKTIVIEREN', '20%', 'RABATT', 'NEU', 'bebe Pflegeprodukte', 'Gilt beim Kauf eines Artikels', 'gültig bis 24.03.24', 'AKTIVIEREN', '20%', 'RABATT', 'NEU', 'Veet Haarentfernung', 'Gilt beim Kauf von beliebig vielen Artikeln', 'gültig bis 24.03.24', 'AKTIVIEREN', 'Start', 'Coupons', 'Einkaufen', 'Mehr', 'Kundenkarte', '20%', 'RABATT', '20%', 'RABATT', 'bebe Pflegeprodukte', 'Gilt beim Kauf eines Artikels', 'gültig bis 24.03.24', 'AKTIVIEREN', '20%', 'RABATT', 'NEU', 'Veet Haarentfernung', 'Gilt beim Kauf von beliebig vielen Artikeln', 'gültig bis 24.03.24', 'AKTIVIEREN', '1€', 'RABATT', 'NEU', 'Axe Fine Fragrance Bodyspray & Dusche', 'Gilt beim Kauf eines Artikels', 'gültig bis 24.03.24', 'AKTIVIEREN']\n",
      "[0, 0, 0, 1, 2, 2, 2, 0, 0, 0, 1, 2, 2, 2, 0, 0, 0, 1, 2, 2, 2, 0, 0, 0, 0, 0, 0, 0, 0, 0, 1, 2, 2, 2, 0, 0, 0, 1, 2, 2, 2, 0, 0, 0, 0, 0, 0, 0, 0]\n",
      "['Coupons', '20%', 'RABATT', 'bebe Pflegeprodukte', 'Gilt beim Kauf eines Artikels', 'gültig bis 24.03.24', 'AKTIVIEREN', '20%', 'RABATT', 'NEU', 'Veet Haarentfernung', 'Gilt beim Kauf von beliebig vielen Artikeln', 'gültig bis 24.03.24', 'AKTIVIEREN', '1€', 'RABATT', 'NEU', 'Axe Fine Fragrance Bodyspray & Dusche', 'Gilt beim Kauf eines Artikels', 'gültig bis 24.03.24', 'AKTIVIEREN', 'Start', 'Coupons', 'Einkaufen', 'Mehr', 'Kundenkarte', '20%', 'RABATT', 'bebe Pflegeprodukte', 'Gilt beim Kauf eines Artikels', 'gültig bis 24.03.24', 'AKTIVIEREN', '20%', 'RABATT', 'NEU', 'Veet Haarentfernung', 'Gilt beim Kauf von beliebig vielen Artikeln', 'gültig bis 24.03.24', 'AKTIVIEREN', '1€', 'RABATT', 'NEU', 'Axe Fine Fragrance Bodyspray & Dusche', 'Gilt beim Kauf eines Artikels', 'gültig bis 24.03.24', 'AKTIVIEREN', '20%', 'RABATT', 'bebe Pflegeprodukte', 'Gilt beim Kauf eines Artikels', 'gültig bis 24.03.24', 'AKTIVIEREN', '20%', 'RABATT', 'NEU', 'Veet Haarentfernung', 'Gilt beim Kauf von beliebig vielen Artikeln', 'gültig bis 24.03.24', 'AKTIVIEREN', '1€', 'RABATT', 'NEU', 'Axe Fine Fragrance Bodyspray & Dusche', 'Gilt beim Kauf eines Artikels', 'gültig bis 24.03.24', 'AKTIVIEREN']\n",
      "[1, 2, 2, 2, 2, 2, 0, 0, 0, 1, 2, 2, 2, 0, 0, 0, 1, 2, 2, 2, 0, 0, 0, 0, 0, 1, 2, 2, 2, 2, 2, 0, 0, 0, 1, 2, 2, 2, 0, 0, 0, 1, 2, 2, 2, 1, 2, 2, 2, 2, 2, 0, 0, 0, 1, 2, 2, 2, 0, 0, 0, 0, 0, 0, 0, 0]\n",
      "['Coupons', '20%', 'RABATT', 'bebe Pflegeprodukte', 'Gilt beim Kauf eines Artikels', 'gültig bis 24.03.24', 'AKTIVIEREN', '20%', 'RABATT', 'NEU', 'Veet Haarentfernung', 'Gilt beim Kauf von beliebig vielen Artikeln', 'gültig bis 24.03.24', 'AKTIVIEREN', '1€', 'RABATT', 'NEU', 'Axe Fine Fragrance Bodyspray & Dusche', 'Gilt beim Kauf eines Artikels', 'gültig bis 24.03.24', 'AKTIVIEREN', '20%', 'RABATT', 'NEU', \"Burt's Bees Lippenpflege\", 'Gilt beim Kauf eines Artikels', 'gültig bis 31.03.24', 'AKTIVIEREN', 'Start', 'Coupons', 'Einkaufen', 'Mehr', 'Kundenkarte']\n",
      "[1, 2, 2, 2, 2, 2, 0, 0, 0, 1, 2, 2, 2, 0, 0, 0, 1, 2, 2, 2, 0, 0, 0, 1, 2, 2, 2, 0, 0, 0, 0, 0, 0]\n",
      "['Kundenkarte', '862fbddbf81bffe213dbba587ab75e53a53dd7c6684f2139dcc5491872e90567', 'Alle Aktivierungen (3)', 'Meine Ersparnis']\n",
      "[0, 0, 0, 0]\n",
      "['Kundenkarte', '862fbddbf81bffe213dbba587ab75e53a53dd7c6684f2139dcc5491872e90567', 'Alle Aktivierungen (3)', 'Meine Ersparnis']\n",
      "[0, 0, 0, 0]\n",
      "['Kundenkarte', '862fbddbf81bffe213dbba587ab75e53a53dd7c6684f2139dcc5491872e90567', 'Alle Aktivierungen (3)', 'Meine Ersparnis']\n",
      "[0, 0, 0, 0]\n",
      "['Kundenkarte', '862fbddbf81bffe213dbba587ab75e53a53dd7c6684f2139dcc5491872e90567', 'Alle Aktivierungen (3)', 'Meine Ersparnis']\n",
      "[0, 0, 0, 0]\n",
      "['Coupons', '20%', 'RABATT', 'NEU', 'elmex Zahnpflege für Kinder', 'Gilt beim Kauf von 2 Artikeln', 'gültig bis 24.03.24', 'AKTIVIEREN', '20%', 'RABATT', 'eco Freude Reinigungsmittel', 'Gilt beim Kauf von beliebig vielen Artikeln', 'gültig bis 10.03.24', 'AKTIVIEREN', '1+1', 'GRATIS', 'NEU', 'Pril, Sidolin und biff Reinigungsprodukte', 'Gilt beim Kauf von 2 Artikeln', 'Biozidprodukte vorsichtig verwenden. Vor Gebrauch stets Etikett und Produktinformationen lesen.', 'gültig bis 10.03.24', 'AKTIVIEREN', 'Start', 'Coupons', 'Einkaufen', 'Mehr', 'Kundenkarte']\n",
      "[0, 0, 0, 1, 2, 2, 2, 1, 2, 2, 2, 2, 2, 0, 0, 0, 0, 0, 0, 0, 0, 0, 0, 0, 0, 0, 0]\n",
      "['Willkommen, Isabelle!', 'Einkaufsliste', 'Warenkorb', 'Ich suche nach …', 'Deine Top-Coupons!', 'Alle anzeigen', '10%', 'RABATT*', 'ROSSMANN 10% auf alles in der Filiale*', '*ausgenommen Pfand, Prepaid-Produkte, Tabakwaren, Zeitungen, Zeitschriften, Bücher, Geschenkgutscheine', 'Nur in der Filiale gültig bis 31.03.24', 'DEAKTIVIEREN', '10%', 'RABATT*', 'ROSSMANN 10% auf alles in der Filiale*', '*ausgenommen Pfand, Prepaid-Produkte, Tabakwaren, Zeitungen, Zeitschriften, Bücher, Geschenkgutscheine', 'Nur in der Filiale gültig bis 31.03.24', 'AKTIVIEREN', 'Start', 'Coupons', 'Einkaufen', 'Mehr', 'Kundenkarte']\n",
      "[0, 0, 0, 0, 0, 0, 0, 0, 0, 0, 0, 0, 0, 0, 0, 0, 0, 0, 0, 0, 0, 0, 0]\n",
      "['Willkommen, Isabelle!', 'Einkaufsliste', 'Warenkorb', 'Ich suche nach …', 'Deine Top-Coupons!', 'Alle anzeigen', '10%', 'RABATT*', 'ROSSMANN 10% auf alles in der Filiale*', '*ausgenommen Pfand, Prepaid-Produkte, Tabakwaren, Zeitungen, Zeitschriften, Bücher, Geschenkgutscheine', 'Nur in der Filiale gültig bis 31.03.24', 'DEAKTIVIEREN', '10%', 'RABATT*', 'ROSSMANN 10% auf alles in der Filiale*', '*ausgenommen Pfand, Prepaid-Produkte, Tabakwaren, Zeitungen, Zeitschriften, Bücher, Geschenkgutscheine', 'Nur in der Filiale gültig bis 31.03.24', 'AKTIVIEREN', 'Start', 'Coupons', 'Einkaufen', 'Mehr', 'Kundenkarte']\n",
      "[0, 0, 0, 0, 0, 0, 0, 0, 0, 0, 0, 0, 0, 0, 0, 0, 0, 0, 0, 0, 0, 0, 0]\n",
      "['Willkommen, Isabelle!', 'Einkaufsliste', 'Warenkorb', 'Ich suche nach …', 'Deine Top-Coupons!', 'Alle anzeigen', '10%', 'RABATT*', 'ROSSMANN 10% auf alles in der Filiale*', '*ausgenommen Pfand, Prepaid-Produkte, Tabakwaren, Zeitungen, Zeitschriften, Bücher, Geschenkgutscheine', 'Nur in der Filiale gültig bis 31.03.24', 'DEAKTIVIEREN', '10%', 'RABATT*', 'ROSSMANN 10% auf alles in der Filiale*', '*ausgenommen Pfand, Prepaid-Produkte, Tabakwaren, Zeitungen, Zeitschriften, Bücher, Geschenkgutscheine', 'Nur in der Filiale gültig bis 31.03.24', 'AKTIVIEREN', 'Start', 'Coupons', 'Einkaufen', 'Mehr', 'Kundenkarte']\n",
      "[0, 0, 0, 0, 0, 0, 0, 0, 0, 0, 0, 0, 0, 0, 0, 0, 0, 0, 0, 0, 0, 0, 0]\n",
      "['Kundenkarte', '862fbddbf81bffe213dbba587ab75e53a53dd7c6684f2139dcc5491872e90567', 'Alle Aktivierungen (3)', 'Meine Ersparnis']\n",
      "[0, 0, 0, 0]\n",
      "['Kundenkarte', '862fbddbf81bffe213dbba587ab75e53a53dd7c6684f2139dcc5491872e90567', 'Alle Aktivierungen (3)', 'Meine Ersparnis']\n",
      "[0, 0, 0, 0]\n",
      "['Kundenkarte', '862fbddbf81bffe213dbba587ab75e53a53dd7c6684f2139dcc5491872e90567', 'Alle Aktivierungen (3)', 'Meine Ersparnis']\n",
      "[0, 0, 0, 0]\n",
      "['Kundenkarte', '862fbddbf81bffe213dbba587ab75e53a53dd7c6684f2139dcc5491872e90567', 'Alle Aktivierungen (3)', 'Meine Ersparnis']\n",
      "[0, 0, 0, 0]\n",
      "['Kundenkarte', '862fbddbf81bffe213dbba587ab75e53a53dd7c6684f2139dcc5491872e90567', 'Alle Aktivierungen (3)', 'Meine Ersparnis']\n",
      "[0, 0, 0, 0]\n",
      "['Willkommen, Isabelle!', 'Einkaufsliste', 'Warenkorb', 'Ich suche nach …', 'Deine Top-Coupons!', 'Alle anzeigen', '10%', 'RABATT*', 'ROSSMANN 10% auf alles in der Filiale*', '*ausgenommen Pfand, Prepaid-Produkte, Tabakwaren, Zeitungen, Zeitschriften, Bücher, Geschenkgutscheine', 'Nur in der Filiale gültig bis 31.03.24', 'DEAKTIVIEREN', '10%', 'RABATT*', 'ROSSMANN 10% auf alles in der Filiale*', '*ausgenommen Pfand, Prepaid-Produkte, Tabakwaren, Zeitungen, Zeitschriften, Bücher, Geschenkgutscheine', 'Nur in der Filiale gültig bis 31.03.24', 'AKTIVIEREN', 'Start', 'Coupons', 'Einkaufen', 'Mehr', 'Kundenkarte']\n",
      "[0, 0, 0, 0, 0, 0, 0, 0, 0, 0, 0, 0, 0, 0, 0, 0, 0, 0, 0, 0, 0, 0, 0]\n"
     ]
    }
   ],
   "execution_count": 10
  },
  {
   "metadata": {
    "ExecuteTime": {
     "end_time": "2025-01-21T16:50:44.421535Z",
     "start_time": "2025-01-21T16:50:44.402998Z"
    }
   },
   "cell_type": "code",
   "source": [
    "features = datasets.Features({\n",
    "    \"texts\": datasets.Sequence(datasets.Value(\"string\")),\n",
    "    \"labels\": datasets.Sequence(labels)\n",
    "})\n",
    "\n",
    "ds = datasets.Dataset.from_dict(\n",
    "    {\n",
    "        \"texts\": samples_arr,\n",
    "        \"labels\": labels_arr\n",
    "    },\n",
    "    features=features\n",
    ")"
   ],
   "id": "69a4398663e09d53",
   "outputs": [],
   "execution_count": 11
  },
  {
   "metadata": {
    "ExecuteTime": {
     "end_time": "2025-01-21T16:58:37.885361Z",
     "start_time": "2025-01-21T16:58:34.570636Z"
    }
   },
   "cell_type": "code",
   "source": [
    "from huggingface_hub import login\n",
    "from huggingface_hub import HfApi\n",
    "\n",
    "login()\n",
    "api = HfApi()\n",
    "api.create_repo(repo_id=\"zpp-murmuras/ds-coupon-selecting-v01\", repo_type=\"dataset\", private=True)\n",
    "\n",
    "ds.push_to_hub(\"zpp-murmuras/ds-coupon-selecting-v01\", private=True)"
   ],
   "id": "b8a6c7400fba5cbf",
   "outputs": [
    {
     "data": {
      "text/plain": [
       "VBox(children=(HTML(value='<center> <img\\nsrc=https://huggingface.co/front/assets/huggingface_logo-noborder.sv…"
      ],
      "application/vnd.jupyter.widget-view+json": {
       "version_major": 2,
       "version_minor": 0,
       "model_id": "8b93e6aad5784156a754c0b292452613"
      }
     },
     "metadata": {},
     "output_type": "display_data"
    },
    {
     "data": {
      "text/plain": [
       "Uploading the dataset shards:   0%|          | 0/1 [00:00<?, ?it/s]"
      ],
      "application/vnd.jupyter.widget-view+json": {
       "version_major": 2,
       "version_minor": 0,
       "model_id": "179d71acebc9404a8bfe33b3917c802c"
      }
     },
     "metadata": {},
     "output_type": "display_data"
    },
    {
     "data": {
      "text/plain": [
       "Creating parquet from Arrow format:   0%|          | 0/1 [00:00<?, ?ba/s]"
      ],
      "application/vnd.jupyter.widget-view+json": {
       "version_major": 2,
       "version_minor": 0,
       "model_id": "c4b085b06b594ff782352d96f78b250c"
      }
     },
     "metadata": {},
     "output_type": "display_data"
    },
    {
     "data": {
      "text/plain": [
       "CommitInfo(commit_url='https://huggingface.co/datasets/zpp-murmuras/ds-coupon-selecting-v01/commit/17327488b951a6a2e6356e5d2af2287ed3258a58', commit_message='Upload dataset', commit_description='', oid='17327488b951a6a2e6356e5d2af2287ed3258a58', pr_url=None, repo_url=RepoUrl('https://huggingface.co/datasets/zpp-murmuras/ds-coupon-selecting-v01', endpoint='https://huggingface.co', repo_type='dataset', repo_id='zpp-murmuras/ds-coupon-selecting-v01'), pr_revision=None, pr_num=None)"
      ]
     },
     "execution_count": 16,
     "metadata": {},
     "output_type": "execute_result"
    }
   ],
   "execution_count": 16
  }
 ],
 "metadata": {
  "kernelspec": {
   "display_name": "Python 3",
   "language": "python",
   "name": "python3"
  },
  "language_info": {
   "codemirror_mode": {
    "name": "ipython",
    "version": 2
   },
   "file_extension": ".py",
   "mimetype": "text/x-python",
   "name": "python",
   "nbconvert_exporter": "python",
   "pygments_lexer": "ipython2",
   "version": "2.7.6"
  }
 },
 "nbformat": 4,
 "nbformat_minor": 5
}
