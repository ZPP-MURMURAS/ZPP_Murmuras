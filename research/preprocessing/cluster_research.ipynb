{
 "cells": [
  {
   "cell_type": "markdown",
   "id": "c185f8b0-bfda-4538-8613-275a6387b350",
   "metadata": {},
   "source": [
    "# Imports"
   ]
  },
  {
   "cell_type": "code",
   "execution_count": 1,
   "id": "f6bf6365-5bb5-43af-9ecb-cbee509b33bc",
   "metadata": {},
   "outputs": [],
   "source": [
    "import numpy as np\n",
    "import pandas as pd\n",
    "from typing import Optional\n",
    "from scipy.spatial.distance import pdist, squareform\n",
    "from scipy.cluster.hierarchy import linkage, dendrogram\n",
    "import matplotlib.pyplot as plt"
   ]
  },
  {
   "cell_type": "code",
   "execution_count": 2,
   "id": "6ba6255a-162c-48bd-b9fe-954571b6201c",
   "metadata": {},
   "outputs": [
    {
     "name": "stdout",
     "output_type": "stream",
     "text": [
      "            ID  User ID                     Time  I Language Application Name  \\\n",
      "0  18929485529   165559  2024-09-04T10:55:25.287  1       de            PENNY   \n",
      "1  18929485529   165559  2024-09-04T10:55:25.287  2       de            PENNY   \n",
      "2  18929485529   165559  2024-09-04T10:55:25.287  3       de            PENNY   \n",
      "3  18929485529   165559  2024-09-04T10:55:25.287  4       de            PENNY   \n",
      "4  18929485529   165559  2024-09-04T10:55:25.287  5       de            PENNY   \n",
      "\n",
      "   Package Name                           Class Name  Context  \\\n",
      "0  de.penny.app  de.penny.app.main.view.MainActivity      NaN   \n",
      "1  de.penny.app  de.penny.app.main.view.MainActivity      NaN   \n",
      "2  de.penny.app  de.penny.app.main.view.MainActivity      NaN   \n",
      "3  de.penny.app  de.penny.app.main.view.MainActivity      NaN   \n",
      "4  de.penny.app  de.penny.app.main.view.MainActivity      NaN   \n",
      "\n",
      "              View ID  View Depth                      View Class Name  \\\n",
      "0                 NaN           0  de.penny.app.main.view.MainActivity   \n",
      "1  android:id/content           2           android.widget.FrameLayout   \n",
      "2                 NaN          11              android.widget.TextView   \n",
      "3                 NaN          11              android.widget.TextView   \n",
      "4                 NaN          10              android.widget.TextView   \n",
      "\n",
      "        Text  Description  Seen Timestamp  Is Visible  X 1  Y 1   X 2   Y 2  \n",
      "0        NaN          NaN               0       False    0    0     0     0  \n",
      "1        NaN          NaN   1725440082464        True    0    0  1080  2400  \n",
      "2  UVP 14.99          NaN   1725440082464        True  339  833   498   874  \n",
      "3       9.99          NaN   1725440082464        True  356  884   482   960  \n",
      "4        UVP          NaN   1725440082464        True   63  986   125  1027  \n"
     ]
    }
   ],
   "source": [
    "coupon_df = pd.read_csv('data/18929485529.csv')\n",
    "print(coupon_df.head())"
   ]
  },
  {
   "cell_type": "code",
   "execution_count": 3,
   "id": "f81a4e05-4932-420b-8c86-b6378bf2a186",
   "metadata": {},
   "outputs": [],
   "source": [
    "class BoundingBox:\n",
    "    def __init__(self, x1, y1, x2, y2):\n",
    "        self.x1 = min(x1, x2)\n",
    "        self.y1 = min(y1, y2)\n",
    "        self.x2 = max(x1, x2)\n",
    "        self.y2 = max(y1, y2)\n",
    "\n",
    "    def intersects(self, other: 'BoundingBox') -> bool:\n",
    "        if self.x1 >= other.x2 or self.x2 <= other.x1:\n",
    "            return False\n",
    "\n",
    "        if self.y1 >= other.y2 or self.y2 <= other.y1:\n",
    "            return False\n",
    "\n",
    "        return True\n",
    "\n",
    "    def merge(self, other: 'BoundingBox') -> 'BoundingBox':\n",
    "        return BoundingBox(\n",
    "            min(self.x1, other.x1),\n",
    "            min(self.y1, other.y1),\n",
    "            max(self.x2, other.x2),\n",
    "            max(self.y2, other.y2)\n",
    "        )\n",
    "\n",
    "    def intersection(self, other: 'BoundingBox') -> Optional['BoundingBox']:\n",
    "        if not self.intersects(other):\n",
    "            return None\n",
    "\n",
    "        return BoundingBox(\n",
    "            max(self.x1, other.x1),\n",
    "            max(self.y1, other.y1),\n",
    "            min(self.x2, other.x2),\n",
    "            min(self.y2, other.y2)\n",
    "        )\n",
    "\n",
    "    def area(self):\n",
    "        return (self.x2 - self.x1) * (self.y2 - self.y1)\n",
    "\n",
    "    def IoU(self, other: 'BoundingBox'):\n",
    "        if not self.intersects(other):\n",
    "            return 0\n",
    "\n",
    "        inter_area = self.intersection(other).area()\n",
    "\n",
    "        return inter_area / (self.area() + other.area() - inter_area)\n",
    "\n",
    "    def apply_bias(self, xbias, ybias):\n",
    "        return BoundingBox(\n",
    "            self.x1 - xbias,\n",
    "            self.y1 - ybias,\n",
    "            self.x2 + xbias,\n",
    "            self.y2 + ybias\n",
    "        )"
   ]
  },
  {
   "cell_type": "code",
   "execution_count": 4,
   "id": "a573af4a-4bc9-4f53-b62c-db4fb4cdcf7d",
   "metadata": {},
   "outputs": [],
   "source": [
    "def create_bounding_box(row):\n",
    "    return BoundingBox(\n",
    "        row['X 1'],\n",
    "        row['Y 1'],\n",
    "        row['X 2'],\n",
    "        row['Y 2']\n",
    "    )\n",
    "\n",
    "coupon_df_mod = coupon_df.copy()\n",
    "coupon_df_mod['Bounding Box'] = coupon_df_mod.apply(create_bounding_box, axis=1)\n",
    "coupon_df_mod.drop(columns=['X 1', 'Y 1', 'X 2', 'Y 2'], inplace=True)"
   ]
  },
  {
   "cell_type": "code",
   "execution_count": 5,
   "id": "5549a8cb-cfd0-4cc5-b74e-cac6c5e904a0",
   "metadata": {},
   "outputs": [],
   "source": [
    "grouping_columns = ['Application Name', 'Seen Timestamp']\n",
    "grouped_coupon_dfs = [group for _, group in coupon_df_mod.groupby(grouping_columns)]"
   ]
  },
  {
   "cell_type": "code",
   "execution_count": 8,
   "id": "2ba84083-f39e-4920-b763-75c8611db5c3",
   "metadata": {},
   "outputs": [
    {
     "name": "stdout",
     "output_type": "stream",
     "text": [
      "[[1.         0.23828954 0.         0.         0.         0.\n",
      "  0.         0.         0.         0.        ]\n",
      " [0.23828954 1.         0.         0.         0.         0.\n",
      "  0.         0.         0.         0.        ]\n",
      " [0.         0.         1.         0.0516851  0.         0.\n",
      "  0.         0.         0.         0.        ]\n",
      " [0.         0.         0.0516851  1.         0.10298585 0.\n",
      "  0.         0.         0.         0.        ]\n",
      " [0.         0.         0.         0.10298585 1.         0.\n",
      "  0.         0.         0.         0.        ]\n",
      " [0.         0.         0.         0.         0.         1.\n",
      "  0.24856597 0.         0.         0.        ]\n",
      " [0.         0.         0.         0.         0.         0.24856597\n",
      "  1.         0.         0.         0.        ]\n",
      " [0.         0.         0.         0.         0.         0.\n",
      "  0.         1.         0.08890167 0.00341013]\n",
      " [0.         0.         0.         0.         0.         0.\n",
      "  0.         0.08890167 1.         0.17217887]\n",
      " [0.         0.         0.         0.         0.         0.\n",
      "  0.         0.00341013 0.17217887 1.        ]]\n"
     ]
    }
   ],
   "source": [
    "test_df = grouped_coupon_dfs[2]\n",
    "num_rows = test_df.shape[0]\n",
    "dists = np.empty((num_rows, num_rows))\n",
    "xbias = 10\n",
    "ybias = 30\n",
    "\n",
    "for i in range(num_rows):\n",
    "    for j in range(num_rows):\n",
    "        dists[i, j] = test_df['Bounding Box'].iloc[i].apply_bias(xbias, ybias).IoU(test_df['Bounding Box'].iloc[j].apply_bias(xbias, ybias))\n",
    "\n",
    "print(dists)"
   ]
  }
 ],
 "metadata": {
  "kernelspec": {
   "display_name": "Python 3 (ipykernel)",
   "language": "python",
   "name": "python3"
  },
  "language_info": {
   "codemirror_mode": {
    "name": "ipython",
    "version": 3
   },
   "file_extension": ".py",
   "mimetype": "text/x-python",
   "name": "python",
   "nbconvert_exporter": "python",
   "pygments_lexer": "ipython3",
   "version": "3.12.7"
  }
 },
 "nbformat": 4,
 "nbformat_minor": 5
}
