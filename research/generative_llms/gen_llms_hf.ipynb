{
 "cells": [
  {
   "metadata": {},
   "cell_type": "markdown",
   "source": [
    "# Study on generating structured output from local Hugging Face models\n",
    "In this notebook I demonstrate possibility to generate structured output from locally downloaded LLMs as well as show weaknesses of current method for this.\n",
    "#### outlines module\n",
    "python module that enables enforcing constraints on generative models outputs. We will use it to guarantee JSON format of output."
   ],
   "id": "ccd1c4683a9c6bad"
  },
  {
   "metadata": {},
   "cell_type": "markdown",
   "source": "### Dependencies import",
   "id": "8af3d1f1768c9d2f"
  },
  {
   "metadata": {
    "ExecuteTime": {
     "end_time": "2024-11-14T19:16:51.027116Z",
     "start_time": "2024-11-14T19:16:51.023379Z"
    }
   },
   "cell_type": "code",
   "source": [
    "from pydantic import BaseModel, Field, PositiveFloat\n",
    "import outlines\n",
    "import json\n",
    "from huggingface_hub import notebook_login\n",
    "from transformers import pipeline\n",
    "import pandas as pd"
   ],
   "id": "19c51b2c445be085",
   "outputs": [],
   "execution_count": 10
  },
  {
   "metadata": {},
   "cell_type": "markdown",
   "source": "### Hugging Face login",
   "id": "adb4fb3e9a23e2bc"
  },
  {
   "metadata": {
    "ExecuteTime": {
     "end_time": "2024-11-14T14:25:58.447694Z",
     "start_time": "2024-11-14T14:25:58.423941Z"
    }
   },
   "cell_type": "code",
   "source": "notebook_login()",
   "id": "8187943e2c6fe666",
   "outputs": [
    {
     "data": {
      "text/plain": [
       "VBox(children=(HTML(value='<center> <img\\nsrc=https://huggingface.co/front/assets/huggingface_logo-noborder.sv…"
      ],
      "application/vnd.jupyter.widget-view+json": {
       "version_major": 2,
       "version_minor": 0,
       "model_id": "a4b307a8932048f8b2c3b3aa44522bdc"
      }
     },
     "metadata": {},
     "output_type": "display_data"
    }
   ],
   "execution_count": 2
  },
  {
   "metadata": {},
   "cell_type": "markdown",
   "source": "### Simple example of outlines",
   "id": "94cc3a3638885c06"
  },
  {
   "metadata": {
    "ExecuteTime": {
     "end_time": "2024-11-12T21:01:52.929084Z",
     "start_time": "2024-11-12T21:01:37.110034Z"
    }
   },
   "cell_type": "code",
   "source": [
    "# define output structure\n",
    "class CarBrands(BaseModel):\n",
    "    brands: list[str]\n",
    "\n",
    "\n",
    "# download model\n",
    "model = outlines.models.transformers('gpt2')\n",
    "# create generator\n",
    "generator = outlines.generate.json(model, json.dumps(CarBrands.model_json_schema()))\n",
    "# simple use\n",
    "generator(\"Here is list of car brands: \\n Ferrari, Polonez, Fiat\\nJSON format: {'brands': []}\\nHere is list in JSON:\")"
   ],
   "id": "63c8a47843f2e594",
   "outputs": [
    {
     "data": {
      "text/plain": [
       "{'brands': ['cclintte',\n",
       "  'cllintte',\n",
       "  'phamotimete',\n",
       "  'matemetro',\n",
       "  'cccntyte',\n",
       "  'esquimbe',\n",
       "  'estamte',\n",
       "  'travletecredit72',\n",
       "  'esquimbe',\n",
       "  'poissonbeau',\n",
       "  'trumpettes',\n",
       "  'doublestrotchettien',\n",
       "  'tambiquetox',\n",
       "  'neverebeau',\n",
       "  'métal ,brichtte',\n",
       "  'métalcox',\n",
       "  'neverepeufte',\n",
       "  \"emmet's\",\n",
       "  'lourbs',\n",
       "  'miles',\n",
       "  'nixconveurs',\n",
       "  'perenniest',\n",
       "  'mountai',\n",
       "  'zuehusband',\n",
       "  'hevinations',\n",
       "  'screddewaten',\n",
       "  'i hanl8',\n",
       "  'jerelsten',\n",
       "  '300kltmen',\n",
       "  'swike',\n",
       "  'infernim,',\n",
       "  'pals',\n",
       "  'bachelors-menlete',\n",
       "  'firsf/d/']}"
      ]
     },
     "execution_count": 4,
     "metadata": {},
     "output_type": "execute_result"
    }
   ],
   "execution_count": 4
  },
  {
   "metadata": {},
   "cell_type": "markdown",
   "source": "The results are far from perfect but requested JSON structure is preserved. For comparison results from raw gpt2:",
   "id": "e5bfb04f369e7786"
  },
  {
   "metadata": {
    "ExecuteTime": {
     "end_time": "2024-11-12T19:43:52.589114Z",
     "start_time": "2024-11-12T19:43:50.107913Z"
    }
   },
   "cell_type": "code",
   "source": [
    "generator = pipeline(\"text-generation\", model=\"gpt2\")\n",
    "generator(\"Here is list of car brands: \\n Ferrari, Polonez, Fiat\\nJSON format: {'brands': []}\\nHere is list in JSON:\")"
   ],
   "id": "703082af26eec2cf",
   "outputs": [
    {
     "name": "stderr",
     "output_type": "stream",
     "text": [
      "Setting `pad_token_id` to `eos_token_id`:None for open-end generation.\n"
     ]
    },
    {
     "data": {
      "text/plain": [
       "[{'generated_text': 'Here is list of car brands: \\n Ferrari, Polonez, Fiat\\nJSON format: {\\'brands\\': []}\\nHere is list in JSON:\\n\\n{\"brands\": [{\"type\":\"fiat\"}]\\n\\n'}]"
      ]
     },
     "execution_count": 4,
     "metadata": {},
     "output_type": "execute_result"
    }
   ],
   "execution_count": 4
  },
  {
   "metadata": {},
   "cell_type": "markdown",
   "source": [
    "### Attempt on coupon data extraction\n",
    "In the following part I will aim from determining performance of `outlies` driven approach to solving simplified task for extracting coupon data.\n",
    "##### Simplified problem statement\n",
    "* We want to extract only 3 fields for each coupon: `price_old`, `price_new` and `product_name`\n",
    "* We will assume that data given to model will always contain info about exactly one coupon\n",
    "* We will test different forms of input data, starting from raw csv as in original solution, through csv with excluded columns and csv encoded into json to only 'Text' fields extracted"
   ],
   "id": "e742f1174616c1d9"
  },
  {
   "metadata": {
    "ExecuteTime": {
     "end_time": "2024-11-14T16:10:26.347487Z",
     "start_time": "2024-11-14T16:10:26.241326Z"
    }
   },
   "cell_type": "code",
   "source": [
    "class Coupon(BaseModel):\n",
    "  product_name: str\n",
    "  old_price: PositiveFloat\n",
    "  new_price: PositiveFloat"
   ],
   "id": "1b3a9aa2f1191f71",
   "outputs": [],
   "execution_count": 4
  },
  {
   "metadata": {},
   "cell_type": "markdown",
   "source": "#### Define single coupon row ranges",
   "id": "4c5ae30f3c0acee1"
  },
  {
   "metadata": {
    "ExecuteTime": {
     "end_time": "2024-11-14T16:10:28.021233Z",
     "start_time": "2024-11-14T16:10:27.998556Z"
    }
   },
   "cell_type": "code",
   "source": [
    "frame = pd.read_csv('ds/18789327023.csv')\n",
    "coupons = {\n",
    "    \"1\": (2, 7),\n",
    "    \"2\": (7, 12),\n",
    "    \"3\": (12, 17)\n",
    "}"
   ],
   "id": "57234ca2b2176d63",
   "outputs": [],
   "execution_count": 5
  },
  {
   "metadata": {},
   "cell_type": "markdown",
   "source": [
    "#### Model download\n",
    "I used here Llama model which is available only after making special request. I got answer to my request within 24h."
   ],
   "id": "6a2bd0206f89630f"
  },
  {
   "metadata": {
    "ExecuteTime": {
     "end_time": "2024-11-14T16:10:38.113317Z",
     "start_time": "2024-11-14T16:10:29.559562Z"
    }
   },
   "cell_type": "code",
   "source": [
    "model = outlines.models.transformers('meta-llama/Llama-3.2-1B')\n",
    "generator = outlines.generate.json(model, json.dumps(Coupon.model_json_schema()))"
   ],
   "id": "a9c32c4d38ebe28f",
   "outputs": [],
   "execution_count": 6
  },
  {
   "metadata": {
    "ExecuteTime": {
     "end_time": "2024-11-14T16:10:38.154584Z",
     "start_time": "2024-11-14T16:10:38.149563Z"
    }
   },
   "cell_type": "code",
   "source": "inputs = {}",
   "id": "d3d1fa1f54ada81e",
   "outputs": [],
   "execution_count": 7
  },
  {
   "metadata": {
    "ExecuteTime": {
     "end_time": "2024-11-14T16:10:49.863931Z",
     "start_time": "2024-11-14T16:10:49.858067Z"
    }
   },
   "cell_type": "code",
   "source": [
    "def frame_to_json(df: pd.DataFrame, list_name: str = 'rows') -> dict:\n",
    "    res = {\n",
    "        list_name: []\n",
    "    }\n",
    "    for ix, row in df.iterrows():\n",
    "        obj  = {}\n",
    "        for col in df.columns:\n",
    "            obj[col] = row[col]\n",
    "        res[list_name].append(obj)\n",
    "    return res"
   ],
   "id": "591e6827ca797d98",
   "outputs": [],
   "execution_count": 8
  },
  {
   "metadata": {
    "ExecuteTime": {
     "end_time": "2024-11-14T16:10:51.395186Z",
     "start_time": "2024-11-14T16:10:51.365716Z"
    }
   },
   "cell_type": "code",
   "source": [
    "REDUCED_COLUMNS = [\"Text\", \"X 1\", \"Y 1\", \"X 2\", \"Y 2\"]\n",
    "\n",
    "inputs[\"raw_csv\"] = {k: frame[v[0]:v[1]].to_csv() for k, v in coupons.items()}\n",
    "inputs[\"reduced_csv\"] = {k: frame[REDUCED_COLUMNS][v[0]:v[1]].to_csv() for k, v in coupons.items()}\n",
    "inputs[\"json_encoded\"] = {k: json.dumps(frame_to_json(frame[REDUCED_COLUMNS][v[0]:v[1]])) for k, v in coupons.items()}\n",
    "inputs[\"only_text\"] = {k: '\\n'.join(frame['Text'][v[0]:v[1]].to_list()) for k, v in coupons.items()}"
   ],
   "id": "365e028edb436e97",
   "outputs": [],
   "execution_count": 9
  },
  {
   "metadata": {
    "ExecuteTime": {
     "end_time": "2024-11-14T16:10:52.212772Z",
     "start_time": "2024-11-14T16:10:52.207023Z"
    }
   },
   "cell_type": "code",
   "source": "inputs[\"only_text\"]",
   "id": "1955cccb50bcc498",
   "outputs": [
    {
     "data": {
      "text/plain": [
       "{'1': 'UVP 1.79\\n1.29\\nUVP\\nRAUCH Eistee\\nje 1,5 I',\n",
       " '2': 'UVP 0.99\\n0.69\\nUVP\\nLIPTON Ice Tea\\nje 0,33 I',\n",
       " '3': 'UVP 1.49\\n1.19\\nUVP\\nHOHES C Water\\nje 0,75 I'}"
      ]
     },
     "execution_count": 10,
     "metadata": {},
     "output_type": "execute_result"
    }
   ],
   "execution_count": 10
  },
  {
   "metadata": {},
   "cell_type": "markdown",
   "source": [
    "#### Prompt proposals\n",
    "Here I test performance of different prompts"
   ],
   "id": "d82014374feb9fa1"
  },
  {
   "metadata": {
    "ExecuteTime": {
     "end_time": "2024-11-14T19:17:05.899880Z",
     "start_time": "2024-11-14T19:17:05.897512Z"
    }
   },
   "cell_type": "code",
   "source": [
    "# prompt in form of direct command\n",
    "prompt_1 = \"\"\"\n",
    "Your task is to extract info about discount coupon. You are given texts that user sees on smartphone screen in format: 'Text', 'X 1', 'X 2', 'Y 1', 'Y 2'. 'Text' field usually contains most useful infos. Provide me following data about given coupon: product_name: name of discounted product, old_price: price before discount, new_price: price after discount. Note that in input Text fields might be in wrong order. The results should be put inside JSON. Here is input:\\n\\n {}\n",
    "\"\"\"\n",
    "# prompts that aims to trick model into completing sequence\n",
    "prompt_2 = \"\"\"\n",
    "Here is text representation of what user sees on smartphone screen: \\n{}\\nThis data contains info about single discount coupon visible on screen. Most of this data lies in 'Text' fields.\\n Here is JSON with extracted info about this coupon. JSON contains discounted product name, old price and new price. JSON:\\n \n",
    "\"\"\"\n",
    "# direct command, shorter\n",
    "prompt_3 = \"\"\"\n",
    "Here is data about coupon from smartphone screen: \\n{}\\n extract info about it and and put inside json.\\n  \n",
    "\"\"\"\n",
    "# 'tricky' prompt, shorter\n",
    "prompt_4 = \"\"\"\n",
    "Here is data from smartphone screen with info about discount coupon:\\n{}\\n. Here is the same info, but extracted in JSON:\\n\n",
    "\"\"\"\n",
    "prompts = [prompt_1, prompt_2, prompt_3, prompt_4]"
   ],
   "id": "fc35899acad9fcdf",
   "outputs": [],
   "execution_count": 11
  },
  {
   "metadata": {
    "ExecuteTime": {
     "end_time": "2024-11-14T19:23:52.287431Z",
     "start_time": "2024-11-14T19:17:19.387114Z"
    }
   },
   "cell_type": "code",
   "source": [
    "for input_fmt in inputs:\n",
    "    for i, prompt in enumerate(prompts, start=1):\n",
    "        print(f\"\\n{input_fmt=}, prompt_{i}\")\n",
    "        for k in coupons.keys():\n",
    "            print(f\"\\tcoupon {k}\")\n",
    "            print('\\t', generator(prompt.format(inputs[input_fmt][k])))"
   ],
   "id": "1f33e9e51541c920",
   "outputs": [
    {
     "name": "stdout",
     "output_type": "stream",
     "text": [
      "\n",
      "input_fmt='raw_csv', prompt_1\n",
      "\tcoupon 1\n",
      "\t {'product_name': 'je 1,5 I', 'old_price': 11.47, 'new_price': 7.75}\n",
      "\tcoupon 2\n",
      "\t {'product_name': 'je 0,33 I', 'old_price': 219.99, 'new_price': 161.99}\n",
      "\tcoupon 3\n",
      "\t {'product_name': 'je 0,75 I', 'old_price': 8.99, 'new_price': 7.99}\n",
      "\n",
      "input_fmt='raw_csv', prompt_2\n",
      "\tcoupon 1\n",
      "\t {'product_name': 'je 1,5 I', 'old_price': 100, 'new_price': 30.05}\n",
      "\tcoupon 2\n",
      "\t {'product_name': 'ANIKO ULTRA-CINKURENT, AMOLUSHI', 'old_price': 59.88, 'new_price': 39.99}\n",
      "\tcoupon 3\n",
      "\t {'product_name': '1.19', 'old_price': 8720.0, 'new_price': 1920.0}\n",
      "\n",
      "input_fmt='raw_csv', prompt_3\n",
      "\tcoupon 1\n",
      "\t {'product_name': 'UVP 1.79', 'old_price': 1.79, 'new_price': 1.79}\n",
      "\tcoupon 2\n",
      "\t {'product_name': 'URUUsP15r9tqk', 'old_price': 60, 'new_price': 30.99}\n",
      "\tcoupon 3\n",
      "\t {'product_name': 'Water (75 ml)', 'old_price': 0, 'new_price': 0.75}\n",
      "\n",
      "input_fmt='raw_csv', prompt_4\n",
      "\tcoupon 1\n",
      "\t {'product_name': 'Benfotiamine', 'old_price': 79.5, 'new_price': 49.7}\n",
      "\tcoupon 2\n",
      "\t {'product_name': 'de.penny.app.purchase', 'old_price': 12.99, 'new_price': 0.99}\n",
      "\tcoupon 3\n",
      "\t {'product_name': 'UVP 1.49', 'old_price': 0, 'new_price': 1.49}\n",
      "\n",
      "input_fmt='reduced_csv', prompt_1\n",
      "\tcoupon 1\n",
      "\t {'product_name': 'UVP 1.79', 'old_price': 355, 'new_price': 494}\n",
      "\tcoupon 2\n",
      "\t {'product_name': 'UVP', 'old_price': 855, 'new_price': 637.65}\n",
      "\tcoupon 3\n",
      "\t {'product_name': 'UVP', 'old_price': 3550, 'new_price': 1487.2}\n",
      "\n",
      "input_fmt='reduced_csv', prompt_2\n",
      "\tcoupon 1\n",
      "\t {'product_name': 'je 1,5 I', 'old_price': 69, 'new_price': 69.8}\n",
      "\tcoupon 2\n",
      "\t {'product_name': 'LIPTON Ice Tea', 'old_price': 11994, 'new_price': 10889.99}\n",
      "\tcoupon 3\n",
      "\t {'product_name': 'a', 'old_price': 3.49, 'new_price': 1.49}\n",
      "\n",
      "input_fmt='reduced_csv', prompt_3\n",
      "\tcoupon 1\n",
      "\t {'product_name': 'UVP', 'old_price': 1.79, 'new_price': 1.79}\n",
      "\tcoupon 2\n",
      "\t {'product_name': 'Skim Coat Oil', 'old_price': 0.7, 'new_price': 0.69}\n",
      "\tcoupon 3\n",
      "\t {'product_name': 'USD 69.00', 'old_price': 69.0, 'new_price': 69.0}\n",
      "\n",
      "input_fmt='reduced_csv', prompt_4\n",
      "\tcoupon 1\n",
      "\t {'product_name': 'RAUCH Eistee', 'old_price': 60.0, 'new_price': 49.0}\n",
      "\tcoupon 2\n",
      "\t {'product_name': 'Unilever Nivea Sun Flawless Finish Body Lotion at 35ml (50g) oz Petrol 0.51loh (Grunny)', 'old_price': 7861.53, 'new_price': 7.99}\n",
      "\tcoupon 3\n",
      "\t {'product_name': 'HOHES C WATER', 'old_price': 69, 'new_price': 69.49}\n",
      "\n",
      "input_fmt='json_encoded', prompt_1\n",
      "\tcoupon 1\n",
      "\t {'product_name': 'UVP', 'old_price': 1.29, 'new_price': 1.29}\n",
      "\tcoupon 2\n",
      "\t {'product_name': 'IPTON ICE TEA Flavor Lěstés Soup Art Collez le chocol Bill Fitzgerald Pug', 'old_price': 859, 'new_price': 696.98}\n",
      "\tcoupon 3\n",
      "\t {'product_name': 'X 1', 'old_price': 355, 'new_price': 1487}\n",
      "\n",
      "input_fmt='json_encoded', prompt_2\n",
      "\tcoupon 1\n",
      "\t {'product_name': 'UVP 1.79', 'old_price': 1.79, 'new_price': 1.29}\n",
      "\tcoupon 2\n",
      "\t {'product_name': 'UVP', 'old_price': 1.99, 'new_price': 0.99}\n",
      "\tcoupon 3\n",
      "\t {'product_name': 'UVP Prolen MET M0U108045 B', 'old_price': 254.5, 'new_price': 183.3}\n",
      "\n",
      "input_fmt='json_encoded', prompt_3\n",
      "\tcoupon 1\n",
      "\t {'product_name': 'BADASS Optimization T-Shirt, Flipchart', 'old_price': 50.0, 'new_price': 30.0}\n",
      "\tcoupon 2\n",
      "\t {'product_name': 'UVP 0.99', 'old_price': 149.99, 'new_price': 49.99}\n",
      "\tcoupon 3\n",
      "\t {'product_name': 'UVP', 'old_price': 1.49, 'new_price': 1.19}\n",
      "\n",
      "input_fmt='json_encoded', prompt_4\n",
      "\tcoupon 1\n",
      "\t {'product_name': 'UVP 1.79', 'old_price': 1.19, 'new_price': 0.79}\n",
      "\tcoupon 2\n",
      "\t {'product_name': 'UVP 0,69', 'old_price': 0.99, 'new_price': 0.69}\n",
      "\tcoupon 3\n",
      "\t {'product_name': 'UVP', 'old_price': 1.19, 'new_price': 1.49}\n",
      "\n",
      "input_fmt='only_text', prompt_1\n",
      "\tcoupon 1\n",
      "\t {'product_name': 'UVP', 'old_price': 1.79, 'new_price': 1.29}\n",
      "\tcoupon 2\n",
      "\t {'product_name': 'Lipton Ice Tea', 'old_price': 2.99, 'new_price': 0.69}\n",
      "\tcoupon 3\n",
      "\t {'product_name': 'UVP', 'old_price': 1.49, 'new_price': 1.19}\n",
      "\n",
      "input_fmt='only_text', prompt_2\n",
      "\tcoupon 1\n",
      "\t {'product_name': 'UVP', 'old_price': 140.0, 'new_price': 65.0}\n",
      "\tcoupon 2\n",
      "\t {'product_name': 'LIPTON Ice Tea', 'old_price': 2.99, 'new_price': 2.49}\n",
      "\tcoupon 3\n",
      "\t {'product_name': 'HOHES-C Water', 'old_price': 1299, 'new_price': 4299.4}\n",
      "\n",
      "input_fmt='only_text', prompt_3\n",
      "\tcoupon 1\n",
      "\t {'product_name': 'UVP 1.79', 'old_price': 1.29, 'new_price': 1.79}\n",
      "\tcoupon 2\n",
      "\t {'product_name': 'UVP 0.99', 'old_price': 0.69, 'new_price': 0.29}\n",
      "\tcoupon 3\n",
      "\t {'product_name': 'uvp 1.44', 'old_price': 4, 'new_price': 1.44}\n",
      "\n",
      "input_fmt='only_text', prompt_4\n",
      "\tcoupon 1\n",
      "\t {'product_name': 'BARLY EXPERT ILLOES ORIGINAL EISTE (4/7X14) 104 X 15 LIMIEILE (C) PONSIO', 'old_price': 1.79, 'new_price': 1.29}\n",
      "\tcoupon 2\n",
      "\t {'product_name': 'UVP 0.99', 'old_price': 1.2, 'new_price': 0.99}\n",
      "\tcoupon 3\n",
      "\t {'product_name': 'UVP 1.49', 'old_price': 1.19, 'new_price': 1.49}\n"
     ]
    }
   ],
   "execution_count": 12
  },
  {
   "metadata": {
    "ExecuteTime": {
     "end_time": "2024-11-14T19:42:18.902643Z",
     "start_time": "2024-11-14T19:42:18.900241Z"
    }
   },
   "cell_type": "code",
   "source": [
    "# try again with evolution of prompt_4 and some experiments and only 2 last input formats\n",
    "# 'tricky' prompt, shorter\n",
    "prompt_5 = \"\"\"\n",
    "This is data from screen with info (like price and product name) about discount coupon:\\n{}\\n. Here extracted info, in form of JSON:\\n\n",
    "\"\"\"\n",
    "prompt_6 = \"\"\"\n",
    "Consider the following data about discount coupon: \\n\\n{}\\n\\n This is JSON with extracted info about this coupon.:\\n\n",
    "\"\"\"\n",
    "\n",
    "prompt_7 = \"\"\"\n",
    "Here is data from mobile_app containing discount coupon that needs to be converted to JSON:\\n {} \\n Here is output JSON:\\n\n",
    "\"\"\"\n",
    "prompts += [prompt_5, prompt_6, prompt_7]"
   ],
   "id": "f94509dde7c63079",
   "outputs": [],
   "execution_count": 15
  },
  {
   "metadata": {
    "ExecuteTime": {
     "end_time": "2024-11-14T19:45:09.705333Z",
     "start_time": "2024-11-14T19:43:14.370454Z"
    }
   },
   "cell_type": "code",
   "source": [
    "for input_fmt in [\"only_text\", \"json_encoded\"]:\n",
    "    for i, prompt in enumerate(prompts, start=1):\n",
    "        if i < 5:\n",
    "            continue\n",
    "        print(f\"\\n{input_fmt=}, prompt_{i}\")\n",
    "        for k in coupons.keys():\n",
    "            print(f\"\\tcoupon {k}\")\n",
    "            print('\\t', generator(prompt.format(inputs[input_fmt][k])))"
   ],
   "id": "ea3cc93ad299d0c",
   "outputs": [
    {
     "name": "stdout",
     "output_type": "stream",
     "text": [
      "\n",
      "input_fmt='only_text', prompt_5\n",
      "\tcoupon 1\n",
      "\t {'product_name': 'JegetELLI 1,5 I', 'old_price': 1.5, 'new_price': 1.29}\n",
      "\tcoupon 2\n",
      "\t {'product_name': 'LIPTON Ice Tea', 'old_price': 15.99, 'new_price': 7.99}\n",
      "\tcoupon 3\n",
      "\t {'product_name': 'UVP 1.49', 'old_price': 1.69, 'new_price': 1.19}\n",
      "\n",
      "input_fmt='only_text', prompt_6\n",
      "\tcoupon 1\n",
      "\t {'product_name': 'RAUCH Eistee', 'old_price': 1.5, 'new_price': 1.29}\n",
      "\tcoupon 2\n",
      "\t {'product_name': 'LIPTON Ice Tea', 'old_price': 0.69, 'new_price': 0.33}\n",
      "\tcoupon 3\n",
      "\t {'product_name': 'Water', 'old_price': 1.19, 'new_price': 0.75}\n",
      "\n",
      "input_fmt='only_text', prompt_7\n",
      "\tcoupon 1\n",
      "\t {'product_name': 'RAUCH Eistee', 'old_price': 1.5, 'new_price': 1.29}\n",
      "\tcoupon 2\n",
      "\t {'product_name': 'keex', 'old_price': 0.69, 'new_price': 0.99}\n",
      "\tcoupon 3\n",
      "\t {'product_name': 'je 0,75 I', 'old_price': 0, 'new_price': 0.8}\n",
      "\n",
      "input_fmt='json_encoded', prompt_5\n",
      "\tcoupon 1\n",
      "\t {'product_name': 'UVP 1.79', 'old_price': 0, 'new_price': 0.0}\n",
      "\tcoupon 2\n",
      "\t {'product_name': 'Icingwa', 'old_price': 855.6, 'new_price': 0.99}\n",
      "\tcoupon 3\n",
      "\t {'product_name': 'UVP', 'old_price': 1.49, 'new_price': 1.19}\n",
      "\n",
      "input_fmt='json_encoded', prompt_6\n",
      "\tcoupon 1\n",
      "\t {'product_name': 'UVP 1.79', 'old_price': 355, 'new_price': 169.99}\n",
      "\tcoupon 2\n",
      "\t {'product_name': 'UVP', 'old_price': 0.99, 'new_price': 0.49}\n",
      "\tcoupon 3\n",
      "\t {'product_name': 'UVP Coupon', 'old_price': 355, 'new_price': 149.9}\n",
      "\n",
      "input_fmt='json_encoded', prompt_7\n",
      "\tcoupon 1\n",
      "\t {'product_name': 'UVP', 'old_price': 1.79, 'new_price': 0.99}\n",
      "\tcoupon 2\n",
      "\t {'product_name': 'UVP 0.99', 'old_price': 0, 'new_price': 0.99}\n",
      "\tcoupon 3\n",
      "\t {'product_name': 'UVP', 'old_price': 2.59, 'new_price': 1.49}\n"
     ]
    }
   ],
   "execution_count": 16
  },
  {
   "metadata": {},
   "cell_type": "markdown",
   "source": [
    "# Final prompt proposition\n",
    "testing only on 'only text' input format as it was most effective one in previous experiments"
   ],
   "id": "8a78f6f534deba74"
  },
  {
   "metadata": {
    "ExecuteTime": {
     "end_time": "2024-11-14T19:58:34.151048Z",
     "start_time": "2024-11-14T19:58:12.253118Z"
    }
   },
   "cell_type": "code",
   "source": [
    "prompt = \"\"\"\n",
    "This is input from screen with info (old price, new price and product name) about discount coupon/ticket:\\n{}\\n. Here extracted info, in form of JSON:\\n\n",
    "\"\"\"\n",
    "for k in coupons.keys():\n",
    "    print(f\"\\tcoupon {k}\")\n",
    "    print('\\t', generator(prompt.format(inputs['only_text'][k])))"
   ],
   "id": "745c8e35df47b399",
   "outputs": [
    {
     "name": "stdout",
     "output_type": "stream",
     "text": [
      "\tcoupon 1\n",
      "\t {'product_name': 'UVP 1.79', 'old_price': 1.79, 'new_price': 1.29}\n",
      "\tcoupon 2\n",
      "\t {'product_name': 'LIPTON Ice Tea', 'old_price': 0.69, 'new_price': 0.99}\n",
      "\tcoupon 3\n",
      "\t {'product_name': 'HOHES C Water', 'old_price': 1.49, 'new_price': 1.19}\n"
     ]
    }
   ],
   "execution_count": 25
  },
  {
   "metadata": {},
   "cell_type": "markdown",
   "source": [
    "## Summary\n",
    "* after some prompt engineering it looks like it is possible to achieve some results on 1B order of magnitude model on extensively preprocessed input\n",
    "* reliable solution would require fine-tuning the model or rethinking overall approach\n",
    "* maybe using some tricks like taking most frequent answer from several predictions would be good "
   ],
   "id": "443a5f1c8d98dfde"
  },
  {
   "metadata": {},
   "cell_type": "markdown",
   "source": [
    "## Abandoned Ideas\n",
    "* LangChain library provides nice support for structured output for llms but this feature is not implemented for huggingface port\n"
   ],
   "id": "ae384cbccd5e32c3"
  }
 ],
 "metadata": {
  "kernelspec": {
   "display_name": "Python 3",
   "language": "python",
   "name": "python3"
  },
  "language_info": {
   "codemirror_mode": {
    "name": "ipython",
    "version": 2
   },
   "file_extension": ".py",
   "mimetype": "text/x-python",
   "name": "python",
   "nbconvert_exporter": "python",
   "pygments_lexer": "ipython2",
   "version": "2.7.6"
  }
 },
 "nbformat": 4,
 "nbformat_minor": 5
}
