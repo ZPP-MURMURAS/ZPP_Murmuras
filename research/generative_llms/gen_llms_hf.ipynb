{
 "cells": [
  {
   "metadata": {},
   "cell_type": "markdown",
   "source": [
    "# Study on generating structured output from local Hugging Face models\n",
    "In this notebook I demonstrate possibility to generate structured output from locally downloaded LLMs as well as show weaknesses of current method for this.\n",
    "#### outlines module\n",
    "python module that enables enforcing constraints on generative models outputs. We will use it to guarantee JSON format of output."
   ],
   "id": "ccd1c4683a9c6bad"
  },
  {
   "metadata": {},
   "cell_type": "markdown",
   "source": "### Dependencies import",
   "id": "8af3d1f1768c9d2f"
  },
  {
   "metadata": {
    "ExecuteTime": {
     "end_time": "2024-11-12T21:01:32.649946Z",
     "start_time": "2024-11-12T21:01:31.047211Z"
    }
   },
   "cell_type": "code",
   "source": [
    "from pydantic import BaseModel, Field, PositiveFloat\n",
    "import outlines\n",
    "import json\n",
    "from huggingface_hub import notebook_login\n",
    "from transformers import pipeline\n",
    "import pandas as pd"
   ],
   "id": "19c51b2c445be085",
   "outputs": [],
   "execution_count": 3
  },
  {
   "metadata": {},
   "cell_type": "markdown",
   "source": "### Hugging Face login",
   "id": "adb4fb3e9a23e2bc"
  },
  {
   "metadata": {
    "ExecuteTime": {
     "end_time": "2024-11-12T19:43:16.277432Z",
     "start_time": "2024-11-12T19:43:16.244018Z"
    }
   },
   "cell_type": "code",
   "source": "notebook_login()",
   "id": "8187943e2c6fe666",
   "outputs": [
    {
     "data": {
      "text/plain": [
       "VBox(children=(HTML(value='<center> <img\\nsrc=https://huggingface.co/front/assets/huggingface_logo-noborder.sv…"
      ],
      "application/vnd.jupyter.widget-view+json": {
       "version_major": 2,
       "version_minor": 0,
       "model_id": "017564f3636a40c5801fcceea6457038"
      }
     },
     "metadata": {},
     "output_type": "display_data"
    }
   ],
   "execution_count": 2
  },
  {
   "metadata": {},
   "cell_type": "markdown",
   "source": "### Simple example of outlines",
   "id": "94cc3a3638885c06"
  },
  {
   "metadata": {
    "ExecuteTime": {
     "end_time": "2024-11-12T21:01:52.929084Z",
     "start_time": "2024-11-12T21:01:37.110034Z"
    }
   },
   "cell_type": "code",
   "source": [
    "# define output structure\n",
    "class CarBrands(BaseModel):\n",
    "    brands: list[str]\n",
    "\n",
    "\n",
    "# download model\n",
    "model = outlines.models.transformers('gpt2')\n",
    "# create generator\n",
    "generator = outlines.generate.json(model, json.dumps(CarBrands.model_json_schema()))\n",
    "# simple use\n",
    "generator(\"Here is list of car brands: \\n Ferrari, Polonez, Fiat\\nJSON format: {'brands': []}\\nHere is list in JSON:\")"
   ],
   "id": "63c8a47843f2e594",
   "outputs": [
    {
     "data": {
      "text/plain": [
       "{'brands': ['cclintte',\n",
       "  'cllintte',\n",
       "  'phamotimete',\n",
       "  'matemetro',\n",
       "  'cccntyte',\n",
       "  'esquimbe',\n",
       "  'estamte',\n",
       "  'travletecredit72',\n",
       "  'esquimbe',\n",
       "  'poissonbeau',\n",
       "  'trumpettes',\n",
       "  'doublestrotchettien',\n",
       "  'tambiquetox',\n",
       "  'neverebeau',\n",
       "  'métal ,brichtte',\n",
       "  'métalcox',\n",
       "  'neverepeufte',\n",
       "  \"emmet's\",\n",
       "  'lourbs',\n",
       "  'miles',\n",
       "  'nixconveurs',\n",
       "  'perenniest',\n",
       "  'mountai',\n",
       "  'zuehusband',\n",
       "  'hevinations',\n",
       "  'screddewaten',\n",
       "  'i hanl8',\n",
       "  'jerelsten',\n",
       "  '300kltmen',\n",
       "  'swike',\n",
       "  'infernim,',\n",
       "  'pals',\n",
       "  'bachelors-menlete',\n",
       "  'firsf/d/']}"
      ]
     },
     "execution_count": 4,
     "metadata": {},
     "output_type": "execute_result"
    }
   ],
   "execution_count": 4
  },
  {
   "metadata": {},
   "cell_type": "markdown",
   "source": "The results are far from perfect but requested JSON structure is preserved. For comparison results from raw gpt2:",
   "id": "e5bfb04f369e7786"
  },
  {
   "metadata": {
    "ExecuteTime": {
     "end_time": "2024-11-12T19:43:52.589114Z",
     "start_time": "2024-11-12T19:43:50.107913Z"
    }
   },
   "cell_type": "code",
   "source": [
    "generator = pipeline(\"text-generation\", model=\"gpt2\")\n",
    "generator(\"Here is list of car brands: \\n Ferrari, Polonez, Fiat\\nJSON format: {'brands': []}\\nHere is list in JSON:\")"
   ],
   "id": "703082af26eec2cf",
   "outputs": [
    {
     "name": "stderr",
     "output_type": "stream",
     "text": [
      "Setting `pad_token_id` to `eos_token_id`:None for open-end generation.\n"
     ]
    },
    {
     "data": {
      "text/plain": [
       "[{'generated_text': 'Here is list of car brands: \\n Ferrari, Polonez, Fiat\\nJSON format: {\\'brands\\': []}\\nHere is list in JSON:\\n\\n{\"brands\": [{\"type\":\"fiat\"}]\\n\\n'}]"
      ]
     },
     "execution_count": 4,
     "metadata": {},
     "output_type": "execute_result"
    }
   ],
   "execution_count": 4
  },
  {
   "metadata": {},
   "cell_type": "markdown",
   "source": [
    "### Attempt on coupon data extraction\n",
    "In the following part I will aim from determining performance of `outlies` driven approach to solving simplified task for extracting coupon data.\n",
    "##### Simplified problem statement\n",
    "* We want to extract only 3 fields for each coupon: `price_old`, `price_new` and `product_name`\n",
    "* We will assume that data given to model will always contain info about exactly one coupon\n",
    "* We will test different forms of input data, starting from raw csv as in original solution, through csv with excluded columns and csv encoded into json to only 'Text' fields extracted"
   ],
   "id": "e742f1174616c1d9"
  },
  {
   "metadata": {
    "ExecuteTime": {
     "end_time": "2024-11-12T19:44:17.679603Z",
     "start_time": "2024-11-12T19:44:17.671703Z"
    }
   },
   "cell_type": "code",
   "source": [
    "class Coupon(BaseModel):\n",
    "  product_name: str\n",
    "  old_price: PositiveFloat\n",
    "  new_price: PositiveFloat"
   ],
   "id": "1b3a9aa2f1191f71",
   "outputs": [],
   "execution_count": 5
  },
  {
   "metadata": {},
   "cell_type": "markdown",
   "source": "#### Define single coupon row ranges",
   "id": "4c5ae30f3c0acee1"
  },
  {
   "metadata": {
    "ExecuteTime": {
     "end_time": "2024-11-12T19:44:29.766333Z",
     "start_time": "2024-11-12T19:44:29.752931Z"
    }
   },
   "cell_type": "code",
   "source": [
    "frame = pd.read_csv('ds/18789327023.csv')\n",
    "coupons = {\n",
    "    \"1\": (2, 7),\n",
    "    \"2\": (7, 12),\n",
    "    \"3\": (12, 17)\n",
    "}"
   ],
   "id": "57234ca2b2176d63",
   "outputs": [],
   "execution_count": 6
  },
  {
   "metadata": {},
   "cell_type": "markdown",
   "source": [
    "#### Model download\n",
    "I used here Llama model which is available only after making special request. I got answer to my request within 24h."
   ],
   "id": "6a2bd0206f89630f"
  },
  {
   "metadata": {
    "ExecuteTime": {
     "end_time": "2024-11-12T19:44:49.887609Z",
     "start_time": "2024-11-12T19:44:36.191795Z"
    }
   },
   "cell_type": "code",
   "source": [
    "model = outlines.models.transformers('meta-llama/Llama-3.2-1B')\n",
    "generator = outlines.generate.json(model, json.dumps(Coupon.model_json_schema()))"
   ],
   "id": "a9c32c4d38ebe28f",
   "outputs": [],
   "execution_count": 7
  },
  {
   "metadata": {
    "ExecuteTime": {
     "end_time": "2024-11-12T19:44:53.012305Z",
     "start_time": "2024-11-12T19:44:53.008198Z"
    }
   },
   "cell_type": "code",
   "source": "inputs = {}",
   "id": "d3d1fa1f54ada81e",
   "outputs": [],
   "execution_count": 8
  },
  {
   "metadata": {
    "ExecuteTime": {
     "end_time": "2024-11-12T19:44:53.816821Z",
     "start_time": "2024-11-12T19:44:53.811733Z"
    }
   },
   "cell_type": "code",
   "source": [
    "def frame_to_json(df: pd.DataFrame, list_name: str = 'rows') -> dict:\n",
    "    res = {\n",
    "        list_name: []\n",
    "    }\n",
    "    for ix, row in df.iterrows():\n",
    "        obj  = {}\n",
    "        for col in df.columns:\n",
    "            obj[col] = row[col]\n",
    "        res[list_name].append(obj)\n",
    "    return res"
   ],
   "id": "591e6827ca797d98",
   "outputs": [],
   "execution_count": 9
  },
  {
   "metadata": {
    "ExecuteTime": {
     "end_time": "2024-11-12T19:44:54.669016Z",
     "start_time": "2024-11-12T19:44:54.641098Z"
    }
   },
   "cell_type": "code",
   "source": [
    "REDUCED_COLUMNS = [\"Text\", \"X 1\", \"Y 1\", \"X 2\", \"Y 2\"]\n",
    "\n",
    "inputs[\"raw_csv\"] = {k: frame[v[0]:v[1]].to_csv() for k, v in coupons.items()}\n",
    "inputs[\"reduced_csv\"] = {k: frame[REDUCED_COLUMNS][v[0]:v[1]].to_csv() for k, v in coupons.items()}\n",
    "inputs[\"json_encoded\"] = {k: json.dumps(frame_to_json(frame[REDUCED_COLUMNS][v[0]:v[1]])) for k, v in coupons.items()}\n",
    "inputs[\"only_text\"] = {k: '\\n'.join(frame['Text'][v[0]:v[1]].to_list()) for k, v in coupons.items()}"
   ],
   "id": "365e028edb436e97",
   "outputs": [],
   "execution_count": 10
  },
  {
   "metadata": {
    "ExecuteTime": {
     "end_time": "2024-11-12T19:44:55.388905Z",
     "start_time": "2024-11-12T19:44:55.382129Z"
    }
   },
   "cell_type": "code",
   "source": "inputs[\"only_text\"]",
   "id": "1955cccb50bcc498",
   "outputs": [
    {
     "data": {
      "text/plain": [
       "{'1': 'UVP 1.79\\n1.29\\nUVP\\nRAUCH Eistee\\nje 1,5 I',\n",
       " '2': 'UVP 0.99\\n0.69\\nUVP\\nLIPTON Ice Tea\\nje 0,33 I',\n",
       " '3': 'UVP 1.49\\n1.19\\nUVP\\nHOHES C Water\\nje 0,75 I'}"
      ]
     },
     "execution_count": 11,
     "metadata": {},
     "output_type": "execute_result"
    }
   ],
   "execution_count": 11
  },
  {
   "metadata": {},
   "cell_type": "markdown",
   "source": [
    "#### Prompt proposals\n",
    "Here I test performance of different prompts"
   ],
   "id": "d82014374feb9fa1"
  },
  {
   "metadata": {
    "ExecuteTime": {
     "end_time": "2024-11-12T19:45:00.431539Z",
     "start_time": "2024-11-12T19:45:00.426639Z"
    }
   },
   "cell_type": "code",
   "source": [
    "# prompt in form of direct command\n",
    "prompt_1 = \"\"\"\n",
    "Your task is to extract info about discount coupon. You are given texts that user sees on smartphone screen in format: 'Text', 'X 1', 'X 2', 'Y 1', 'Y 2'. 'Text' field usually contains most useful infos. Provide me following data about given coupon: product_name: name of discounted product, old_price: price before discount, new_price: price after discount. Note that in input Text fields might be in wrong order. The results should be put inside JSON. Here is input:\\n\\n {}\n",
    "\"\"\"\n",
    "# prompts that aims to trick model into completing sequence\n",
    "prompt_2 = \"\"\"\n",
    "Here is text representation of what user sees on smartphone screen: \\n{}\\nThis data contains info about single discount coupon visible on screen. Most of this data lies in 'Text' fields.\\n Here is JSON with extracted info about this coupon. JSON contains discounted product name, old price and new price. JSON:\\n \n",
    "\"\"\"\n",
    "prompts = [prompt_1, prompt_2]"
   ],
   "id": "fc35899acad9fcdf",
   "outputs": [],
   "execution_count": 12
  },
  {
   "metadata": {
    "ExecuteTime": {
     "end_time": "2024-11-12T19:51:04.205665Z",
     "start_time": "2024-11-12T19:45:01.786532Z"
    }
   },
   "cell_type": "code",
   "source": [
    "for input_fmt in inputs:\n",
    "    for i, prompt in enumerate(prompts):\n",
    "        print(f\"{input_fmt=}, prompt_{i}\")\n",
    "        for k in coupons.keys():\n",
    "            print(f\"coupon {k}\")\n",
    "            print(generator(prompt.format(inputs[input_fmt][k])))"
   ],
   "id": "1f33e9e51541c920",
   "outputs": [
    {
     "name": "stdout",
     "output_type": "stream",
     "text": [
      "input_fmt='raw_csv', prompt_0\n",
      "coupon 1\n",
      "{'product_name': '1.29', 'old_price': 2.99, 'new_price': 1.29}\n",
      "coupon 2\n",
      "{'product_name': 'Confité Time: COOL EUROS > 10 ', 'old_price': 9, 'new_price': 4.78}\n",
      "coupon 3\n",
      "{'product_name': 'PENNY / Savings Up to 80% - Up to 50% Cashback', 'old_price': 1.59, 'new_price': 1.19}\n",
      "input_fmt='raw_csv', prompt_1\n",
      "coupon 1\n",
      "{'product_name': 'Je 1,5', 'old_price': 1000, 'new_price': 600.0}\n",
      "coupon 2\n",
      "{'product_name': 'LINTPTYPE Worth of: US$16; Sale: US$10 ($5 off) | Typical Sale Price: US$10; Real Sale Price: US$5', 'old_price': 16, 'new_price': 5}\n",
      "coupon 3\n",
      "{'product_name': 'DONATIOS', 'old_price': 32, 'new_price': 19.95}\n",
      "input_fmt='reduced_csv', prompt_0\n",
      "coupon 1\n",
      "{'product_name': 'Up to 1.79', 'old_price': 355, 'new_price': 494999}\n",
      "coupon 2\n",
      "{'product_name': 'UVP 0.99', 'old_price': 855, 'new_price': 637.3849032390941}\n",
      "coupon 3\n",
      "{'product_name': 'UVP 1.49', 'old_price': 355, 'new_price': 1487}\n",
      "input_fmt='reduced_csv', prompt_1\n",
      "coupon 1\n",
      "{'product_name': ' Je 1,5 I', 'old_price': 69, 'new_price': 1.5}\n",
      "coupon 2\n",
      "{'product_name': 'MAP IBEANBEAN BAIKANG NUTS', 'old_price': 99.79, 'new_price': 69.9}\n",
      "coupon 3\n",
      "{'product_name': ' Cleaning Poles PRO ', 'old_price': 1.69, 'new_price': 3.89}\n",
      "input_fmt='json_encoded', prompt_0\n",
      "coupon 1\n",
      "{'product_name': 'UVP', 'old_price': 1.79, 'new_price': 1.29}\n",
      "coupon 2\n",
      "{'product_name': 'UVP', 'old_price': 855, 'new_price': 678}\n",
      "coupon 3\n",
      "{'product_name': 'UVP 1.49', 'old_price': 355, 'new_price': 1487}\n",
      "input_fmt='json_encoded', prompt_1\n",
      "coupon 1\n",
      "{'product_name': '1,5 I', 'old_price': 4.3, 'new_price': 4.5}\n",
      "coupon 2\n",
      "{'product_name': 'UVP 0.99', 'old_price': 1.0, 'new_price': 0.99}\n",
      "coupon 3\n",
      "{'product_name': 'UVP 52% off ', 'old_price': 0.97, 'new_price': 0.58}\n",
      "input_fmt='only_text', prompt_0\n",
      "coupon 1\n",
      "{'product_name': 'UVP', 'old_price': 1.79, 'new_price': 1.29}\n",
      "coupon 2\n",
      "{'product_name': 'UVP', 'old_price': 80.0, 'new_price': 0.69}\n",
      "coupon 3\n",
      "{'product_name': 'HOHES C Water', 'old_price': 1.49, 'new_price': 0.75}\n",
      "input_fmt='only_text', prompt_1\n",
      "coupon 1\n",
      "{'product_name': 'Raubucht Eistee', 'old_price': 40, 'new_price': 29.8}\n",
      "coupon 2\n",
      "{'product_name': 'LIPTON Ice Tea', 'old_price': 2.5, 'new_price': 1.5}\n",
      "coupon 3\n",
      "{'product_name': 'Cotton Drip Boudoir Set', 'old_price': 19, 'new_price': 24.58}\n"
     ]
    }
   ],
   "execution_count": 13
  },
  {
   "metadata": {},
   "cell_type": "markdown",
   "source": [
    "## todo\n",
    "* try different prompts and models, try using In Context Learning\n",
    "* models designed for structured output generation - there are some on hf ???\n",
    "* explore larger models - how big model should be to generate satisfactory results"
   ],
   "id": "443a5f1c8d98dfde"
  },
  {
   "metadata": {},
   "cell_type": "markdown",
   "source": [
    "## Abandoned Ideas\n",
    "* LangChain library provides nice support for structured output for llms but this feature is not implemented for huggingface port\n"
   ],
   "id": "ae384cbccd5e32c3"
  }
 ],
 "metadata": {
  "kernelspec": {
   "display_name": "Python 3",
   "language": "python",
   "name": "python3"
  },
  "language_info": {
   "codemirror_mode": {
    "name": "ipython",
    "version": 2
   },
   "file_extension": ".py",
   "mimetype": "text/x-python",
   "name": "python",
   "nbconvert_exporter": "python",
   "pygments_lexer": "ipython2",
   "version": "2.7.6"
  }
 },
 "nbformat": 4,
 "nbformat_minor": 5
}
