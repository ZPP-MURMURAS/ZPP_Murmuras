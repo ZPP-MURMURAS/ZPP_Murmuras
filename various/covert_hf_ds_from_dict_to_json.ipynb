{
 "cells": [
  {
   "cell_type": "code",
   "id": "initial_id",
   "metadata": {
    "collapsed": true,
    "ExecuteTime": {
     "end_time": "2025-03-03T17:11:39.780304Z",
     "start_time": "2025-03-03T17:11:39.775421Z"
    }
   },
   "source": [
    "import json\n",
    "\n",
    "import datasets\n",
    "import os\n",
    "from pandas import isna\n",
    "from math import nan\n",
    "from src.llama_dataset_generation.datasetter import PROMPT_WTH_DESC"
   ],
   "outputs": [],
   "execution_count": 9
  },
  {
   "metadata": {
    "ExecuteTime": {
     "end_time": "2025-03-03T17:12:47.408442Z",
     "start_time": "2025-03-03T17:12:47.400109Z"
    }
   },
   "cell_type": "code",
   "source": [
    "def convert_sample(sample):\n",
    "    old_resp = eval(sample[\"Response\"], {'nan': nan})\n",
    "    new_resp = []\n",
    "    for coupon in old_resp:\n",
    "        for k, v in coupon.items():\n",
    "            if isna(v):\n",
    "                coupon[k] = None\n",
    "        new_resp.append(coupon)\n",
    "    new_resp = json.dumps(new_resp)\n",
    "    new_text = PROMPT_WTH_DESC.format(sample[\"Context\"], new_resp)\n",
    "    return {\n",
    "        \"Context\": sample[\"Context\"],\n",
    "        \"Response\": new_resp,\n",
    "        \"text\": new_text\n",
    "    }"
   ],
   "id": "865c090334bbb3cd",
   "outputs": [],
   "execution_count": 11
  },
  {
   "metadata": {
    "ExecuteTime": {
     "end_time": "2025-03-03T17:12:48.178859Z",
     "start_time": "2025-03-03T17:12:48.173437Z"
    }
   },
   "cell_type": "code",
   "source": [
    "def convert_ds(name):\n",
    "    ds = datasets.load_dataset(name, token=os.getenv(\"HF_API_KEY\"))\n",
    "    return ds.map(convert_sample)"
   ],
   "id": "c7384123f33ec672",
   "outputs": [],
   "execution_count": 12
  },
  {
   "metadata": {
    "ExecuteTime": {
     "end_time": "2025-03-03T17:16:28.292407Z",
     "start_time": "2025-03-03T17:16:17.516635Z"
    }
   },
   "cell_type": "code",
   "source": "ds_new = convert_ds('zpp-murmuras/llama-ds-big_dm')",
   "id": "209d740ab9f66c7b",
   "outputs": [
    {
     "data": {
      "text/plain": [
       "Map:   0%|          | 0/1175 [00:00<?, ? examples/s]"
      ],
      "application/vnd.jupyter.widget-view+json": {
       "version_major": 2,
       "version_minor": 0,
       "model_id": "1e9984e235f146e4b3d00bd5274aca38"
      }
     },
     "metadata": {},
     "output_type": "display_data"
    },
    {
     "data": {
      "text/plain": [
       "Map:   0%|          | 0/131 [00:00<?, ? examples/s]"
      ],
      "application/vnd.jupyter.widget-view+json": {
       "version_major": 2,
       "version_minor": 0,
       "model_id": "978ed52544194d5e88bda07a769ff9ec"
      }
     },
     "metadata": {},
     "output_type": "display_data"
    }
   ],
   "execution_count": 13
  },
  {
   "metadata": {
    "ExecuteTime": {
     "end_time": "2025-03-03T17:18:04.268651Z",
     "start_time": "2025-03-03T17:18:00.328331Z"
    }
   },
   "cell_type": "code",
   "source": "ds_new.push_to_hub('zpp-murmuras/llama-ds-big_dm')",
   "id": "7c2e51bd9bfe94d6",
   "outputs": [
    {
     "data": {
      "text/plain": [
       "Uploading the dataset shards:   0%|          | 0/1 [00:00<?, ?it/s]"
      ],
      "application/vnd.jupyter.widget-view+json": {
       "version_major": 2,
       "version_minor": 0,
       "model_id": "b23c7972d94c4214bf63f820c0c58e86"
      }
     },
     "metadata": {},
     "output_type": "display_data"
    },
    {
     "data": {
      "text/plain": [
       "Creating parquet from Arrow format:   0%|          | 0/2 [00:00<?, ?ba/s]"
      ],
      "application/vnd.jupyter.widget-view+json": {
       "version_major": 2,
       "version_minor": 0,
       "model_id": "621f368dadfa4678a88adf7583109207"
      }
     },
     "metadata": {},
     "output_type": "display_data"
    },
    {
     "data": {
      "text/plain": [
       "Uploading the dataset shards:   0%|          | 0/1 [00:00<?, ?it/s]"
      ],
      "application/vnd.jupyter.widget-view+json": {
       "version_major": 2,
       "version_minor": 0,
       "model_id": "010b9154df38401891accf8c7e1fdd06"
      }
     },
     "metadata": {},
     "output_type": "display_data"
    },
    {
     "data": {
      "text/plain": [
       "Creating parquet from Arrow format:   0%|          | 0/1 [00:00<?, ?ba/s]"
      ],
      "application/vnd.jupyter.widget-view+json": {
       "version_major": 2,
       "version_minor": 0,
       "model_id": "bd021bc8f7f04d93b5b18d2f2320253d"
      }
     },
     "metadata": {},
     "output_type": "display_data"
    },
    {
     "data": {
      "text/plain": [
       "CommitInfo(commit_url='https://huggingface.co/datasets/zpp-murmuras/llama-ds-big_dm/commit/0f8fd235f9f76a0cbf466dbbe4c7f880a9ca2eb1', commit_message='Upload dataset', commit_description='', oid='0f8fd235f9f76a0cbf466dbbe4c7f880a9ca2eb1', pr_url=None, repo_url=RepoUrl('https://huggingface.co/datasets/zpp-murmuras/llama-ds-big_dm', endpoint='https://huggingface.co', repo_type='dataset', repo_id='zpp-murmuras/llama-ds-big_dm'), pr_revision=None, pr_num=None)"
      ]
     },
     "execution_count": 16,
     "metadata": {},
     "output_type": "execute_result"
    }
   ],
   "execution_count": 16
  },
  {
   "metadata": {
    "ExecuteTime": {
     "end_time": "2025-03-03T17:18:33.169833Z",
     "start_time": "2025-03-03T17:18:20.398519Z"
    }
   },
   "cell_type": "code",
   "source": "ds_new = convert_ds('zpp-murmuras/llama-ds-big-dm-extended-format')",
   "id": "52291664b501ba7d",
   "outputs": [
    {
     "data": {
      "text/plain": [
       "Map:   0%|          | 0/1573 [00:00<?, ? examples/s]"
      ],
      "application/vnd.jupyter.widget-view+json": {
       "version_major": 2,
       "version_minor": 0,
       "model_id": "2990d53f3df84847ac3da103fe5217c3"
      }
     },
     "metadata": {},
     "output_type": "display_data"
    },
    {
     "data": {
      "text/plain": [
       "Map:   0%|          | 0/175 [00:00<?, ? examples/s]"
      ],
      "application/vnd.jupyter.widget-view+json": {
       "version_major": 2,
       "version_minor": 0,
       "model_id": "45b8cfc499a24ef6b05ab1599645e817"
      }
     },
     "metadata": {},
     "output_type": "display_data"
    }
   ],
   "execution_count": 17
  },
  {
   "metadata": {
    "ExecuteTime": {
     "end_time": "2025-03-03T17:19:44.609245Z",
     "start_time": "2025-03-03T17:19:40.143533Z"
    }
   },
   "cell_type": "code",
   "source": "ds_new.push_to_hub('zpp-murmuras/llama-ds-big-dm-extended-format')",
   "id": "1b5996c1d78f8487",
   "outputs": [
    {
     "data": {
      "text/plain": [
       "Uploading the dataset shards:   0%|          | 0/1 [00:00<?, ?it/s]"
      ],
      "application/vnd.jupyter.widget-view+json": {
       "version_major": 2,
       "version_minor": 0,
       "model_id": "bfb378edb8d9442480011548c7486923"
      }
     },
     "metadata": {},
     "output_type": "display_data"
    },
    {
     "data": {
      "text/plain": [
       "Creating parquet from Arrow format:   0%|          | 0/2 [00:00<?, ?ba/s]"
      ],
      "application/vnd.jupyter.widget-view+json": {
       "version_major": 2,
       "version_minor": 0,
       "model_id": "172e72e35d88426ca800b5d48edde86b"
      }
     },
     "metadata": {},
     "output_type": "display_data"
    },
    {
     "data": {
      "text/plain": [
       "Uploading the dataset shards:   0%|          | 0/1 [00:00<?, ?it/s]"
      ],
      "application/vnd.jupyter.widget-view+json": {
       "version_major": 2,
       "version_minor": 0,
       "model_id": "1066fe179766489997fe67e4a7be0180"
      }
     },
     "metadata": {},
     "output_type": "display_data"
    },
    {
     "data": {
      "text/plain": [
       "Creating parquet from Arrow format:   0%|          | 0/1 [00:00<?, ?ba/s]"
      ],
      "application/vnd.jupyter.widget-view+json": {
       "version_major": 2,
       "version_minor": 0,
       "model_id": "dfd95f087e184d6393d7530fc8e78c67"
      }
     },
     "metadata": {},
     "output_type": "display_data"
    },
    {
     "data": {
      "text/plain": [
       "CommitInfo(commit_url='https://huggingface.co/datasets/zpp-murmuras/llama-ds-big-dm-extended-format/commit/fc3385707502db74968c06478d18c12ff60b46d6', commit_message='Upload dataset', commit_description='', oid='fc3385707502db74968c06478d18c12ff60b46d6', pr_url=None, repo_url=RepoUrl('https://huggingface.co/datasets/zpp-murmuras/llama-ds-big-dm-extended-format', endpoint='https://huggingface.co', repo_type='dataset', repo_id='zpp-murmuras/llama-ds-big-dm-extended-format'), pr_revision=None, pr_num=None)"
      ]
     },
     "execution_count": 20,
     "metadata": {},
     "output_type": "execute_result"
    }
   ],
   "execution_count": 20
  },
  {
   "metadata": {},
   "cell_type": "code",
   "outputs": [],
   "execution_count": null,
   "source": "",
   "id": "dd1d449eb3a4509c"
  }
 ],
 "metadata": {
  "kernelspec": {
   "display_name": "Python 3",
   "language": "python",
   "name": "python3"
  },
  "language_info": {
   "codemirror_mode": {
    "name": "ipython",
    "version": 2
   },
   "file_extension": ".py",
   "mimetype": "text/x-python",
   "name": "python",
   "nbconvert_exporter": "python",
   "pygments_lexer": "ipython2",
   "version": "2.7.6"
  }
 },
 "nbformat": 4,
 "nbformat_minor": 5
}
