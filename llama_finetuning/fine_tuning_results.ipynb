{
 "cells": [
  {
   "metadata": {
    "ExecuteTime": {
     "end_time": "2025-01-31T21:22:00.407730Z",
     "start_time": "2025-01-31T21:22:00.403712Z"
    }
   },
   "cell_type": "code",
   "source": "import wandb",
   "id": "e6d82d4ceff79566",
   "outputs": [],
   "execution_count": 14
  },
  {
   "metadata": {
    "ExecuteTime": {
     "end_time": "2025-01-31T21:22:01.633430Z",
     "start_time": "2025-01-31T21:22:00.460280Z"
    }
   },
   "cell_type": "code",
   "source": [
    "wandb.login(key='5a4f90130d34647d001a277a3d0d7efbaf02d967')\n",
    "api = wandb.Api()\n",
    "\n",
    "project_name = \"test_ft\"\n",
    "run_id = \"one_input_one_output_wrequest\""
   ],
   "id": "ba454fa6030c82b8",
   "outputs": [
    {
     "name": "stderr",
     "output_type": "stream",
     "text": [
      "\u001B[34m\u001B[1mwandb\u001B[0m: \u001B[33mWARNING\u001B[0m If you're specifying your api key in code, ensure this code is not shared publicly.\n",
      "\u001B[34m\u001B[1mwandb\u001B[0m: \u001B[33mWARNING\u001B[0m Consider setting the WANDB_API_KEY environment variable, or running `wandb login` from the command line.\n",
      "\u001B[34m\u001B[1mwandb\u001B[0m: Appending key for api.wandb.ai to your netrc file: /home/gustaw/.netrc\n"
     ]
    }
   ],
   "execution_count": 15
  },
  {
   "metadata": {
    "ExecuteTime": {
     "end_time": "2025-01-31T21:23:34.008990Z",
     "start_time": "2025-01-31T21:23:22.839489Z"
    }
   },
   "cell_type": "code",
   "source": [
    "runs = api.runs(f\"{wandb.Api().default_entity}/{project_name}\")\n",
    "for run in runs:\n",
    "    print(run.name)\n",
    "    print(run.id)\n",
    "\n",
    "history = run.history()\n",
    "history.head()"
   ],
   "id": "d21ccc6398dbbe84",
   "outputs": [
    {
     "name": "stdout",
     "output_type": "stream",
     "text": [
      "output\n",
      "8nn9xthg\n",
      "output\n",
      "0t1n94q7\n",
      "output\n",
      "92dcnitp\n",
      "output\n",
      "81a4s8lm\n",
      "output\n",
      "8cfsfbbq\n",
      "test\n",
      "osbmwtmd\n",
      "test\n",
      "7nb4li15\n",
      "one_input_one_output_wrequest\n",
      "rzqkjd6o\n",
      "one_input_one_output_wthrequest\n",
      "urejpnkb\n",
      "one_input_multiple_outputs_wrequest\n",
      "0yqy4utj\n",
      "one_input_multiple_outputs_wthrequest\n",
      "w9u4erpj\n",
      "one_input_one_output_wrequest\n",
      "mpejwc7s\n",
      "one_input_one_output_wthrequest\n",
      "jrwj8zd5\n",
      "one_input_multiple_outputs_wrequest\n",
      "4wdm8rq8\n",
      "one_input_multiple_outputs_wthrequest\n",
      "u3zqxdry\n"
     ]
    },
    {
     "data": {
      "text/plain": [
       "   _step   _runtime  train/loss  train/grad_norm  train/learning_rate  \\\n",
       "0      0  10.728615      1.3629         1.889384              0.00003   \n",
       "1      1  10.936125      1.3629         1.889035              0.00006   \n",
       "2      2  11.126151      1.3420         1.803080              0.00009   \n",
       "3      3  11.316787      1.2480         1.499058              0.00012   \n",
       "4      4  12.144566         NaN              NaN                  NaN   \n",
       "\n",
       "   train/epoch    _timestamp  train/global_step  \n",
       "0            1  1.738358e+09                  1  \n",
       "1            2  1.738358e+09                  2  \n",
       "2            3  1.738358e+09                  3  \n",
       "3            4  1.738358e+09                  4  \n",
       "4            4  1.738358e+09                  4  "
      ],
      "text/html": [
       "<div>\n",
       "<style scoped>\n",
       "    .dataframe tbody tr th:only-of-type {\n",
       "        vertical-align: middle;\n",
       "    }\n",
       "\n",
       "    .dataframe tbody tr th {\n",
       "        vertical-align: top;\n",
       "    }\n",
       "\n",
       "    .dataframe thead th {\n",
       "        text-align: right;\n",
       "    }\n",
       "</style>\n",
       "<table border=\"1\" class=\"dataframe\">\n",
       "  <thead>\n",
       "    <tr style=\"text-align: right;\">\n",
       "      <th></th>\n",
       "      <th>_step</th>\n",
       "      <th>_runtime</th>\n",
       "      <th>train/loss</th>\n",
       "      <th>train/grad_norm</th>\n",
       "      <th>train/learning_rate</th>\n",
       "      <th>train/epoch</th>\n",
       "      <th>_timestamp</th>\n",
       "      <th>train/global_step</th>\n",
       "    </tr>\n",
       "  </thead>\n",
       "  <tbody>\n",
       "    <tr>\n",
       "      <th>0</th>\n",
       "      <td>0</td>\n",
       "      <td>10.728615</td>\n",
       "      <td>1.3629</td>\n",
       "      <td>1.889384</td>\n",
       "      <td>0.00003</td>\n",
       "      <td>1</td>\n",
       "      <td>1.738358e+09</td>\n",
       "      <td>1</td>\n",
       "    </tr>\n",
       "    <tr>\n",
       "      <th>1</th>\n",
       "      <td>1</td>\n",
       "      <td>10.936125</td>\n",
       "      <td>1.3629</td>\n",
       "      <td>1.889035</td>\n",
       "      <td>0.00006</td>\n",
       "      <td>2</td>\n",
       "      <td>1.738358e+09</td>\n",
       "      <td>2</td>\n",
       "    </tr>\n",
       "    <tr>\n",
       "      <th>2</th>\n",
       "      <td>2</td>\n",
       "      <td>11.126151</td>\n",
       "      <td>1.3420</td>\n",
       "      <td>1.803080</td>\n",
       "      <td>0.00009</td>\n",
       "      <td>3</td>\n",
       "      <td>1.738358e+09</td>\n",
       "      <td>3</td>\n",
       "    </tr>\n",
       "    <tr>\n",
       "      <th>3</th>\n",
       "      <td>3</td>\n",
       "      <td>11.316787</td>\n",
       "      <td>1.2480</td>\n",
       "      <td>1.499058</td>\n",
       "      <td>0.00012</td>\n",
       "      <td>4</td>\n",
       "      <td>1.738358e+09</td>\n",
       "      <td>4</td>\n",
       "    </tr>\n",
       "    <tr>\n",
       "      <th>4</th>\n",
       "      <td>4</td>\n",
       "      <td>12.144566</td>\n",
       "      <td>NaN</td>\n",
       "      <td>NaN</td>\n",
       "      <td>NaN</td>\n",
       "      <td>4</td>\n",
       "      <td>1.738358e+09</td>\n",
       "      <td>4</td>\n",
       "    </tr>\n",
       "  </tbody>\n",
       "</table>\n",
       "</div>"
      ]
     },
     "execution_count": 17,
     "metadata": {},
     "output_type": "execute_result"
    }
   ],
   "execution_count": 17
  }
 ],
 "metadata": {
  "kernelspec": {
   "name": "python3",
   "language": "python",
   "display_name": "Python 3 (ipykernel)"
  }
 },
 "nbformat": 5,
 "nbformat_minor": 9
}
