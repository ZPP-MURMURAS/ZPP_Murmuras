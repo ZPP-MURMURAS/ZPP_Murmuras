{
 "cells": [
  {
   "cell_type": "code",
   "execution_count": 1,
   "id": "78b1e302-dac6-473a-9a07-073d5ab6dd06",
   "metadata": {},
   "outputs": [],
   "source": [
    "import os\n",
    "import pandas as pd\n",
    "import base64\n",
    "import mimetypes\n",
    "from openai import OpenAI\n",
    "from dotenv import load_dotenv\n",
    "import json\n",
    "from datasets import Dataset, ClassLabel, Sequence, DatasetDict\n",
    "from tqdm import tqdm\n",
    "from pathlib import Path\n",
    "from huggingface_hub import notebook_login"
   ]
  },
  {
   "cell_type": "markdown",
   "id": "8e1a07c6-c730-47bb-9250-151b87758ce3",
   "metadata": {},
   "source": [
    "# Provide necessary API keys and tokens\n",
    "\n",
    "Create a `.env` file and add your OpenAI API key and Hugging Face token like so:\n",
    "```plaintext\n",
    "OPENAI_API_KEY=your_openai_api_key_here\n",
    "HF_TOKEN=your_hugging_face_token_here\n",
    "```\n",
    "Your will need to add a Hugging Face token with write privileges to push the created dataset to the Hugging Face Hub."
   ]
  },
  {
   "cell_type": "code",
   "execution_count": 2,
   "id": "96bc5f00-e8da-4c4c-9961-379ed0e83c0e",
   "metadata": {},
   "outputs": [
    {
     "data": {
      "application/vnd.jupyter.widget-view+json": {
       "model_id": "7d2b1da3c95947a99172078837f95bd6",
       "version_major": 2,
       "version_minor": 0
      },
      "text/plain": [
       "VBox(children=(HTML(value='<center> <img\\nsrc=https://huggingface.co/front/assets/huggingface_logo-noborder.sv…"
      ]
     },
     "metadata": {},
     "output_type": "display_data"
    }
   ],
   "source": [
    "load_dotenv()\n",
    "\n",
    "client = OpenAI(\n",
    "    api_key=os.environ.get(\"OPENAI_API_KEY\"),\n",
    ")\n",
    "\n",
    "notebook_login()"
   ]
  },
  {
   "cell_type": "markdown",
   "id": "31c04ab3-55fe-43db-8696-b24c32c8f54e",
   "metadata": {},
   "source": [
    "# Global variables"
   ]
  },
  {
   "cell_type": "code",
   "execution_count": 3,
   "id": "d18099d2-6a88-43e1-b6b3-467083dee761",
   "metadata": {},
   "outputs": [],
   "source": [
    "data_path = Path('data')\n",
    "labels = ClassLabel(names=['N/A', 'PRICE', 'PRODUCT', 'DISCOUNT_PERCENTAGE', 'WEIGHT', 'DATE'])"
   ]
  },
  {
   "cell_type": "markdown",
   "id": "c948f32b-4b95-4ece-b38c-5ad4c877f11f",
   "metadata": {},
   "source": [
    "# Auxiliary functions"
   ]
  },
  {
   "cell_type": "code",
   "execution_count": 6,
   "id": "3f0c942b-98e5-4903-a786-4effcc8adac4",
   "metadata": {},
   "outputs": [],
   "source": [
    "def text_only_labeling(text, tags):\n",
    "    prompt = f\"\"\"\n",
    "    You are an NER tagging assistant. Your task is to label ALL entities in the text based on the tags provided.\n",
    "    Here are the tags: {', '.join(tags)}\n",
    "    Use {tags[0]} whenever an entity does not match any other tag.\n",
    "\n",
    "    For each entity, return the entity and its tag.\n",
    "\n",
    "    Input text: \"{text}\"\n",
    "\n",
    "    Respond with the entities in this JSON format:\n",
    "    [\n",
    "        {{ \"entity\": str, \"tag\": str }},\n",
    "        ...\n",
    "    ]\n",
    "    \"\"\"\n",
    "    \n",
    "    response = client.chat.completions.create(\n",
    "        messages=[{'role': 'user', 'content': prompt}],\n",
    "        model='gpt-4-1106-preview',\n",
    "        temperature=0,\n",
    "        response_format={'type': 'json_object'},\n",
    "    )\n",
    "\n",
    "    return response.choices[0].message.content\n",
    "\n",
    "def parse_response(response):\n",
    "    try:\n",
    "        parsed_data = json.loads(response)\n",
    "    except json.JSONDecodeError as e:\n",
    "        print(f'Error parsing JSON: {e}')\n",
    "        print(response)\n",
    "        return\n",
    "    tokens = []\n",
    "    tags = []\n",
    "    for entry in parsed_data.get('entities'):\n",
    "        if entry is not None:\n",
    "            entity = entry.get('entity')\n",
    "            tag = entry.get('tag')\n",
    "            if entity is not None and tag is not None:\n",
    "                tokens.append(entry['entity'])\n",
    "                tags.append(entry['tag'])\n",
    "            else:\n",
    "                print('Unexpected response format')\n",
    "                print(response)\n",
    "        else:\n",
    "            print('Unexpected response format')\n",
    "            print(response)\n",
    "\n",
    "    return tokens, tags\n",
    "\n",
    "def generate_data_from_csv(path, tags):\n",
    "    print(f'generating data from {path}')\n",
    "    \n",
    "    tokens_list = []\n",
    "    tags_list = []\n",
    "    \n",
    "    df = pd.read_csv(path)\n",
    "    df.columns = df.columns.str.lower()\n",
    "\n",
    "    if 'text' not in df.columns:\n",
    "        print('no text column in csv')\n",
    "        return\n",
    "    \n",
    "    grouping_columns_try = ['application name', 'seen timestamp']\n",
    "    grouping_columns = []\n",
    "\n",
    "    for col_name in grouping_columns_try:\n",
    "        if col_name in df.columns:\n",
    "            print(f'grouping by {col_name}')\n",
    "            grouping_columns.append(col_name)\n",
    "    \n",
    "    grouped_dfs = [group for _, group in df.groupby(grouping_columns)]\n",
    "    view_texts_coalesced = [\" \".join(df['text'].dropna()) for df in grouped_dfs]\n",
    "    view_texts_filtered = [s for s in view_texts_coalesced if s != \"\"]\n",
    "    \n",
    "    for text in tqdm(view_texts_filtered):\n",
    "        response = text_only_labeling(view_texts_coalesced[1], tags)\n",
    "        tokens, tags = parse_response(response)\n",
    "        \n",
    "        if tokens is not None and tags is not None:\n",
    "            tokens_list.append(tokens)\n",
    "            tags_list.append(tags)\n",
    "\n",
    "    return tokens_list, tags_list\n",
    "\n",
    "def create_dataset(tokens_list, tags_list):\n",
    "    dataset = Dataset.from_dict({'tokens': tokens_list, 'ner_tags': tags_list})\n",
    "    dataset = dataset.cast_column('ner_tags', Sequence(feature=labels))\n",
    "    dataset = dataset.add_column('id', [i for i in range(len(dataset))])\n",
    "    \n",
    "    trainvalid_test = dataset.train_test_split(test_size=0.2)\n",
    "    train_valid = trainvalid_test['train'].train_test_split(test_size=0.2)\n",
    "    split_dataset = DatasetDict({\n",
    "        'train': train_valid['train'],\n",
    "        'test': trainvalid_test['test'],\n",
    "        'valid': train_valid['test']}\n",
    "    )\n",
    "    \n",
    "    return split_dataset"
   ]
  },
  {
   "cell_type": "markdown",
   "id": "e6163a7c-be18-41a9-9807-6022c7fb0da6",
   "metadata": {},
   "source": [
    "# Data generation\n",
    "\n",
    "This part of the script will fetch all csv files from a `data` directory and attempt to generate a dataset from them."
   ]
  },
  {
   "cell_type": "code",
   "execution_count": null,
   "id": "35d84f9d-a339-4fd6-9ec0-738acf649e4f",
   "metadata": {},
   "outputs": [
    {
     "name": "stdout",
     "output_type": "stream",
     "text": [
      "generating data from data\\18789327023.csv\n",
      "grouping by application name\n",
      "grouping by seen timestamp\n"
     ]
    },
    {
     "name": "stderr",
     "output_type": "stream",
     "text": [
      " 14%|████████████████████████▋                                                                                                                                                    | 1/7 [00:08<00:52,  8.80s/it]"
     ]
    }
   ],
   "source": [
    "data_path = Path('data')\n",
    "ner_tags = ClassLabel(names=['N/A', 'PRICE', 'PRODUCT', 'DISCOUNT_PERCENTAGE', 'WEIGHT', 'DATE'])\n",
    "\n",
    "tokens_list = []\n",
    "tags_list = []\n",
    "\n",
    "for csv_file in data_path.glob('*.csv'):\n",
    "    tokens_list_aux, tags_list_aux = generate_data_from_csv(csv_file, ner_tags.names)\n",
    "    tokens_list += tokens_list_aux\n",
    "    tags_list += tags_list_aux\n",
    "\n",
    "dataset = create_dataset(tokens_list, tags_list)"
   ]
  },
  {
   "cell_type": "markdown",
   "id": "160987af-a3ea-467b-ae41-5e0b04b18abf",
   "metadata": {},
   "source": [
    "# Dataset saving"
   ]
  },
  {
   "cell_type": "code",
   "execution_count": 88,
   "id": "70436fd4-7946-423d-9a08-667aa78945cb",
   "metadata": {},
   "outputs": [
    {
     "name": "stderr",
     "output_type": "stream",
     "text": [
      "\n",
      "\n",
      "\n",
      "\n",
      "\n",
      "\n",
      "\n",
      "\n",
      "\n",
      "ploading the dataset shards: 100%|███████████████████████████████████████████████████████████████████████████████████████████████████████████████████████████████████████████████| 1/1 [00:00<00:00,  1.46it/s]"
     ]
    },
    {
     "data": {
      "text/plain": [
       "CommitInfo(commit_url='https://huggingface.co/datasets/kdybek/test_dataset/commit/c87c208bb09661ad3b13c7c352f3373e66571aa9', commit_message='Upload dataset', commit_description='', oid='c87c208bb09661ad3b13c7c352f3373e66571aa9', pr_url=None, repo_url=RepoUrl('https://huggingface.co/datasets/kdybek/test_dataset', endpoint='https://huggingface.co', repo_type='dataset', repo_id='kdybek/test_dataset'), pr_revision=None, pr_num=None)"
      ]
     },
     "execution_count": 88,
     "metadata": {},
     "output_type": "execute_result"
    }
   ],
   "source": [
    "dataset.push_to_hub(\"murmuras_csv_\", private=True)"
   ]
  }
 ],
 "metadata": {
  "kernelspec": {
   "display_name": "Python 3 (ipykernel)",
   "language": "python",
   "name": "python3"
  },
  "language_info": {
   "codemirror_mode": {
    "name": "ipython",
    "version": 3
   },
   "file_extension": ".py",
   "mimetype": "text/x-python",
   "name": "python",
   "nbconvert_exporter": "python",
   "pygments_lexer": "ipython3",
   "version": "3.12.7"
  }
 },
 "nbformat": 4,
 "nbformat_minor": 5
}
