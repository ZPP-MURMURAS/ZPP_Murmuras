{
 "cells": [
  {
   "cell_type": "code",
   "execution_count": 19,
   "id": "78b1e302-dac6-473a-9a07-073d5ab6dd06",
   "metadata": {},
   "outputs": [],
   "source": [
    "import os\n",
    "import pandas as pd\n",
    "import base64\n",
    "import mimetypes\n",
    "from openai import OpenAI\n",
    "from dotenv import load_dotenv\n",
    "import json\n",
    "from datasets import Dataset, ClassLabel, Sequence, DatasetDict\n",
    "from tqdm import tqdm\n",
    "from pathlib import Path\n",
    "from huggingface_hub import login\n",
    "import pickle"
   ]
  },
  {
   "cell_type": "markdown",
   "id": "8e1a07c6-c730-47bb-9250-151b87758ce3",
   "metadata": {},
   "source": [
    "# Provide necessary API keys and tokens\n",
    "\n",
    "Create a `.env` file and add your OpenAI API key and Hugging Face token like so:\n",
    "```plaintext\n",
    "OPENAI_API_KEY=your_openai_api_key_here\n",
    "HF_TOKEN=your_hugging_face_token_here\n",
    "```\n",
    "Your will need to add a Hugging Face token with write privileges to push the created dataset to Hugging Face Hub."
   ]
  },
  {
   "cell_type": "code",
   "execution_count": 2,
   "id": "96bc5f00-e8da-4c4c-9961-379ed0e83c0e",
   "metadata": {},
   "outputs": [
    {
     "name": "stderr",
     "output_type": "stream",
     "text": [
      "Note: Environment variable`HF_TOKEN` is set and is the current active token independently from the token you've just configured.\n"
     ]
    }
   ],
   "source": [
    "load_dotenv()\n",
    "\n",
    "client = OpenAI(\n",
    "    api_key=os.environ.get('OPENAI_API_KEY'),\n",
    ")\n",
    "\n",
    "login(token=os.environ.get('HF_TOKEN'))"
   ]
  },
  {
   "cell_type": "markdown",
   "id": "c948f32b-4b95-4ece-b38c-5ad4c877f11f",
   "metadata": {
    "jp-MarkdownHeadingCollapsed": true
   },
   "source": [
    "# Auxiliary functions"
   ]
  },
  {
   "cell_type": "code",
   "execution_count": 18,
   "id": "3f0c942b-98e5-4903-a786-4effcc8adac4",
   "metadata": {},
   "outputs": [],
   "source": [
    "def text_only_labeling(text, tags):\n",
    "    prompt = f\"\"\"\n",
    "    You are an NER tagging assistant. Your task is to label all entities in the text based on the tags provided.\n",
    "    Here are the tags: {', '.join(tags)}\n",
    "    Use {tags[0]} whenever an entity does not match any other tag. It is imperative that you label everything in the text. Don't make the entities too short.\n",
    "\n",
    "    For each entity, return the entity and its tag.\n",
    "\n",
    "    Input text: \"{text}\"\n",
    "\n",
    "    Respond with the entities in this JSON format:\n",
    "    [\n",
    "        {{ \"entity\": str, \"tag\": str }},\n",
    "        ...\n",
    "    ]\n",
    "    \"\"\"\n",
    "    \n",
    "    response = client.chat.completions.create(\n",
    "        messages=[{'role': 'user', 'content': prompt}],\n",
    "        model='gpt-4o',\n",
    "        temperature=0,\n",
    "        response_format={'type': 'json_object'},\n",
    "    )\n",
    "\n",
    "    return response.choices[0].message.content\n",
    "\n",
    "def parse_response(response):\n",
    "    try:\n",
    "        parsed_data = json.loads(response)\n",
    "    except json.JSONDecodeError as e:\n",
    "        raise ValueError(f'Error parsing JSON: {e}, in response: {response}')\n",
    "        \n",
    "    tokens = []\n",
    "    tags = []\n",
    "\n",
    "    if type(parsed_data) is list:\n",
    "        entities = parsed_data\n",
    "    elif type(parsed_data) is dict:\n",
    "        if 'entities' in parsed_data.keys():\n",
    "            entities = parsed_data['entities']\n",
    "        else:\n",
    "            entities = [parsed_data]\n",
    "        \n",
    "    for entity in entities:\n",
    "        token = entity.get('entity')\n",
    "        tag = entity.get('tag')\n",
    "        if token is not None and tag is not None:\n",
    "            tokens.append(token)\n",
    "            tags.append(tag)\n",
    "        else:\n",
    "            raise ValueError(f'Unexpected response format: {response}')\n",
    "\n",
    "    return tokens, tags\n",
    "\n",
    "def chunk_string_by_words(text, chunk_size):\n",
    "    words = text.split()\n",
    "    chunks = [words[i:i + chunk_size] for i in range(0, len(words), chunk_size)]\n",
    "    chunked_text = [' '.join(chunk) for chunk in chunks]\n",
    "    \n",
    "    return chunked_text\n",
    "\n",
    "def generate_data_from_csv(path, ner_tags):\n",
    "    print(f'generating data using {path}')\n",
    "    \n",
    "    tokens_list = []\n",
    "    tags_list = []\n",
    "    \n",
    "    df = pd.read_csv(path)\n",
    "    df.columns = df.columns.str.replace(' ', '_').str.lower()\n",
    "\n",
    "    if 'text' not in df.columns:\n",
    "        raise ValueError('no text column in csv')\n",
    "    \n",
    "    grouping_columns = ['application_name', 'seen_timestamp']\n",
    "\n",
    "    for col_name in grouping_columns:\n",
    "        if col_name not in df.columns:\n",
    "            raise ValueError(f'no {col_name} column in csv')\n",
    "    \n",
    "    grouped_dfs = [group for _, group in df.groupby(grouping_columns)]\n",
    "    view_texts_coalesced = [' '.join(df['text'].dropna()) for df in grouped_dfs]\n",
    "    view_texts_filtered = [s for s in view_texts_coalesced if s != '']\n",
    "    view_texts_chunked = []\n",
    "\n",
    "    for text in view_texts_filtered:\n",
    "        view_texts_chunked += chunk_string_by_words(text, 64)\n",
    "    \n",
    "    for text in tqdm(view_texts_chunked):\n",
    "        try:\n",
    "            response = text_only_labeling(text, ner_tags)\n",
    "            tokens, tags = parse_response(response)\n",
    "            tokens_list.append(tokens)\n",
    "            tags_list.append(tags)\n",
    "        except Exception as e:\n",
    "            print(e)\n",
    "\n",
    "    return tokens_list, tags_list\n",
    "\n",
    "def create_dataset(tokens_list, tags_list, ner_tags):\n",
    "    dataset = Dataset.from_dict({'tokens': tokens_list, 'ner_tags': tags_list})\n",
    "    dataset = dataset.cast_column('ner_tags', Sequence(feature=ner_tags))\n",
    "    dataset = dataset.add_column('id', [i for i in range(len(dataset))])\n",
    "    \n",
    "    trainvalid_test = dataset.train_test_split(test_size=0.2)\n",
    "    train_valid = trainvalid_test['train'].train_test_split(test_size=0.2)\n",
    "    split_dataset = DatasetDict({\n",
    "        'train': train_valid['train'],\n",
    "        'test': trainvalid_test['test'],\n",
    "        'validation': train_valid['test']}\n",
    "    )\n",
    "    \n",
    "    return split_dataset\n",
    "\n",
    "def checkpoint_name(path):\n",
    "    return f'{os.path.join('checkpoints', Path(path).stem)}.pkl'"
   ]
  },
  {
   "cell_type": "markdown",
   "id": "e6163a7c-be18-41a9-9807-6022c7fb0da6",
   "metadata": {},
   "source": [
    "# Generate data\n",
    "\n",
    "This part of the script will fetch all csv files from a `data` directory and attempt to generate labeled data with them."
   ]
  },
  {
   "cell_type": "code",
   "execution_count": 6,
   "id": "35d84f9d-a339-4fd6-9ec0-738acf649e4f",
   "metadata": {},
   "outputs": [
    {
     "name": "stdout",
     "output_type": "stream",
     "text": [
      "generating data using data\\18789327023.csv\n"
     ]
    },
    {
     "name": "stderr",
     "output_type": "stream",
     "text": [
      "\n",
      "00%|████████████████████████████████████████████████████████████████████████████████████| 7/7 [00:27<00:00,  3.97s/it]"
     ]
    },
    {
     "name": "stdout",
     "output_type": "stream",
     "text": [
      "saving checkpoint checkpoints\\18789327023.pkl\n",
      "generating data using data\\18929485529.csv\n"
     ]
    },
    {
     "name": "stderr",
     "output_type": "stream",
     "text": [
      "\n",
      "00%|████████████████████████████████████████████████████████████████████████████████████| 6/6 [00:21<00:00,  3.63s/it]"
     ]
    },
    {
     "name": "stdout",
     "output_type": "stream",
     "text": [
      "saving checkpoint checkpoints\\18929485529.pkl\n",
      "generating data using data\\test_data_2024_03_07_dm_content_generic_2024-12-05T10_09_32.502568365+01_00.csv\n"
     ]
    },
    {
     "name": "stderr",
     "output_type": "stream",
     "text": [
      "\n",
      "00%|████████████████████████████████████████████████████████████████████████████████| 142/142 [09:09<00:00,  3.87s/it]"
     ]
    },
    {
     "name": "stdout",
     "output_type": "stream",
     "text": [
      "saving checkpoint checkpoints\\test_data_2024_03_07_dm_content_generic_2024-12-05T10_09_32.502568365+01_00.pkl\n",
      "generating data using data\\test_data_2024_03_07_rewe_content_generic_2024-12-05T10_30_59.948177782+01_00.csv\n"
     ]
    },
    {
     "name": "stderr",
     "output_type": "stream",
     "text": [
      "\n",
      "00%|████████████████████████████████████████████████████████████████████████████████| 200/200 [13:06<00:00,  3.93s/it]"
     ]
    },
    {
     "name": "stdout",
     "output_type": "stream",
     "text": [
      "saving checkpoint checkpoints\\test_data_2024_03_07_rewe_content_generic_2024-12-05T10_30_59.948177782+01_00.pkl\n",
      "generating data using data\\test_data_2024_03_07_rossmann_content_generic_2024-12-05T10_24_07.981399375+01_00.csv\n"
     ]
    },
    {
     "name": "stderr",
     "output_type": "stream",
     "text": [
      "\n",
      "00%|████████████████████████████████████████████████████████████████████████████████| 141/141 [08:31<00:00,  3.63s/it]"
     ]
    },
    {
     "name": "stdout",
     "output_type": "stream",
     "text": [
      "saving checkpoint checkpoints\\test_data_2024_03_07_rossmann_content_generic_2024-12-05T10_24_07.981399375+01_00.pkl\n",
      "generating data using data\\test_data_2024_11_25_lidl_plus_content_generic_2024-12-05T07_39_49.726955559+01_00.csv\n"
     ]
    },
    {
     "name": "stderr",
     "output_type": "stream",
     "text": [
      "100%|████████████████████████████████████████████████████████████████████████████████| 109/109 [08:21<00:00,  4.60s/it]"
     ]
    },
    {
     "name": "stdout",
     "output_type": "stream",
     "text": [
      "saving checkpoint checkpoints\\test_data_2024_11_25_lidl_plus_content_generic_2024-12-05T07_39_49.726955559+01_00.pkl\n"
     ]
    },
    {
     "name": "stderr",
     "output_type": "stream",
     "text": [
      "\n"
     ]
    }
   ],
   "source": [
    "data_path = Path('data')\n",
    "ner_tags = ClassLabel(names=['N/A', 'PRICE', 'PRODUCT', 'DISCOUNT_PERCENTAGE', 'QUANTITY', 'DATE'])\n",
    "\n",
    "for csv_file in data_path.glob('*.csv'):\n",
    "    if os.path.exists(checkpoint_name(csv_file)):\n",
    "        print(f'skipping {csv_file}')\n",
    "        continue\n",
    "        \n",
    "    try:\n",
    "        tokens_list, tags_list = generate_data_from_csv(csv_file, ner_tags.names)\n",
    "        with open(checkpoint_name(csv_file), 'wb') as f:\n",
    "            print(f'saving checkpoint {checkpoint_name(csv_file)}')\n",
    "            pickle.dump((tokens_list, tags_list), f)\n",
    "        \n",
    "    except ValueError as e:\n",
    "        print(e)"
   ]
  },
  {
   "cell_type": "markdown",
   "id": "6fc1a915-902d-4b1d-a3c9-901e6766a7ce",
   "metadata": {},
   "source": [
    "# Create dataset"
   ]
  },
  {
   "cell_type": "code",
   "execution_count": 20,
   "id": "a4bb3e90-40cf-49bc-83fa-c9dec4bc3021",
   "metadata": {},
   "outputs": [
    {
     "data": {
      "application/vnd.jupyter.widget-view+json": {
       "model_id": "66f4db7cc3c1456f9f3e8b384df2facf",
       "version_major": 2,
       "version_minor": 0
      },
      "text/plain": [
       "Casting the dataset:   0%|          | 0/605 [00:00<?, ? examples/s]"
      ]
     },
     "metadata": {},
     "output_type": "display_data"
    }
   ],
   "source": [
    "tokens_list = []\n",
    "tags_list = []\n",
    "\n",
    "for pkl_file in Path('checkpoints').glob('*.pkl'):\n",
    "    with open(pkl_file, 'rb') as f:\n",
    "        tokens, tags = pickle.load(f)\n",
    "\n",
    "    tokens_list += tokens\n",
    "    tags_list += tags\n",
    "\n",
    "dataset = create_dataset(tokens_list, tags_list, ner_tags)"
   ]
  },
  {
   "cell_type": "markdown",
   "id": "160987af-a3ea-467b-ae41-5e0b04b18abf",
   "metadata": {},
   "source": [
    "# Save dataset"
   ]
  },
  {
   "cell_type": "code",
   "execution_count": 21,
   "id": "70436fd4-7946-423d-9a08-667aa78945cb",
   "metadata": {},
   "outputs": [
    {
     "data": {
      "application/vnd.jupyter.widget-view+json": {
       "model_id": "21412684a6c64d338e4600fc51e0046a",
       "version_major": 2,
       "version_minor": 0
      },
      "text/plain": [
       "Uploading the dataset shards:   0%|          | 0/1 [00:00<?, ?it/s]"
      ]
     },
     "metadata": {},
     "output_type": "display_data"
    },
    {
     "data": {
      "application/vnd.jupyter.widget-view+json": {
       "model_id": "c4e9fe4320b6446b92fc2cf11536fb7c",
       "version_major": 2,
       "version_minor": 0
      },
      "text/plain": [
       "Creating parquet from Arrow format:   0%|          | 0/1 [00:00<?, ?ba/s]"
      ]
     },
     "metadata": {},
     "output_type": "display_data"
    },
    {
     "data": {
      "application/vnd.jupyter.widget-view+json": {
       "model_id": "3facb25f1a6d48469629718396f7f4be",
       "version_major": 2,
       "version_minor": 0
      },
      "text/plain": [
       "Uploading the dataset shards:   0%|          | 0/1 [00:00<?, ?it/s]"
      ]
     },
     "metadata": {},
     "output_type": "display_data"
    },
    {
     "data": {
      "application/vnd.jupyter.widget-view+json": {
       "model_id": "24aea20d43714d29be9d63df6eaa939e",
       "version_major": 2,
       "version_minor": 0
      },
      "text/plain": [
       "Creating parquet from Arrow format:   0%|          | 0/1 [00:00<?, ?ba/s]"
      ]
     },
     "metadata": {},
     "output_type": "display_data"
    },
    {
     "data": {
      "application/vnd.jupyter.widget-view+json": {
       "model_id": "7e84cb111e0c409b9b8851499623edd5",
       "version_major": 2,
       "version_minor": 0
      },
      "text/plain": [
       "Uploading the dataset shards:   0%|          | 0/1 [00:00<?, ?it/s]"
      ]
     },
     "metadata": {},
     "output_type": "display_data"
    },
    {
     "data": {
      "application/vnd.jupyter.widget-view+json": {
       "model_id": "0df3cc38988e48dd90f1698150fce9ca",
       "version_major": 2,
       "version_minor": 0
      },
      "text/plain": [
       "Creating parquet from Arrow format:   0%|          | 0/1 [00:00<?, ?ba/s]"
      ]
     },
     "metadata": {},
     "output_type": "display_data"
    },
    {
     "data": {
      "text/plain": [
       "CommitInfo(commit_url='https://huggingface.co/datasets/kdybek/murmuras_labeled_data_from_csv/commit/aeff8795fae073199213983ea517fc2a2eed5fe2', commit_message='Upload dataset', commit_description='', oid='aeff8795fae073199213983ea517fc2a2eed5fe2', pr_url=None, repo_url=RepoUrl('https://huggingface.co/datasets/kdybek/murmuras_labeled_data_from_csv', endpoint='https://huggingface.co', repo_type='dataset', repo_id='kdybek/murmuras_labeled_data_from_csv'), pr_revision=None, pr_num=None)"
      ]
     },
     "execution_count": 21,
     "metadata": {},
     "output_type": "execute_result"
    }
   ],
   "source": [
    "dataset.push_to_hub(\"murmuras_labeled_data_from_csv\", private=True)"
   ]
  }
 ],
 "metadata": {
  "kernelspec": {
   "display_name": "Python 3 (ipykernel)",
   "language": "python",
   "name": "python3"
  },
  "language_info": {
   "codemirror_mode": {
    "name": "ipython",
    "version": 3
   },
   "file_extension": ".py",
   "mimetype": "text/x-python",
   "name": "python",
   "nbconvert_exporter": "python",
   "pygments_lexer": "ipython3",
   "version": "3.12.7"
  }
 },
 "nbformat": 4,
 "nbformat_minor": 5
}
