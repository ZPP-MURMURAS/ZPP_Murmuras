{
 "cells": [
  {
   "cell_type": "code",
   "execution_count": 1,
   "id": "78b1e302-dac6-473a-9a07-073d5ab6dd06",
   "metadata": {},
   "outputs": [],
   "source": [
    "import os\n",
    "import pandas as pd\n",
    "import base64\n",
    "import mimetypes\n",
    "from openai import OpenAI\n",
    "from dotenv import load_dotenv\n",
    "import json\n",
    "from datasets import Dataset, ClassLabel, Sequence, DatasetDict\n",
    "from tqdm import tqdm\n",
    "from pathlib import Path\n",
    "from huggingface_hub import login\n",
    "import pickle\n",
    "import requests\n",
    "from bs4 import BeautifulSoup\n",
    "from googlesearch import search\n",
    "import random"
   ]
  },
  {
   "cell_type": "markdown",
   "id": "8e1a07c6-c730-47bb-9250-151b87758ce3",
   "metadata": {},
   "source": [
    "# Provide necessary API keys and tokens\n",
    "\n",
    "Create a `.env` file and add your OpenAI API key and Hugging Face token like so:\n",
    "```plaintext\n",
    "OPENAI_API_KEY=your_openai_api_key_here\n",
    "HF_TOKEN=your_hugging_face_token_here\n",
    "```\n",
    "Your will need to add a Hugging Face token with write privileges to push the created dataset to Hugging Face Hub."
   ]
  },
  {
   "cell_type": "code",
   "execution_count": 2,
   "id": "96bc5f00-e8da-4c4c-9961-379ed0e83c0e",
   "metadata": {},
   "outputs": [
    {
     "name": "stderr",
     "output_type": "stream",
     "text": [
      "Note: Environment variable`HF_TOKEN` is set and is the current active token independently from the token you've just configured.\n"
     ]
    }
   ],
   "source": [
    "load_dotenv()\n",
    "\n",
    "client = OpenAI(\n",
    "    api_key=os.environ.get('OPENAI_API_KEY'),\n",
    ")\n",
    "\n",
    "login(token=os.environ.get('HF_TOKEN'))"
   ]
  },
  {
   "cell_type": "markdown",
   "id": "4ab228b2-85ba-4a8d-950c-8881c71f3df1",
   "metadata": {},
   "source": [
    "# Create directories"
   ]
  },
  {
   "cell_type": "code",
   "execution_count": 14,
   "id": "bc3676d8-a3f5-4333-8586-e418f94e4f04",
   "metadata": {},
   "outputs": [],
   "source": [
    "csv_path = 'csv'\n",
    "scrape_path = 'scrape'\n",
    "checkpoints_path = 'checkpoints'\n",
    "\n",
    "Path(csv_path).mkdir(parents=True, exist_ok=True)\n",
    "Path(scrape_path).mkdir(parents=True, exist_ok=True)\n",
    "Path(checkpoints_path).mkdir(parents=True, exist_ok=True)"
   ]
  },
  {
   "cell_type": "markdown",
   "id": "3ba26835-a320-4550-ab09-cb70e47fa521",
   "metadata": {
    "jp-MarkdownHeadingCollapsed": true
   },
   "source": [
    "# Auxiliary scraping functions"
   ]
  },
  {
   "cell_type": "code",
   "execution_count": 4,
   "id": "fc1c35a1-10e6-4eec-add0-c9b95de754cb",
   "metadata": {},
   "outputs": [],
   "source": [
    "def scrape_all_text(url):\n",
    "    try:\n",
    "        response = requests.get(url)\n",
    "        response.raise_for_status()\n",
    "\n",
    "        soup = BeautifulSoup(response.text, 'html.parser')\n",
    "\n",
    "        for script_or_style in soup(['script', 'style']):\n",
    "            script_or_style.decompose()\n",
    "\n",
    "        text = soup.get_text(separator=' ', strip=True)\n",
    "\n",
    "        return text\n",
    "        \n",
    "    except Exception as e:\n",
    "        print(f'Error scraping {url}: {e}')\n",
    "        return ''\n",
    "\n",
    "def get_random_links(base_url, count=10):\n",
    "    try:\n",
    "        response = requests.get(base_url)\n",
    "        response.raise_for_status()\n",
    "\n",
    "        soup = BeautifulSoup(response.text, 'html.parser')\n",
    "\n",
    "        links = [a['href'] for a in soup.find_all('a', href=True)]\n",
    "\n",
    "        full_links = [\n",
    "            link if link.startswith('http') else requests.compat.urljoin(base_url, link)\n",
    "            for link in links\n",
    "        ]\n",
    "\n",
    "        unique_links = list(set(full_links))\n",
    "\n",
    "        return random.sample(unique_links, min(count, len(unique_links)))\n",
    "        \n",
    "    except Exception as e:\n",
    "        print(f'Error fetching links from {base_url}: {e}')\n",
    "        return []\n",
    "\n",
    "def scrape_from_search(query, num, stop, pause):\n",
    "    all_results = []\n",
    "    \n",
    "    for url in tqdm(search(query, num=num, stop=stop, pause=pause)):\n",
    "        results = scrape_all_text(url)\n",
    "        all_results.append(results)\n",
    "\n",
    "    return all_results"
   ]
  },
  {
   "cell_type": "markdown",
   "id": "4595ecb8-85dd-4487-9d68-543841f23fa7",
   "metadata": {},
   "source": [
    "# Scrape"
   ]
  },
  {
   "cell_type": "code",
   "execution_count": 5,
   "id": "ceccc702-0454-4682-a376-53d146c608c6",
   "metadata": {
    "scrolled": true
   },
   "outputs": [
    {
     "name": "stdout",
     "output_type": "stream",
     "text": [
      "querying shop italy\n"
     ]
    },
    {
     "name": "stderr",
     "output_type": "stream",
     "text": [
      "\n",
      "0it [00:10,  1.04s/it]"
     ]
    },
    {
     "name": "stdout",
     "output_type": "stream",
     "text": [
      "saving data scraped with query shop italy\n",
      "querying sklep warszawa\n"
     ]
    },
    {
     "name": "stderr",
     "output_type": "stream",
     "text": [
      "1it [00:05,  5.47s/it]"
     ]
    },
    {
     "name": "stdout",
     "output_type": "stream",
     "text": [
      "Error scraping https://warszawa.naszemiasto.pl/ulubione-sklepy-warszawiakow-tam-kochaja-robic-zakupy-oto/ar/c1-8899471: 403 Client Error: Forbidden for url: https://warszawa.naszemiasto.pl/ulubione-sklepy-warszawiakow-tam-kochaja-robic-zakupy-oto/ar/c1-8899471\n"
     ]
    },
    {
     "name": "stderr",
     "output_type": "stream",
     "text": [
      "\n",
      "0it [00:08,  1.19it/s]"
     ]
    },
    {
     "name": "stdout",
     "output_type": "stream",
     "text": [
      "Error scraping https://warsawsneakerstore.com/: 403 Client Error: Forbidden for url: https://warsawsneakerstore.com/\n",
      "Error scraping https://warsawsneakerstore.com/menu/obuwie/meskie: 403 Client Error: Forbidden for url: https://warsawsneakerstore.com/menu/obuwie/meskie\n",
      "Error scraping https://warsawsneakerstore.com/menu/nowosci: 403 Client Error: Forbidden for url: https://warsawsneakerstore.com/menu/nowosci\n",
      "saving data scraped with query sklep warszawa\n",
      "querying bookstore london\n"
     ]
    },
    {
     "name": "stderr",
     "output_type": "stream",
     "text": [
      "1it [00:05,  5.59s/it]"
     ]
    },
    {
     "name": "stdout",
     "output_type": "stream",
     "text": [
      "Error scraping https://www.visitlondon.com/things-to-do/shopping/books/top-bookshops-in-london: 403 Client Error: Forbidden for url: https://www.visitlondon.com/things-to-do/shopping/books/top-bookshops-in-london\n"
     ]
    },
    {
     "name": "stderr",
     "output_type": "stream",
     "text": [
      "3it [00:06,  1.42s/it]"
     ]
    },
    {
     "name": "stdout",
     "output_type": "stream",
     "text": [
      "Error scraping https://www.foyles.co.uk/: 403 Client Error: Forbidden for url: https://www.foyles.co.uk/\n",
      "Error scraping https://www.waterstones.com/bookshops/piccadilly: 403 Client Error: Forbidden for url: https://www.waterstones.com/bookshops/piccadilly\n"
     ]
    },
    {
     "name": "stderr",
     "output_type": "stream",
     "text": [
      "\n",
      "0it [00:10,  1.07s/it]"
     ]
    },
    {
     "name": "stdout",
     "output_type": "stream",
     "text": [
      "saving data scraped with query bookstore london\n",
      "querying shop france\n"
     ]
    },
    {
     "name": "stderr",
     "output_type": "stream",
     "text": [
      "3it [00:07,  1.87s/it]"
     ]
    },
    {
     "name": "stdout",
     "output_type": "stream",
     "text": [
      "Error scraping https://www.tripadvisor.com/Attractions-g187070-Activities-c26-France.html: 403 Client Error: Forbidden for url: https://www.tripadvisor.com/Attractions-g187070-Activities-c26-France.html\n"
     ]
    },
    {
     "name": "stderr",
     "output_type": "stream",
     "text": [
      "\n",
      "0it [00:15,  1.56s/it]"
     ]
    },
    {
     "name": "stdout",
     "output_type": "stream",
     "text": [
      "saving data scraped with query shop france\n",
      "querying shop germany\n"
     ]
    },
    {
     "name": "stderr",
     "output_type": "stream",
     "text": [
      "4it [00:06,  1.07s/it]"
     ]
    },
    {
     "name": "stdout",
     "output_type": "stream",
     "text": [
      "Error scraping https://www.tripadvisor.com/Attractions-g187275-Activities-c26-Germany.html: 403 Client Error: Forbidden for url: https://www.tripadvisor.com/Attractions-g187275-Activities-c26-Germany.html\n"
     ]
    },
    {
     "name": "stderr",
     "output_type": "stream",
     "text": [
      "10it [00:10,  1.04s/it]"
     ]
    },
    {
     "name": "stdout",
     "output_type": "stream",
     "text": [
      "Error scraping https://www.etsy.com/market/shops_from_germany: 403 Client Error: Forbidden for url: https://www.etsy.com/market/shops_from_germany\n",
      "saving data scraped with query shop germany\n"
     ]
    },
    {
     "name": "stderr",
     "output_type": "stream",
     "text": [
      "\n"
     ]
    }
   ],
   "source": [
    "queries = ['shop italy', 'sklep warszawa', 'bookstore london', 'shop france', 'shop germany']\n",
    "\n",
    "for query in queries:\n",
    "    print(f'querying {query}')\n",
    "    results = scrape_from_search(query, num=10, stop=10, pause=2)\n",
    "    with open(f'{os.path.join(scrape_path, query)}.pkl', 'wb') as f:\n",
    "        print(f'saving data scraped with query {query}')\n",
    "        pickle.dump(results, f)"
   ]
  },
  {
   "cell_type": "markdown",
   "id": "c948f32b-4b95-4ece-b38c-5ad4c877f11f",
   "metadata": {
    "jp-MarkdownHeadingCollapsed": true
   },
   "source": [
    "# Auxiliary data generation functions"
   ]
  },
  {
   "cell_type": "code",
   "execution_count": 15,
   "id": "3f0c942b-98e5-4903-a786-4effcc8adac4",
   "metadata": {},
   "outputs": [],
   "source": [
    "def text_only_labeling(text, tags):\n",
    "    prompt = f\"\"\"\n",
    "    You are an NER tagging assistant. Your task is to label all entities in the text based on the tags provided.\n",
    "    Here are the tags: {', '.join(tags)}\n",
    "    Use {tags[0]} whenever an entity does not match any other tag. It is imperative that you label everything in the text. Don't make the entities too short.\n",
    "\n",
    "    For each entity, return the entity and its tag.\n",
    "\n",
    "    Input text: \"{text}\"\n",
    "\n",
    "    Respond with the entities in this JSON format:\n",
    "    [\n",
    "        {{ \"entity\": str, \"tag\": str }},\n",
    "        ...\n",
    "    ]\n",
    "    \"\"\"\n",
    "    \n",
    "    response = client.chat.completions.create(\n",
    "        messages=[{'role': 'user', 'content': prompt}],\n",
    "        model='gpt-4o',\n",
    "        temperature=0,\n",
    "        response_format={'type': 'json_object'},\n",
    "    )\n",
    "\n",
    "    return response.choices[0].message.content\n",
    "\n",
    "def parse_response(response):\n",
    "    try:\n",
    "        parsed_data = json.loads(response)\n",
    "    except json.JSONDecodeError as e:\n",
    "        raise ValueError(f'Error parsing JSON: {e}, in response: {response}')\n",
    "        \n",
    "    tokens = []\n",
    "    tags = []\n",
    "\n",
    "    if type(parsed_data) is list:\n",
    "        entities = parsed_data\n",
    "    elif type(parsed_data) is dict:\n",
    "        if 'entities' in parsed_data.keys():\n",
    "            entities = parsed_data['entities']\n",
    "        else:\n",
    "            entities = [parsed_data]\n",
    "        \n",
    "    for entity in entities:\n",
    "        token = entity.get('entity')\n",
    "        tag = entity.get('tag')\n",
    "        if token is not None and tag is not None:\n",
    "            tokens.append(token)\n",
    "            tags.append(tag)\n",
    "        else:\n",
    "            raise ValueError(f'Unexpected response format: {response}')\n",
    "\n",
    "    return tokens, tags\n",
    "\n",
    "def chunk_string_by_words(text, chunk_size=64):\n",
    "    words = text.split()\n",
    "    chunks = [words[i:i + chunk_size] for i in range(0, len(words), chunk_size)]\n",
    "    chunked_text = [' '.join(chunk) for chunk in chunks]\n",
    "    \n",
    "    return chunked_text\n",
    "\n",
    "def prepare_string_list(texts):\n",
    "    texts_filtered = [s for s in texts if s != '']\n",
    "    texts_chunked = []\n",
    "\n",
    "    for text in texts_filtered:\n",
    "        texts_chunked += chunk_string_by_words(text)\n",
    "\n",
    "    return texts_chunked\n",
    "\n",
    "def prepare_csv(path):\n",
    "    df = pd.read_csv(path)\n",
    "    df.columns = df.columns.str.replace(' ', '_').str.lower()\n",
    "\n",
    "    if 'text' not in df.columns:\n",
    "        raise ValueError('no text column in csv')\n",
    "    \n",
    "    grouping_columns = ['application_name', 'seen_timestamp']\n",
    "\n",
    "    for col_name in grouping_columns:\n",
    "        if col_name not in df.columns:\n",
    "            raise ValueError(f'no {col_name} column in csv')\n",
    "    \n",
    "    grouped_dfs = [group for _, group in df.groupby(grouping_columns)]\n",
    "    view_texts_coalesced = [' '.join(df['text'].dropna()) for df in grouped_dfs]\n",
    "\n",
    "    return prepare_string_list(view_texts_coalesced)\n",
    "\n",
    "def generate_data(texts, ner_tags):\n",
    "    tokens_list = []\n",
    "    tags_list = []\n",
    "    \n",
    "    for text in tqdm(texts):\n",
    "        try:\n",
    "            response = text_only_labeling(text, ner_tags)\n",
    "            tokens, tags = parse_response(response)\n",
    "            tokens_list.append(tokens)\n",
    "            tags_list.append(tags)\n",
    "        except Exception as e:\n",
    "            print(e)\n",
    "\n",
    "    return tokens_list, tags_list\n",
    "\n",
    "def create_dataset(tokens_list, tags_list, ner_tags):\n",
    "    dataset = Dataset.from_dict({'tokens': tokens_list, 'ner_tags': tags_list})\n",
    "    dataset = dataset.cast_column('ner_tags', Sequence(feature=ner_tags))\n",
    "    dataset = dataset.add_column('id', [i for i in range(len(dataset))])\n",
    "    \n",
    "    trainvalid_test = dataset.train_test_split(test_size=0.2)\n",
    "    train_valid = trainvalid_test['train'].train_test_split(test_size=0.2)\n",
    "    split_dataset = DatasetDict({\n",
    "        'train': train_valid['train'],\n",
    "        'test': trainvalid_test['test'],\n",
    "        'validation': train_valid['test']}\n",
    "    )\n",
    "    \n",
    "    return split_dataset\n",
    "\n",
    "def checkpoint_name(path):\n",
    "    return f'{os.path.join(checkpoints_path, Path(path).stem)}.pkl'\n",
    "\n",
    "def remove_irrelevant_data(tokens_list, tags_list, drop_prob=0.8):\n",
    "    cleaned_tokens_list = []\n",
    "    cleaned_tags_list = []\n",
    "\n",
    "    for tokens, tags in zip(tokens_list, tags_list, strict=True):\n",
    "        if not tags:\n",
    "            continue\n",
    "            \n",
    "        if all(item == 'N/A' for item in tags) and random.random() < drop_prob:\n",
    "            continue\n",
    "\n",
    "        cleaned_tokens_list.append(tokens)\n",
    "        cleaned_tags_list.append(tags)\n",
    "\n",
    "    return cleaned_tokens_list, cleaned_tags_list"
   ]
  },
  {
   "cell_type": "markdown",
   "id": "e6163a7c-be18-41a9-9807-6022c7fb0da6",
   "metadata": {},
   "source": [
    "# Generate data\n",
    "\n",
    "This part of the script will fetch all csv files from a `csv` directory and attempt to generate labeled data with them."
   ]
  },
  {
   "cell_type": "code",
   "execution_count": null,
   "id": "35d84f9d-a339-4fd6-9ec0-738acf649e4f",
   "metadata": {
    "scrolled": true
   },
   "outputs": [],
   "source": [
    "ner_tags = ClassLabel(names=['N/A', 'PRICE', 'PRODUCT', 'DISCOUNT_PERCENTAGE', 'QUANTITY', 'DATE'])\n",
    "\n",
    "for csv_file in Path(csv_path).glob('*.csv'):\n",
    "    if os.path.exists(checkpoint_name(csv_file)):\n",
    "        print(f'skipping {csv_file}')\n",
    "        continue\n",
    "        \n",
    "    try:\n",
    "        print(f'generating data using {csv_file}')\n",
    "        texts = prepare_csv(csv_file)\n",
    "        tokens_list, tags_list = generate_data(texts, ner_tags.names)\n",
    "        print(f'generated {len(tokens_list)} examples')\n",
    "        with open(checkpoint_name(csv_file), 'wb') as f:\n",
    "            print(f'saving checkpoint {checkpoint_name(csv_file)}')\n",
    "            pickle.dump((tokens_list, tags_list), f)\n",
    "        \n",
    "    except ValueError as e:\n",
    "        print(e)\n",
    "\n",
    "for scrape_file in Path(scrape_path).glob('*.pkl'):\n",
    "    if os.path.exists(checkpoint_name(scrape_file)):\n",
    "        print(f'skipping {scrape_file}')\n",
    "        continue\n",
    "        \n",
    "    try:\n",
    "        print(f'generating data using {scrape_file}')\n",
    "        with open(scrape_file, 'rb') as f:\n",
    "            raw_texts = pickle.load(f)\n",
    "        \n",
    "        texts = prepare_string_list(raw_texts)\n",
    "        tokens_list, tags_list = generate_data(texts, ner_tags.names)\n",
    "        tokens_list, tags_list = remove_irrelevant_data(tokens_list, tags_list)\n",
    "        print(f'generated {len(tokens_list)} examples')\n",
    "        with open(checkpoint_name(scrape_file), 'wb') as f:\n",
    "            print(f'saving checkpoint {checkpoint_name(scrape_file)}')\n",
    "            pickle.dump((tokens_list, tags_list), f)\n",
    "        \n",
    "    except ValueError as e:\n",
    "        print(e)"
   ]
  },
  {
   "cell_type": "markdown",
   "id": "6fc1a915-902d-4b1d-a3c9-901e6766a7ce",
   "metadata": {},
   "source": [
    "# Create dataset"
   ]
  },
  {
   "cell_type": "code",
   "execution_count": 16,
   "id": "a4bb3e90-40cf-49bc-83fa-c9dec4bc3021",
   "metadata": {},
   "outputs": [
    {
     "data": {
      "application/vnd.jupyter.widget-view+json": {
       "model_id": "fa384722b6f24b49a94711a70c0dd9f7",
       "version_major": 2,
       "version_minor": 0
      },
      "text/plain": [
       "Casting the dataset:   0%|          | 0/104 [00:00<?, ? examples/s]"
      ]
     },
     "metadata": {},
     "output_type": "display_data"
    }
   ],
   "source": [
    "tokens_list = []\n",
    "tags_list = []\n",
    "\n",
    "for pkl_file in Path(checkpoints_path).glob('*.pkl'):\n",
    "    with open(pkl_file, 'rb') as f:\n",
    "        tokens, tags = pickle.load(f)\n",
    "\n",
    "    tokens_list += tokens\n",
    "    tags_list += tags\n",
    "\n",
    "dataset = create_dataset(tokens_list, tags_list, ner_tags)"
   ]
  },
  {
   "cell_type": "markdown",
   "id": "160987af-a3ea-467b-ae41-5e0b04b18abf",
   "metadata": {},
   "source": [
    "# Save dataset"
   ]
  },
  {
   "cell_type": "code",
   "execution_count": null,
   "id": "70436fd4-7946-423d-9a08-667aa78945cb",
   "metadata": {},
   "outputs": [],
   "source": [
    "dataset.push_to_hub('murmuras_labeled_data', private=True)"
   ]
  }
 ],
 "metadata": {
  "kernelspec": {
   "display_name": "Python 3 (ipykernel)",
   "language": "python",
   "name": "python3"
  },
  "language_info": {
   "codemirror_mode": {
    "name": "ipython",
    "version": 3
   },
   "file_extension": ".py",
   "mimetype": "text/x-python",
   "name": "python",
   "nbconvert_exporter": "python",
   "pygments_lexer": "ipython3",
   "version": "3.12.7"
  }
 },
 "nbformat": 4,
 "nbformat_minor": 5
}
